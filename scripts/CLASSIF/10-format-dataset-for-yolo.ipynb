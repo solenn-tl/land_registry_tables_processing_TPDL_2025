{
 "cells": [
  {
   "cell_type": "markdown",
   "id": "c14dec77-c88d-46f2-a1ba-d64570aabd7d",
   "metadata": {},
   "source": [
    "# 10 - Format dataset for YOLO-cls fune-tuning"
   ]
  },
  {
   "cell_type": "markdown",
   "id": "da9acb6b-ff40-4991-bcce-7724e453d320",
   "metadata": {},
   "source": [
    "**You can skip this notebook by downloading the dataset on [Zenodo](https://zenodo.org/10.5281/zenodo.15411507).**\n",
    "\n",
    "Create a dataset to train a YOLO-cls model. \n",
    "```\n",
    "cadastre_classif/\n",
    "├── data.yaml\n",
    "├── images/\n",
    "│   ├── train/\n",
    "│   │   ├── classe1\n",
    "│   │   │   ├── img1.jpg\n",
    "│   ├── val/\n",
    "│   │   ├── classe1\n",
    "│   │   │   ├── img10.jpg\n",
    "│   └── test/\n",
    "│   │   ├── classe1\n",
    "│   │   │   ├── img100.jpg\n",
    "```"
   ]
  },
  {
   "cell_type": "code",
   "execution_count": 2,
   "id": "ccf45b53-4c3d-4367-b70e-185d3fc1bbec",
   "metadata": {},
   "outputs": [],
   "source": [
    "import json\n",
    "import pandas as pd\n",
    "import cv2\n",
    "import glob\n",
    "from arkindex import ArkindexClient"
   ]
  },
  {
   "cell_type": "code",
   "execution_count": 2,
   "id": "62d6ce07-5f9b-4b7d-88d9-2d5e6a05bcf7",
   "metadata": {},
   "outputs": [],
   "source": [
    "import sys\n",
    "import os\n",
    "# Access to the utils directory\n",
    "current_dir = os.getcwd()\n",
    "utils_dir = os.path.join(current_dir, '..', 'utils')\n",
    "sys.path.append(utils_dir)"
   ]
  },
  {
   "cell_type": "code",
   "execution_count": null,
   "id": "189f5610-c645-4f05-80f2-6a72605453ca",
   "metadata": {},
   "outputs": [],
   "source": [
    "from download_utils import download_images_from_list, download_iiif_images_using_arkindex"
   ]
  },
  {
   "cell_type": "code",
   "execution_count": 4,
   "id": "296c13ff-ff7b-4890-94fb-c299690cf7fb",
   "metadata": {},
   "outputs": [],
   "source": [
    "ROOT = '/home/STual/DAN-cadastre'"
   ]
  },
  {
   "cell_type": "markdown",
   "id": "3144151a-5ee1-4216-ad23-b6d49b4051e8",
   "metadata": {},
   "source": [
    "## 1. Download images using IIIF and Arkindex"
   ]
  },
  {
   "cell_type": "code",
   "execution_count": 4,
   "id": "3eb84e81-040c-4ac2-87a5-4d13c765f3e3",
   "metadata": {},
   "outputs": [],
   "source": [
    "cli = ArkindexClient('cdf9b285c9da6e82cddbf18aa070dc471a13facb')"
   ]
  },
  {
   "cell_type": "code",
   "execution_count": 5,
   "id": "68a33441-eea0-4a87-a51a-6729e2cb11b6",
   "metadata": {},
   "outputs": [
    {
     "data": {
      "text/plain": [
       "1016"
      ]
     },
     "execution_count": 5,
     "metadata": {},
     "output_type": "execute_result"
    }
   ],
   "source": [
    "file = ROOT + '/data/CLASSIF/yolo_gt/metadata.json' #This file is available on Zenodo\n",
    "with open(file) as gt_file:\n",
    "    gt_dict = json.load(gt_file)\n",
    "\n",
    "dataset = pd.DataFrame.from_dict(gt_dict)\n",
    "dataset.reset_index(level=0, inplace=True)\n",
    "len(dataset)"
   ]
  },
  {
   "cell_type": "code",
   "execution_count": null,
   "id": "a7c3730a-af63-48e6-b4a4-e38068879f3d",
   "metadata": {},
   "outputs": [],
   "source": [
    "DOWNLOAD = True\n",
    "\n",
    "if DOWNLOAD:\n",
    "\n",
    "    base_url = \"https://iiif.geohistoricaldata.org/iiif/2/\" # IIIF server\n",
    "    column_arkindex_uuid = \"id\"\n",
    "    column_elem_coordinates = \"coords\"\n",
    "    column_image_name = \"image_name\"\n",
    "    save_directory = \"/home/STual/DAN-cadastre/data/CLASSIF/yolo_gt/images\"\n",
    "    column_subfolder = \"subfolder\"\n",
    "\n",
    "    dataset[\"subfolder\"] = dataset[\"subset\"] + '/' + dataset[\"classe\"]\n",
    "\n",
    "    download_iiif_images_using_arkindex(dataset, base_url, column_arkindex_uuid, column_elem_coordinates, column_image_name, save_directory, column_subfolder)"
   ]
  },
  {
   "cell_type": "code",
   "execution_count": 5,
   "id": "7f5d2efa-18ef-4157-bd5a-b29036ac40d5",
   "metadata": {},
   "outputs": [
    {
     "name": "stdout",
     "output_type": "stream",
     "text": [
      "1016\n"
     ]
    }
   ],
   "source": [
    "print(len(glob.glob(ROOT + '/data/CLASSIF/yolo_gt/images/*/*/*.jpg')))"
   ]
  }
 ],
 "metadata": {
  "kernelspec": {
   "display_name": "Python 3 (ipykernel)",
   "language": "python",
   "name": "python3"
  },
  "language_info": {
   "codemirror_mode": {
    "name": "ipython",
    "version": 3
   },
   "file_extension": ".py",
   "mimetype": "text/x-python",
   "name": "python",
   "nbconvert_exporter": "python",
   "pygments_lexer": "ipython3",
   "version": "3.10.12"
  }
 },
 "nbformat": 4,
 "nbformat_minor": 5
}
