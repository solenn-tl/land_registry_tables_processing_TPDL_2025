{
 "cells": [
  {
   "cell_type": "markdown",
   "id": "eb250eb3-6632-41b5-bb42-03432b112d93",
   "metadata": {},
   "source": [
    "# 30 - Demo to classify new pages"
   ]
  },
  {
   "cell_type": "code",
   "execution_count": null,
   "id": "dd1e84e4-524a-4ffd-8d92-8480d6453ce6",
   "metadata": {},
   "outputs": [],
   "source": [
    "from ultralytics import YOLO"
   ]
  },
  {
   "cell_type": "code",
   "execution_count": null,
   "id": "bff30163-dc7a-4720-9d2c-c24881875dac",
   "metadata": {},
   "outputs": [],
   "source": [
    "ROOT = '/home/STual/DAN-cadastre'"
   ]
  },
  {
   "cell_type": "code",
   "execution_count": null,
   "id": "2fd118b1-c5ed-4702-80a6-e2b4091988e1",
   "metadata": {},
   "outputs": [],
   "source": [
    "# Load a model\n",
    "model = YOLO(ROOT + \"/scripts/CLASSIF/runs/classify/train/weights/best.pt\")  # load an official model"
   ]
  },
  {
   "cell_type": "code",
   "execution_count": null,
   "id": "475f6d7d-0a81-435f-ac47-975c7439063d",
   "metadata": {},
   "outputs": [],
   "source": [
    "# Predict with the model\n",
    "results = model(ROOT + \"/otherimages/29/FRAD029_3P156_04_007.jpg\")  # predict on an image from 29"
   ]
  },
  {
   "cell_type": "markdown",
   "id": "f4b2f330-7abc-4e21-8aec-938183120b27",
   "metadata": {},
   "source": [
    "```\n",
    "image 1/1 /home/STual/DAN-cadastre/otherimages/29/FRAD029_3P156_04_007.jpg: 800x800 ets_tab_p1 1.00, ets_recap_inter 0.00, ets_resume 0.00, ets_couv 0.00, ets_tab_p2 0.00, 5.3ms\n",
    "Speed: 59.4ms preprocess, 5.3ms inference, 0.1ms postprocess per image at shape (1, 3, 800, 800)\n",
    "```"
   ]
  }
 ],
 "metadata": {
  "kernelspec": {
   "display_name": "Python 3 (ipykernel)",
   "language": "python",
   "name": "python3"
  },
  "language_info": {
   "codemirror_mode": {
    "name": "ipython",
    "version": 3
   },
   "file_extension": ".py",
   "mimetype": "text/x-python",
   "name": "python",
   "nbconvert_exporter": "python",
   "pygments_lexer": "ipython3",
   "version": "3.10.12"
  }
 },
 "nbformat": 4,
 "nbformat_minor": 5
}
