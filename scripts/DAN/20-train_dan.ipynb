{
 "cells": [
  {
   "cell_type": "markdown",
   "metadata": {},
   "source": [
    "# 20. Train DAN\n",
    "\n",
    "This notebook presents the command to fine-tune DAN.\n",
    "It requires configuration file (JSON) that have to be set (see in *config* folder).\n",
    "\n",
    "It is preferable to run this command into a persistent session (byobu) in the terminal. For instance, to train DAN for IE using the initial registers dataset, training is around 45 hours on 2 A40 GPUs."
   ]
  },
  {
   "cell_type": "raw",
   "metadata": {},
   "source": [
    "teklia-dan train --config /home/STual/DAN-cadastre/configs/config2025-prod.json"
   ]
  },
  {
   "cell_type": "markdown",
   "metadata": {},
   "source": [
    "It is also recommended to use tensorboard (or an alternative tool) to track loss and metrics evolution during the training."
   ]
  }
 ],
 "metadata": {
  "kernelspec": {
   "display_name": "Python 3 (ipykernel)",
   "language": "python",
   "name": "python3"
  },
  "language_info": {
   "codemirror_mode": {
    "name": "ipython",
    "version": 3
   },
   "file_extension": ".py",
   "mimetype": "text/x-python",
   "name": "python",
   "nbconvert_exporter": "python",
   "pygments_lexer": "ipython3",
   "version": "3.10.12"
  }
 },
 "nbformat": 4,
 "nbformat_minor": 4
}
