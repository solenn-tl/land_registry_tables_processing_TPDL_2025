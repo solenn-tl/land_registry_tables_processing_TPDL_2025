{
 "cells": [
  {
   "cell_type": "markdown",
   "metadata": {},
   "source": [
    "## 22. Fix bug on model train with paralellized process\n",
    "This step can be skipped if the model has been trained with a single GPU.\n",
    "\n",
    "Otherwise, the following script has to be use to fix a bug on the .pt that we plan to use for inference on new images."
   ]
  },
  {
   "cell_type": "code",
   "execution_count": 10,
   "metadata": {},
   "outputs": [],
   "source": [
    "import torch\n",
    "\n",
    "ROOT = \"/home/STual/DAN-cadastre\""
   ]
  },
  {
   "cell_type": "code",
   "execution_count": null,
   "metadata": {},
   "outputs": [],
   "source": [
    "incompatible_state_dict = torch.load(ROOT + \"/outputs/training120325_config2025_prod_2000epochs/model.pt\")"
   ]
  },
  {
   "cell_type": "code",
   "execution_count": 11,
   "metadata": {},
   "outputs": [],
   "source": [
    "def rename_module_keys_recursive(obj):\n",
    "    if isinstance(obj, dict):\n",
    "        new_dict = {}\n",
    "        for key, value in obj.items():\n",
    "            if type(key) is str:\n",
    "                if 'module.' in key:\n",
    "                    new_key = key.replace('module.', '')\n",
    "                else:\n",
    "                    new_key = key\n",
    "\n",
    "                new_dict[new_key] = rename_module_keys_recursive(value)\n",
    "\n",
    "        return new_dict\n",
    "    elif isinstance(obj, list):\n",
    "        return [rename_module_keys_recursive(item) for item in obj]\n",
    "    else:\n",
    "        return obj\n",
    "\n",
    "# Rename keys containing 'module.' in nested dictionaries\n",
    "incompatible_state_dict = rename_module_keys_recursive(incompatible_state_dict)"
   ]
  },
  {
   "cell_type": "code",
   "execution_count": 13,
   "metadata": {},
   "outputs": [],
   "source": [
    "torch.save(incompatible_state_dict, \"/home/STual/DAN-cadastre/outputs/training120325_config2025_prod_2000epochs/model_fixed.pt\")"
   ]
  }
 ],
 "metadata": {
  "kernelspec": {
   "display_name": "Python 3 (ipykernel)",
   "language": "python",
   "name": "python3"
  },
  "language_info": {
   "codemirror_mode": {
    "name": "ipython",
    "version": 3
   },
   "file_extension": ".py",
   "mimetype": "text/x-python",
   "name": "python",
   "nbconvert_exporter": "python",
   "pygments_lexer": "ipython3",
   "version": "3.10.12"
  }
 },
 "nbformat": 4,
 "nbformat_minor": 4
}
