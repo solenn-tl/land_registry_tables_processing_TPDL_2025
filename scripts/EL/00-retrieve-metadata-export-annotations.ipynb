{
 "cells": [
  {
   "cell_type": "markdown",
   "id": "229b50e8-b2c5-481a-aa09-acc71cd00abd",
   "metadata": {},
   "source": [
    "# 00 - Retrieve elements and metadata on Arkindex"
   ]
  },
  {
   "cell_type": "markdown",
   "id": "dcfca53f-d4f7-4e6c-b028-7809eb3967eb",
   "metadata": {},
   "source": [
    "This notebook aims to retrieve data on Arkindex using Arkindex API. More precisly : \n",
    "1. retrieve the considered registers pages\n",
    "2. retrieve the content of the page covers\n",
    "3. retrieve the annotations of the tables and if needed create inference-like jsons"
   ]
  },
  {
   "cell_type": "code",
   "execution_count": 1,
   "id": "645bda20-ac9c-4316-8fcf-94215a9811e5",
   "metadata": {},
   "outputs": [],
   "source": [
    "import pandas as pd\n",
    "import glob\n",
    "import json\n",
    "from arkindex import ArkindexClient"
   ]
  },
  {
   "cell_type": "code",
   "execution_count": 2,
   "id": "63ecf6d3-e4ea-4d40-b263-28799603f351",
   "metadata": {},
   "outputs": [],
   "source": [
    "import sys\n",
    "import os\n",
    "# Access to the utils directory\n",
    "current_dir = os.getcwd()\n",
    "utils_dir = os.path.join(current_dir, '..', 'utils')\n",
    "sys.path.append(utils_dir)"
   ]
  },
  {
   "cell_type": "markdown",
   "id": "9c97bfbd-a679-49ed-93b0-1b1096adde1d",
   "metadata": {},
   "source": [
    "### Parameters"
   ]
  },
  {
   "cell_type": "code",
   "execution_count": 10,
   "id": "5aea585b-6605-4a33-88ab-9e22ccbd1418",
   "metadata": {},
   "outputs": [],
   "source": [
    "NAME = \"LHAY\"\n",
    "FOLDER = f\"/home/STual/DAN-cadastre/inference/{NAME}\"\n",
    "SAVE_FOLDER = f'/home/STual/DAN-cadastre/data/{NAME}'"
   ]
  },
  {
   "cell_type": "code",
   "execution_count": 4,
   "id": "80067bd4-bd1f-402c-895b-315067ccee87",
   "metadata": {},
   "outputs": [],
   "source": [
    "PAGE_ELEMENTS_SLUGS = [\"page_add\",\"page_add_to_cor\"] #Marolles : [\"page\", \"page_marolles\"]\n",
    "ARKINDEX_FOLDER = \"2ec47da6-116b-4f53-bd93-da7aac699a4a\" #marolles : \"2a045b63-2866-4292-a168-87d342be800b\"\n",
    "PAGE_CLASSES = [\"ets_couv\",\"ets_tab_p1\",\"ets_tab_p2\",\"ets_recap_inter\",\"ets_resume\"]"
   ]
  },
  {
   "cell_type": "code",
   "execution_count": 5,
   "id": "4ea728f0-1e50-4809-ba90-44fb4b419f4c",
   "metadata": {},
   "outputs": [],
   "source": [
    "cli = ArkindexClient('cdf9b285c9da6e82cddbf18aa070dc471a13facb')"
   ]
  },
  {
   "cell_type": "markdown",
   "id": "919c873e-a4eb-4f9e-b9cc-5a602df08435",
   "metadata": {},
   "source": [
    "## 1. Retrieve pages infos"
   ]
  },
  {
   "cell_type": "code",
   "execution_count": 6,
   "id": "9c4a4f22-db92-4ec5-b2f2-c582f89de55e",
   "metadata": {},
   "outputs": [
    {
     "name": "stdout",
     "output_type": "stream",
     "text": [
      "32 elements of type page_add, page_add_to_cor have been retrieved\n"
     ]
    }
   ],
   "source": [
    "elements = cli.request('ListElementChildren',\n",
    "                   id=ARKINDEX_FOLDER,type=PAGE_ELEMENTS_SLUGS[0],\n",
    "                   recursive=True,folder=False,page_size=500,page=1,with_classes=True,\n",
    "                )\n",
    "for slug in PAGE_ELEMENTS_SLUGS[1:]:\n",
    "    elements2 = cli.request('ListElementChildren',\n",
    "                           id=ARKINDEX_FOLDER,type=slug,\n",
    "                           recursive=True,folder=False,page_size=500,page=1,with_classes=True,\n",
    "                        )\n",
    "    elements[\"results\"].extend(elements2[\"results\"])\n",
    "print(f\"{len(elements['results'])} elements of type {', '.join(PAGE_ELEMENTS_SLUGS)} have been retrieved\")"
   ]
  },
  {
   "cell_type": "markdown",
   "id": "699f028f-9fc0-4e51-ae9e-24b4e2ed8c49",
   "metadata": {},
   "source": [
    "Now, we create a table with the informations of each element (pages) and save them to a CSV."
   ]
  },
  {
   "cell_type": "code",
   "execution_count": 11,
   "id": "83e25032-9ff9-44cc-a203-0b341caaa8a8",
   "metadata": {},
   "outputs": [],
   "source": [
    "from arkindex_utils import listelements_withclass_json_to_table\n",
    "\n",
    "df_commune = listelements_withclass_json_to_table(elements,PAGE_CLASSES,[\"ets_blank\"],[\"is_blank\"])\n",
    "df_commune = df_commune[df_commune[\"classe\"].isin([\"ets_couv\", \"ets_tab_p1\"])]\n",
    "df_commune['image_index'] = df_commune['image_index'].astype('int')\n",
    "df_commune.sort_values(by=['image_index'],inplace=True)\n",
    "df_commune.to_csv(f'{SAVE_FOLDER}/{NAME}_pages.csv',index=False)"
   ]
  },
  {
   "cell_type": "code",
   "execution_count": 13,
   "id": "1d8fe5af-0a1f-411d-b59c-2cf8391de41e",
   "metadata": {},
   "outputs": [
    {
     "data": {
      "text/html": [
       "<div>\n",
       "<style scoped>\n",
       "    .dataframe tbody tr th:only-of-type {\n",
       "        vertical-align: middle;\n",
       "    }\n",
       "\n",
       "    .dataframe tbody tr th {\n",
       "        vertical-align: top;\n",
       "    }\n",
       "\n",
       "    .dataframe thead th {\n",
       "        text-align: right;\n",
       "    }\n",
       "</style>\n",
       "<table border=\"1\" class=\"dataframe\">\n",
       "  <thead>\n",
       "    <tr style=\"text-align: right;\">\n",
       "      <th></th>\n",
       "      <th>id</th>\n",
       "      <th>type</th>\n",
       "      <th>name</th>\n",
       "      <th>coords</th>\n",
       "      <th>image_id</th>\n",
       "      <th>image_name</th>\n",
       "      <th>commune</th>\n",
       "      <th>dossier_cote</th>\n",
       "      <th>image_cote</th>\n",
       "      <th>image_index</th>\n",
       "      <th>image_url</th>\n",
       "      <th>image_width</th>\n",
       "      <th>image_height</th>\n",
       "      <th>is_blank</th>\n",
       "      <th>classe</th>\n",
       "    </tr>\n",
       "  </thead>\n",
       "  <tbody>\n",
       "    <tr>\n",
       "      <th>0</th>\n",
       "      <td>546500d4-a13d-47d4-8958-d5add3eca984</td>\n",
       "      <td>page_add</td>\n",
       "      <td>FRAD094_3P_000275_01_0132</td>\n",
       "      <td>[[0, 0], [0, 5664], [3674, 5664], [3674, 0], [...</td>\n",
       "      <td>77c043e8-c680-4b65-9b5c-a8fc55cca1c1</td>\n",
       "      <td>CADASTRE%2FETATS_DE_SECTION%2FLHAY%2FFRAD094_3...</td>\n",
       "      <td>LHAY</td>\n",
       "      <td>FRAD094_3P_000275_01</td>\n",
       "      <td>FRAD094_3P_000275_01_0132</td>\n",
       "      <td>132</td>\n",
       "      <td>https://iiif.geohistoricaldata.org/iiif/2/CADA...</td>\n",
       "      <td>3674</td>\n",
       "      <td>5664</td>\n",
       "      <td>False</td>\n",
       "      <td>ets_couv</td>\n",
       "    </tr>\n",
       "    <tr>\n",
       "      <th>3</th>\n",
       "      <td>eb4fc8e4-abb6-4b61-b3cc-3b244611e66f</td>\n",
       "      <td>page_add_to_cor</td>\n",
       "      <td>FRAD094_3P_000275_01_0133</td>\n",
       "      <td>[[0, 0], [0, 5656], [3565, 5656], [3565, 0], [...</td>\n",
       "      <td>89c4f1f9-b119-4229-861c-fb64d953099d</td>\n",
       "      <td>CADASTRE%2FETATS_DE_SECTION%2FLHAY%2FFRAD094_3...</td>\n",
       "      <td>LHAY</td>\n",
       "      <td>FRAD094_3P_000275_01</td>\n",
       "      <td>FRAD094_3P_000275_01_0133</td>\n",
       "      <td>133</td>\n",
       "      <td>https://iiif.geohistoricaldata.org/iiif/2/CADA...</td>\n",
       "      <td>3565</td>\n",
       "      <td>5656</td>\n",
       "      <td>False</td>\n",
       "      <td>ets_tab_p1</td>\n",
       "    </tr>\n",
       "    <tr>\n",
       "      <th>4</th>\n",
       "      <td>26d52fc2-aafc-4e58-91f8-68bd6851ad37</td>\n",
       "      <td>page_add_to_cor</td>\n",
       "      <td>FRAD094_3P_000275_01_0134</td>\n",
       "      <td>[[0, 0], [0, 5664], [3624, 5664], [3624, 0], [...</td>\n",
       "      <td>44136ba4-ebf7-442a-b7ff-5d40c17ba080</td>\n",
       "      <td>CADASTRE%2FETATS_DE_SECTION%2FLHAY%2FFRAD094_3...</td>\n",
       "      <td>LHAY</td>\n",
       "      <td>FRAD094_3P_000275_01</td>\n",
       "      <td>FRAD094_3P_000275_01_0134</td>\n",
       "      <td>134</td>\n",
       "      <td>https://iiif.geohistoricaldata.org/iiif/2/CADA...</td>\n",
       "      <td>3624</td>\n",
       "      <td>5664</td>\n",
       "      <td>False</td>\n",
       "      <td>ets_tab_p1</td>\n",
       "    </tr>\n",
       "    <tr>\n",
       "      <th>5</th>\n",
       "      <td>f937f814-1950-48e0-a095-bb61ee89b2f3</td>\n",
       "      <td>page_add_to_cor</td>\n",
       "      <td>FRAD094_3P_000275_01_0135</td>\n",
       "      <td>[[0, 0], [0, 5664], [3668, 5664], [3668, 0], [...</td>\n",
       "      <td>70c70abd-a0e5-49e2-ac06-52642f37ce48</td>\n",
       "      <td>CADASTRE%2FETATS_DE_SECTION%2FLHAY%2FFRAD094_3...</td>\n",
       "      <td>LHAY</td>\n",
       "      <td>FRAD094_3P_000275_01</td>\n",
       "      <td>FRAD094_3P_000275_01_0135</td>\n",
       "      <td>135</td>\n",
       "      <td>https://iiif.geohistoricaldata.org/iiif/2/CADA...</td>\n",
       "      <td>3668</td>\n",
       "      <td>5664</td>\n",
       "      <td>False</td>\n",
       "      <td>ets_tab_p1</td>\n",
       "    </tr>\n",
       "  </tbody>\n",
       "</table>\n",
       "</div>"
      ],
      "text/plain": [
       "                                     id             type  \\\n",
       "0  546500d4-a13d-47d4-8958-d5add3eca984         page_add   \n",
       "3  eb4fc8e4-abb6-4b61-b3cc-3b244611e66f  page_add_to_cor   \n",
       "4  26d52fc2-aafc-4e58-91f8-68bd6851ad37  page_add_to_cor   \n",
       "5  f937f814-1950-48e0-a095-bb61ee89b2f3  page_add_to_cor   \n",
       "\n",
       "                        name  \\\n",
       "0  FRAD094_3P_000275_01_0132   \n",
       "3  FRAD094_3P_000275_01_0133   \n",
       "4  FRAD094_3P_000275_01_0134   \n",
       "5  FRAD094_3P_000275_01_0135   \n",
       "\n",
       "                                              coords  \\\n",
       "0  [[0, 0], [0, 5664], [3674, 5664], [3674, 0], [...   \n",
       "3  [[0, 0], [0, 5656], [3565, 5656], [3565, 0], [...   \n",
       "4  [[0, 0], [0, 5664], [3624, 5664], [3624, 0], [...   \n",
       "5  [[0, 0], [0, 5664], [3668, 5664], [3668, 0], [...   \n",
       "\n",
       "                               image_id  \\\n",
       "0  77c043e8-c680-4b65-9b5c-a8fc55cca1c1   \n",
       "3  89c4f1f9-b119-4229-861c-fb64d953099d   \n",
       "4  44136ba4-ebf7-442a-b7ff-5d40c17ba080   \n",
       "5  70c70abd-a0e5-49e2-ac06-52642f37ce48   \n",
       "\n",
       "                                          image_name commune  \\\n",
       "0  CADASTRE%2FETATS_DE_SECTION%2FLHAY%2FFRAD094_3...    LHAY   \n",
       "3  CADASTRE%2FETATS_DE_SECTION%2FLHAY%2FFRAD094_3...    LHAY   \n",
       "4  CADASTRE%2FETATS_DE_SECTION%2FLHAY%2FFRAD094_3...    LHAY   \n",
       "5  CADASTRE%2FETATS_DE_SECTION%2FLHAY%2FFRAD094_3...    LHAY   \n",
       "\n",
       "           dossier_cote                 image_cote  image_index  \\\n",
       "0  FRAD094_3P_000275_01  FRAD094_3P_000275_01_0132          132   \n",
       "3  FRAD094_3P_000275_01  FRAD094_3P_000275_01_0133          133   \n",
       "4  FRAD094_3P_000275_01  FRAD094_3P_000275_01_0134          134   \n",
       "5  FRAD094_3P_000275_01  FRAD094_3P_000275_01_0135          135   \n",
       "\n",
       "                                           image_url  image_width  \\\n",
       "0  https://iiif.geohistoricaldata.org/iiif/2/CADA...         3674   \n",
       "3  https://iiif.geohistoricaldata.org/iiif/2/CADA...         3565   \n",
       "4  https://iiif.geohistoricaldata.org/iiif/2/CADA...         3624   \n",
       "5  https://iiif.geohistoricaldata.org/iiif/2/CADA...         3668   \n",
       "\n",
       "   image_height  is_blank      classe  \n",
       "0          5664     False    ets_couv  \n",
       "3          5656     False  ets_tab_p1  \n",
       "4          5664     False  ets_tab_p1  \n",
       "5          5664     False  ets_tab_p1  "
      ]
     },
     "execution_count": 13,
     "metadata": {},
     "output_type": "execute_result"
    }
   ],
   "source": [
    "df_commune[0:4]"
   ]
  },
  {
   "cell_type": "markdown",
   "id": "9fb4b08e-51e2-4cd5-b0e5-5fd5d65df060",
   "metadata": {},
   "source": [
    "## 2. Create page covers info files"
   ]
  },
  {
   "cell_type": "code",
   "execution_count": 15,
   "id": "32d0716c-b7f5-476d-b25a-6ef2036a1d4f",
   "metadata": {},
   "outputs": [],
   "source": [
    "EXTRACT_COVERS_CONTENT = True"
   ]
  },
  {
   "cell_type": "code",
   "execution_count": 17,
   "id": "e5ef4373-5ef0-4572-a327-ca2f5a82e897",
   "metadata": {},
   "outputs": [
    {
     "data": {
      "text/html": [
       "<div>\n",
       "<style scoped>\n",
       "    .dataframe tbody tr th:only-of-type {\n",
       "        vertical-align: middle;\n",
       "    }\n",
       "\n",
       "    .dataframe tbody tr th {\n",
       "        vertical-align: top;\n",
       "    }\n",
       "\n",
       "    .dataframe thead th {\n",
       "        text-align: right;\n",
       "    }\n",
       "</style>\n",
       "<table border=\"1\" class=\"dataframe\">\n",
       "  <thead>\n",
       "    <tr style=\"text-align: right;\">\n",
       "      <th></th>\n",
       "      <th>page_uuid</th>\n",
       "      <th>element_uuid</th>\n",
       "      <th>element_type</th>\n",
       "      <th>polygon</th>\n",
       "      <th>transcription_uuid</th>\n",
       "      <th>transcription</th>\n",
       "    </tr>\n",
       "  </thead>\n",
       "  <tbody>\n",
       "    <tr>\n",
       "      <th>0</th>\n",
       "      <td>546500d4-a13d-47d4-8958-d5add3eca984</td>\n",
       "      <td>7f4c890b-1c6d-4877-aca0-e63ec65918ea</td>\n",
       "      <td>ets_couv_dep</td>\n",
       "      <td>[[221, 696], [221, 857], [725, 857], [725, 696...</td>\n",
       "      <td>b7027a5a-c108-4c7b-84a3-cfa45b27ec45</td>\n",
       "      <td>DEPARTEMENT→de la Seine</td>\n",
       "    </tr>\n",
       "    <tr>\n",
       "      <th>1</th>\n",
       "      <td>546500d4-a13d-47d4-8958-d5add3eca984</td>\n",
       "      <td>44f6d3b8-0c3c-4fe0-81b3-6cef8fd09032</td>\n",
       "      <td>ets_couv_arr</td>\n",
       "      <td>[[225, 886], [225, 1044], [738, 1044], [738, 8...</td>\n",
       "      <td>b82a8058-c701-41e6-b16f-dafff6a6fc04</td>\n",
       "      <td>ARRONDISSEMENT→de Sceaux</td>\n",
       "    </tr>\n",
       "    <tr>\n",
       "      <th>2</th>\n",
       "      <td>546500d4-a13d-47d4-8958-d5add3eca984</td>\n",
       "      <td>8be3d995-a12f-4cb5-a17d-0813bd7186c9</td>\n",
       "      <td>ets_couv_canton</td>\n",
       "      <td>[[219, 1068], [219, 1227], [701, 1227], [701, ...</td>\n",
       "      <td>178bcbf4-87e3-4180-92b6-3274ff9d2965</td>\n",
       "      <td>CANTON→de Villejuif</td>\n",
       "    </tr>\n",
       "    <tr>\n",
       "      <th>3</th>\n",
       "      <td>546500d4-a13d-47d4-8958-d5add3eca984</td>\n",
       "      <td>0b58ce8e-5bed-4c4a-9b1d-8628eb984fd4</td>\n",
       "      <td>ets_couv_commune</td>\n",
       "      <td>[[208, 1240], [208, 1421], [653, 1421], [653, ...</td>\n",
       "      <td>e844d0be-4625-43f4-989e-f707e1c5e9b0</td>\n",
       "      <td>COMMUNE→de L'Hay</td>\n",
       "    </tr>\n",
       "    <tr>\n",
       "      <th>4</th>\n",
       "      <td>546500d4-a13d-47d4-8958-d5add3eca984</td>\n",
       "      <td>aa87f6b5-5845-44de-a525-4d431b21ad18</td>\n",
       "      <td>ets_couv_id</td>\n",
       "      <td>[[1347, 3122], [1347, 3396], [2572, 3396], [25...</td>\n",
       "      <td>c8f2dce9-dc40-4752-bae3-09f8920c6009</td>\n",
       "      <td>SECTION B</td>\n",
       "    </tr>\n",
       "    <tr>\n",
       "      <th>5</th>\n",
       "      <td>546500d4-a13d-47d4-8958-d5add3eca984</td>\n",
       "      <td>3acea58d-b30d-40a2-b0f2-0c0e018ef12c</td>\n",
       "      <td>ets_couv_name</td>\n",
       "      <td>[[855, 3378], [855, 3596], [2452, 3596], [2452...</td>\n",
       "      <td>c1c3421f-beff-4f00-ad86-20f724c4822a</td>\n",
       "      <td>dite de la Plaine</td>\n",
       "    </tr>\n",
       "  </tbody>\n",
       "</table>\n",
       "</div>"
      ],
      "text/plain": [
       "                              page_uuid                          element_uuid  \\\n",
       "0  546500d4-a13d-47d4-8958-d5add3eca984  7f4c890b-1c6d-4877-aca0-e63ec65918ea   \n",
       "1  546500d4-a13d-47d4-8958-d5add3eca984  44f6d3b8-0c3c-4fe0-81b3-6cef8fd09032   \n",
       "2  546500d4-a13d-47d4-8958-d5add3eca984  8be3d995-a12f-4cb5-a17d-0813bd7186c9   \n",
       "3  546500d4-a13d-47d4-8958-d5add3eca984  0b58ce8e-5bed-4c4a-9b1d-8628eb984fd4   \n",
       "4  546500d4-a13d-47d4-8958-d5add3eca984  aa87f6b5-5845-44de-a525-4d431b21ad18   \n",
       "5  546500d4-a13d-47d4-8958-d5add3eca984  3acea58d-b30d-40a2-b0f2-0c0e018ef12c   \n",
       "\n",
       "       element_type                                            polygon  \\\n",
       "0      ets_couv_dep  [[221, 696], [221, 857], [725, 857], [725, 696...   \n",
       "1      ets_couv_arr  [[225, 886], [225, 1044], [738, 1044], [738, 8...   \n",
       "2   ets_couv_canton  [[219, 1068], [219, 1227], [701, 1227], [701, ...   \n",
       "3  ets_couv_commune  [[208, 1240], [208, 1421], [653, 1421], [653, ...   \n",
       "4       ets_couv_id  [[1347, 3122], [1347, 3396], [2572, 3396], [25...   \n",
       "5     ets_couv_name  [[855, 3378], [855, 3596], [2452, 3596], [2452...   \n",
       "\n",
       "                     transcription_uuid             transcription  \n",
       "0  b7027a5a-c108-4c7b-84a3-cfa45b27ec45   DEPARTEMENT→de la Seine  \n",
       "1  b82a8058-c701-41e6-b16f-dafff6a6fc04  ARRONDISSEMENT→de Sceaux  \n",
       "2  178bcbf4-87e3-4180-92b6-3274ff9d2965       CANTON→de Villejuif  \n",
       "3  e844d0be-4625-43f4-989e-f707e1c5e9b0          COMMUNE→de L'Hay  \n",
       "4  c8f2dce9-dc40-4752-bae3-09f8920c6009                 SECTION B  \n",
       "5  c1c3421f-beff-4f00-ad86-20f724c4822a         dite de la Plaine  "
      ]
     },
     "metadata": {},
     "output_type": "display_data"
    }
   ],
   "source": [
    "COVERS_CSV_COLUMNS = [\"page_uuid\",\"element_uuid\",\"element_type\",\"polygon\",\"transcription_uuid\",\"transcription\"]\n",
    "\n",
    "if EXTRACT_COVERS_CONTENT:\n",
    "    df_commune_couv = df_commune[df_commune[\"classe\"] == \"ets_couv\"]\n",
    "    areas = []\n",
    "    for _, row in df_commune_couv.iterrows():\n",
    "        #List the areas\n",
    "        results = cli.request('ListElementChildren',\n",
    "                           id=row[\"id\"],\n",
    "                           with_transcriptions=True,page=1,page_size=500)\n",
    "        for l in results[\"results\"]:\n",
    "            area_id = l[\"id\"]\n",
    "            type_ =  l[\"type\"]\n",
    "            polygon = l[\"zone\"][\"polygon\"]\n",
    "            transcription_id = l[\"transcriptions\"][0][\"id\"]\n",
    "            transcription = l[\"transcriptions\"][0][\"text\"]\n",
    "            areas.append([row[\"id\"], area_id, type_, polygon, transcription_id, transcription])\n",
    "            \n",
    "    #Save data\n",
    "    areas_df = pd.DataFrame(areas,columns=COVERS_CSV_COLUMNS)\n",
    "    areas_df.to_csv(f'{SAVE_FOLDER}/{NAME}_couv.csv', index=False)\n",
    "    display(areas_df[0:6])"
   ]
  },
  {
   "cell_type": "markdown",
   "id": "85c1096c-24f4-4bd2-9ec4-ed919b56afc6",
   "metadata": {},
   "source": [
    "## 3. Create inference-like data from Arkindex\n",
    "### 3.1 Retrieve table lines transcriptions and entities\n",
    "\n",
    "Create a CSV with the transcriptions of each table line of the pages listes before. The CSV has the following header : [\"page_uuid\",\"line_uuid\",\"polygon\",\"transcription_uuid\",\"transcription\",\"entities\"]"
   ]
  },
  {
   "cell_type": "code",
   "execution_count": null,
   "id": "b2c00c01-8a3f-455f-8680-bbcf35964363",
   "metadata": {},
   "outputs": [],
   "source": [
    "DOWNLOAD_TRANSCRIPTIONS = False"
   ]
  },
  {
   "cell_type": "code",
   "execution_count": 20,
   "id": "044bfdbd-80e6-47ee-b4b3-1c276ed8db13",
   "metadata": {},
   "outputs": [
    {
     "name": "stdout",
     "output_type": "stream",
     "text": [
      "{'id': 'a8725c48-46cd-4277-b4cf-a9ecff57aef0', 'type': 'table_line_to_cor', 'name': '13', 'corpus': {'id': '59285827-bba3-42d4-99c7-e2436fe19f94', 'name': 'EPITA-IGN | Registre Napoléonien', 'public': False}, 'thumbnail_url': None, 'zone': {'id': 'a8725c48-46cd-4277-b4cf-a9ecff57aef0', 'polygon': [[114, 4579], [114, 4856], [2531, 4856], [2531, 4579], [114, 4579]], 'image': {'id': '89c4f1f9-b119-4229-861c-fb64d953099d', 'path': 'CADASTRE%2FETATS_DE_SECTION%2FLHAY%2FFRAD094_3P_000275_01%2FFRAD094_3P_000275_01_0133.jpg', 'width': 3565, 'height': 5656, 'url': 'https://iiif.geohistoricaldata.org/iiif/2/CADASTRE%2FETATS_DE_SECTION%2FLHAY%2FFRAD094_3P_000275_01%2FFRAD094_3P_000275_01_0133.jpg', 's3_url': None, 'status': 'checked', 'server': {'display_name': 'https://iiif.geohistoricaldata.org/iiif/2', 'url': 'https://iiif.geohistoricaldata.org/iiif/2', 'max_width': None, 'max_height': None}}, 'url': 'https://iiif.geohistoricaldata.org/iiif/2/CADASTRE%2FETATS_DE_SECTION%2FLHAY%2FFRAD094_3P_000275_01%2FFRAD094_3P_000275_01_0133.jpg/114,4579,2417,277/full/0/default.jpg'}, 'rotation_angle': 0, 'mirrored': False, 'created': '2025-04-15T13:55:03.670259Z', 'classifications': None, 'metadata': None, 'transcriptions': [], 'has_children': None, 'worker_run': None, 'confidence': None}\n",
      "{'id': 'ac76fb4a-de9e-44b7-b9f3-332c15ff1f9c', 'type': 'table_line_to_cor', 'name': '13', 'corpus': {'id': '59285827-bba3-42d4-99c7-e2436fe19f94', 'name': 'EPITA-IGN | Registre Napoléonien', 'public': False}, 'thumbnail_url': None, 'zone': {'id': 'ac76fb4a-de9e-44b7-b9f3-332c15ff1f9c', 'polygon': [[270, 4590], [270, 4808], [3436, 4808], [3436, 4590], [270, 4590]], 'image': {'id': 'dfec8720-063c-4a93-83a1-fe1e7414ff61', 'path': 'CADASTRE%2FETATS_DE_SECTION%2FLHAY%2FFRAD094_3P_000275_01%2FFRAD094_3P_000275_01_0136.jpg', 'width': 3610, 'height': 5663, 'url': 'https://iiif.geohistoricaldata.org/iiif/2/CADASTRE%2FETATS_DE_SECTION%2FLHAY%2FFRAD094_3P_000275_01%2FFRAD094_3P_000275_01_0136.jpg', 's3_url': None, 'status': 'checked', 'server': {'display_name': 'https://iiif.geohistoricaldata.org/iiif/2', 'url': 'https://iiif.geohistoricaldata.org/iiif/2', 'max_width': None, 'max_height': None}}, 'url': 'https://iiif.geohistoricaldata.org/iiif/2/CADASTRE%2FETATS_DE_SECTION%2FLHAY%2FFRAD094_3P_000275_01%2FFRAD094_3P_000275_01_0136.jpg/270,4590,3166,218/full/0/default.jpg'}, 'rotation_angle': 0, 'mirrored': False, 'created': '2025-04-15T13:32:32.808353Z', 'classifications': None, 'metadata': None, 'transcriptions': [], 'has_children': None, 'worker_run': None, 'confidence': None}\n",
      "{'id': '844f0532-2292-4ca3-9992-8cc511a177ad', 'type': 'table_line_to_cor', 'name': '14', 'corpus': {'id': '59285827-bba3-42d4-99c7-e2436fe19f94', 'name': 'EPITA-IGN | Registre Napoléonien', 'public': False}, 'thumbnail_url': None, 'zone': {'id': '844f0532-2292-4ca3-9992-8cc511a177ad', 'polygon': [[218, 3069], [218, 3188], [2676, 3188], [2676, 3069], [218, 3069]], 'image': {'id': '0e94578d-4bf2-4c40-9c13-bb7bac9a0d8e', 'path': 'CADASTRE%2FETATS_DE_SECTION%2FLHAY%2FFRAD094_3P_000275_01%2FFRAD094_3P_000275_01_0140.jpg', 'width': 3604, 'height': 5656, 'url': 'https://iiif.geohistoricaldata.org/iiif/2/CADASTRE%2FETATS_DE_SECTION%2FLHAY%2FFRAD094_3P_000275_01%2FFRAD094_3P_000275_01_0140.jpg', 's3_url': None, 'status': 'checked', 'server': {'display_name': 'https://iiif.geohistoricaldata.org/iiif/2', 'url': 'https://iiif.geohistoricaldata.org/iiif/2', 'max_width': None, 'max_height': None}}, 'url': 'https://iiif.geohistoricaldata.org/iiif/2/CADASTRE%2FETATS_DE_SECTION%2FLHAY%2FFRAD094_3P_000275_01%2FFRAD094_3P_000275_01_0140.jpg/218,3069,2458,119/full/0/default.jpg'}, 'rotation_angle': 0, 'mirrored': False, 'created': '2025-04-15T13:17:29.199958Z', 'classifications': None, 'metadata': None, 'transcriptions': [], 'has_children': None, 'worker_run': None, 'confidence': None}\n",
      "{'id': '7d5f762e-91e4-4698-b37d-5ab223ce7495', 'type': 'table_line_to_cor', 'name': '13', 'corpus': {'id': '59285827-bba3-42d4-99c7-e2436fe19f94', 'name': 'EPITA-IGN | Registre Napoléonien', 'public': False}, 'thumbnail_url': None, 'zone': {'id': '7d5f762e-91e4-4698-b37d-5ab223ce7495', 'polygon': [[202, 4585], [202, 4824], [2591, 4824], [2591, 4585], [202, 4585]], 'image': {'id': 'cd42fe28-d3ec-4081-9f7d-585051cb8fc8', 'path': 'CADASTRE%2FETATS_DE_SECTION%2FLHAY%2FFRAD094_3P_000275_01%2FFRAD094_3P_000275_01_0143.jpg', 'width': 3668, 'height': 5664, 'url': 'https://iiif.geohistoricaldata.org/iiif/2/CADASTRE%2FETATS_DE_SECTION%2FLHAY%2FFRAD094_3P_000275_01%2FFRAD094_3P_000275_01_0143.jpg', 's3_url': None, 'status': 'checked', 'server': {'display_name': 'https://iiif.geohistoricaldata.org/iiif/2', 'url': 'https://iiif.geohistoricaldata.org/iiif/2', 'max_width': None, 'max_height': None}}, 'url': 'https://iiif.geohistoricaldata.org/iiif/2/CADASTRE%2FETATS_DE_SECTION%2FLHAY%2FFRAD094_3P_000275_01%2FFRAD094_3P_000275_01_0143.jpg/202,4585,2389,239/full/0/default.jpg'}, 'rotation_angle': 0, 'mirrored': False, 'created': '2025-04-15T13:01:13.211631Z', 'classifications': None, 'metadata': None, 'transcriptions': [], 'has_children': None, 'worker_run': None, 'confidence': None}\n",
      "{'id': 'ceec3d3a-61e3-4525-8dfa-78c4fa7d9a84', 'type': 'table_line_to_cor', 'name': '14', 'corpus': {'id': '59285827-bba3-42d4-99c7-e2436fe19f94', 'name': 'EPITA-IGN | Registre Napoléonien', 'public': False}, 'thumbnail_url': None, 'zone': {'id': 'ceec3d3a-61e3-4525-8dfa-78c4fa7d9a84', 'polygon': [[247, 3111], [247, 3242], [2748, 3242], [2748, 3111], [247, 3111]], 'image': {'id': '2cae29db-5f6c-46df-8ab4-6511be878f3f', 'path': 'CADASTRE%2FETATS_DE_SECTION%2FLHAY%2FFRAD094_3P_000275_01%2FFRAD094_3P_000275_01_0146.jpg', 'width': 3630, 'height': 5656, 'url': 'https://iiif.geohistoricaldata.org/iiif/2/CADASTRE%2FETATS_DE_SECTION%2FLHAY%2FFRAD094_3P_000275_01%2FFRAD094_3P_000275_01_0146.jpg', 's3_url': None, 'status': 'checked', 'server': {'display_name': 'https://iiif.geohistoricaldata.org/iiif/2', 'url': 'https://iiif.geohistoricaldata.org/iiif/2', 'max_width': None, 'max_height': None}}, 'url': 'https://iiif.geohistoricaldata.org/iiif/2/CADASTRE%2FETATS_DE_SECTION%2FLHAY%2FFRAD094_3P_000275_01%2FFRAD094_3P_000275_01_0146.jpg/247,3111,2501,131/full/0/default.jpg'}, 'rotation_angle': 0, 'mirrored': False, 'created': '2025-04-15T13:33:18.307170Z', 'classifications': None, 'metadata': None, 'transcriptions': [], 'has_children': None, 'worker_run': None, 'confidence': None}\n",
      "{'id': 'ccf2cfc9-e665-4469-be70-a53b91669ded', 'type': 'table_line_to_cor', 'name': '15', 'corpus': {'id': '59285827-bba3-42d4-99c7-e2436fe19f94', 'name': 'EPITA-IGN | Registre Napoléonien', 'public': False}, 'thumbnail_url': None, 'zone': {'id': 'ccf2cfc9-e665-4469-be70-a53b91669ded', 'polygon': [[305, 4677], [305, 4877], [2575, 4877], [2575, 4677], [305, 4677]], 'image': {'id': '2cae29db-5f6c-46df-8ab4-6511be878f3f', 'path': 'CADASTRE%2FETATS_DE_SECTION%2FLHAY%2FFRAD094_3P_000275_01%2FFRAD094_3P_000275_01_0146.jpg', 'width': 3630, 'height': 5656, 'url': 'https://iiif.geohistoricaldata.org/iiif/2/CADASTRE%2FETATS_DE_SECTION%2FLHAY%2FFRAD094_3P_000275_01%2FFRAD094_3P_000275_01_0146.jpg', 's3_url': None, 'status': 'checked', 'server': {'display_name': 'https://iiif.geohistoricaldata.org/iiif/2', 'url': 'https://iiif.geohistoricaldata.org/iiif/2', 'max_width': None, 'max_height': None}}, 'url': 'https://iiif.geohistoricaldata.org/iiif/2/CADASTRE%2FETATS_DE_SECTION%2FLHAY%2FFRAD094_3P_000275_01%2FFRAD094_3P_000275_01_0146.jpg/305,4677,2270,200/full/0/default.jpg'}, 'rotation_angle': 0, 'mirrored': False, 'created': '2025-04-15T13:34:27.303607Z', 'classifications': None, 'metadata': None, 'transcriptions': [], 'has_children': None, 'worker_run': None, 'confidence': None}\n",
      "{'id': 'cfe2e700-649b-46df-9c94-70fda9de4655', 'type': 'table_line_to_cor', 'name': '13', 'corpus': {'id': '59285827-bba3-42d4-99c7-e2436fe19f94', 'name': 'EPITA-IGN | Registre Napoléonien', 'public': False}, 'thumbnail_url': None, 'zone': {'id': 'cfe2e700-649b-46df-9c94-70fda9de4655', 'polygon': [[165, 4625], [165, 4862], [2576, 4862], [2576, 4625], [165, 4625]], 'image': {'id': 'e3e055d9-4caf-4edc-a6ae-c3541f4afc0c', 'path': 'CADASTRE%2FETATS_DE_SECTION%2FLHAY%2FFRAD094_3P_000275_01%2FFRAD094_3P_000275_01_0147.jpg', 'width': 3662, 'height': 5669, 'url': 'https://iiif.geohistoricaldata.org/iiif/2/CADASTRE%2FETATS_DE_SECTION%2FLHAY%2FFRAD094_3P_000275_01%2FFRAD094_3P_000275_01_0147.jpg', 's3_url': None, 'status': 'checked', 'server': {'display_name': 'https://iiif.geohistoricaldata.org/iiif/2', 'url': 'https://iiif.geohistoricaldata.org/iiif/2', 'max_width': None, 'max_height': None}}, 'url': 'https://iiif.geohistoricaldata.org/iiif/2/CADASTRE%2FETATS_DE_SECTION%2FLHAY%2FFRAD094_3P_000275_01%2FFRAD094_3P_000275_01_0147.jpg/165,4625,2411,237/full/0/default.jpg'}, 'rotation_angle': 0, 'mirrored': False, 'created': '2025-04-15T14:01:44.478987Z', 'classifications': None, 'metadata': None, 'transcriptions': [], 'has_children': None, 'worker_run': None, 'confidence': None}\n",
      "{'id': '10f10b91-011e-4ab7-8e52-910f51c1ffcc', 'type': 'table_line_to_cor', 'name': '13', 'corpus': {'id': '59285827-bba3-42d4-99c7-e2436fe19f94', 'name': 'EPITA-IGN | Registre Napoléonien', 'public': False}, 'thumbnail_url': None, 'zone': {'id': '10f10b91-011e-4ab7-8e52-910f51c1ffcc', 'polygon': [[287, 3742], [287, 3965], [2710, 3965], [2710, 3742], [287, 3742]], 'image': {'id': 'd280e6ba-2edc-49cc-8d5a-bb8430835df8', 'path': 'CADASTRE%2FETATS_DE_SECTION%2FLHAY%2FFRAD094_3P_000275_01%2FFRAD094_3P_000275_01_0148.jpg', 'width': 3579, 'height': 5663, 'url': 'https://iiif.geohistoricaldata.org/iiif/2/CADASTRE%2FETATS_DE_SECTION%2FLHAY%2FFRAD094_3P_000275_01%2FFRAD094_3P_000275_01_0148.jpg', 's3_url': None, 'status': 'checked', 'server': {'display_name': 'https://iiif.geohistoricaldata.org/iiif/2', 'url': 'https://iiif.geohistoricaldata.org/iiif/2', 'max_width': None, 'max_height': None}}, 'url': 'https://iiif.geohistoricaldata.org/iiif/2/CADASTRE%2FETATS_DE_SECTION%2FLHAY%2FFRAD094_3P_000275_01%2FFRAD094_3P_000275_01_0148.jpg/287,3742,2423,223/full/0/default.jpg'}, 'rotation_angle': 0, 'mirrored': False, 'created': '2025-04-15T12:28:44.351888Z', 'classifications': None, 'metadata': None, 'transcriptions': [], 'has_children': None, 'worker_run': None, 'confidence': None}\n",
      "{'id': 'ed332bd5-e435-44d1-97cc-bb7ca4e8fcb1', 'type': 'table_line_to_cor', 'name': '14', 'corpus': {'id': '59285827-bba3-42d4-99c7-e2436fe19f94', 'name': 'EPITA-IGN | Registre Napoléonien', 'public': False}, 'thumbnail_url': None, 'zone': {'id': 'ed332bd5-e435-44d1-97cc-bb7ca4e8fcb1', 'polygon': [[314, 4651], [314, 4836], [2718, 4836], [2718, 4651], [314, 4651]], 'image': {'id': 'd280e6ba-2edc-49cc-8d5a-bb8430835df8', 'path': 'CADASTRE%2FETATS_DE_SECTION%2FLHAY%2FFRAD094_3P_000275_01%2FFRAD094_3P_000275_01_0148.jpg', 'width': 3579, 'height': 5663, 'url': 'https://iiif.geohistoricaldata.org/iiif/2/CADASTRE%2FETATS_DE_SECTION%2FLHAY%2FFRAD094_3P_000275_01%2FFRAD094_3P_000275_01_0148.jpg', 's3_url': None, 'status': 'checked', 'server': {'display_name': 'https://iiif.geohistoricaldata.org/iiif/2', 'url': 'https://iiif.geohistoricaldata.org/iiif/2', 'max_width': None, 'max_height': None}}, 'url': 'https://iiif.geohistoricaldata.org/iiif/2/CADASTRE%2FETATS_DE_SECTION%2FLHAY%2FFRAD094_3P_000275_01%2FFRAD094_3P_000275_01_0148.jpg/314,4651,2404,185/full/0/default.jpg'}, 'rotation_angle': 0, 'mirrored': False, 'created': '2025-04-15T12:29:15.033537Z', 'classifications': None, 'metadata': None, 'transcriptions': [], 'has_children': None, 'worker_run': None, 'confidence': None}\n",
      "{'id': 'ccaaab37-b346-4f68-8344-4db6b25a0018', 'type': 'table_line_to_cor', 'name': '7', 'corpus': {'id': '59285827-bba3-42d4-99c7-e2436fe19f94', 'name': 'EPITA-IGN | Registre Napoléonien', 'public': False}, 'thumbnail_url': None, 'zone': {'id': 'ccaaab37-b346-4f68-8344-4db6b25a0018', 'polygon': [[148, 2822], [148, 3046], [1241, 3046], [1241, 2822], [148, 2822]], 'image': {'id': '7ce3e441-8cef-4800-8765-15608360da7b', 'path': 'CADASTRE%2FETATS_DE_SECTION%2FLHAY%2FFRAD094_3P_000275_01%2FFRAD094_3P_000275_01_0151.jpg', 'width': 3694, 'height': 5675, 'url': 'https://iiif.geohistoricaldata.org/iiif/2/CADASTRE%2FETATS_DE_SECTION%2FLHAY%2FFRAD094_3P_000275_01%2FFRAD094_3P_000275_01_0151.jpg', 's3_url': None, 'status': 'checked', 'server': {'display_name': 'https://iiif.geohistoricaldata.org/iiif/2', 'url': 'https://iiif.geohistoricaldata.org/iiif/2', 'max_width': None, 'max_height': None}}, 'url': 'https://iiif.geohistoricaldata.org/iiif/2/CADASTRE%2FETATS_DE_SECTION%2FLHAY%2FFRAD094_3P_000275_01%2FFRAD094_3P_000275_01_0151.jpg/148,2822,1093,224/full/0/default.jpg'}, 'rotation_angle': 0, 'mirrored': False, 'created': '2025-04-15T11:53:29.494209Z', 'classifications': None, 'metadata': None, 'transcriptions': [{'id': 'b279bd0d-18a6-48cb-9df6-e52beb651857', 'text': '§ 248 pepin jean b↑te↓ 257 T 253p T', 'confidence': 0.98, 'orientation': 'horizontal-lr', 'worker_run': None}], 'has_children': None, 'worker_run': None, 'confidence': 0.36}\n",
      "{'id': '0b98b749-f49b-4a32-be25-2067caadd9ce', 'type': 'table_line_to_cor', 'name': '13', 'corpus': {'id': '59285827-bba3-42d4-99c7-e2436fe19f94', 'name': 'EPITA-IGN | Registre Napoléonien', 'public': False}, 'thumbnail_url': None, 'zone': {'id': '0b98b749-f49b-4a32-be25-2067caadd9ce', 'polygon': [[238, 4542], [238, 4789], [2642, 4789], [2642, 4542], [238, 4542]], 'image': {'id': '7ce3e441-8cef-4800-8765-15608360da7b', 'path': 'CADASTRE%2FETATS_DE_SECTION%2FLHAY%2FFRAD094_3P_000275_01%2FFRAD094_3P_000275_01_0151.jpg', 'width': 3694, 'height': 5675, 'url': 'https://iiif.geohistoricaldata.org/iiif/2/CADASTRE%2FETATS_DE_SECTION%2FLHAY%2FFRAD094_3P_000275_01%2FFRAD094_3P_000275_01_0151.jpg', 's3_url': None, 'status': 'checked', 'server': {'display_name': 'https://iiif.geohistoricaldata.org/iiif/2', 'url': 'https://iiif.geohistoricaldata.org/iiif/2', 'max_width': None, 'max_height': None}}, 'url': 'https://iiif.geohistoricaldata.org/iiif/2/CADASTRE%2FETATS_DE_SECTION%2FLHAY%2FFRAD094_3P_000275_01%2FFRAD094_3P_000275_01_0151.jpg/238,4542,2404,247/full/0/default.jpg'}, 'rotation_angle': 0, 'mirrored': False, 'created': '2025-04-15T12:05:07.265244Z', 'classifications': None, 'metadata': None, 'transcriptions': [], 'has_children': None, 'worker_run': None, 'confidence': None}\n",
      "{'id': '5865597a-22f4-4c35-b1df-30ef349f12a8', 'type': 'table_line_to_cor', 'name': '12', 'corpus': {'id': '59285827-bba3-42d4-99c7-e2436fe19f94', 'name': 'EPITA-IGN | Registre Napoléonien', 'public': False}, 'thumbnail_url': None, 'zone': {'id': '5865597a-22f4-4c35-b1df-30ef349f12a8', 'polygon': [[272, 4551], [272, 4790], [2648, 4790], [2648, 4551], [272, 4551]], 'image': {'id': '5e202378-a3a1-431a-9dc7-29c7930cf816', 'path': 'CADASTRE%2FETATS_DE_SECTION%2FLHAY%2FFRAD094_3P_000275_01%2FFRAD094_3P_000275_01_0152.jpg', 'width': 3610, 'height': 5669, 'url': 'https://iiif.geohistoricaldata.org/iiif/2/CADASTRE%2FETATS_DE_SECTION%2FLHAY%2FFRAD094_3P_000275_01%2FFRAD094_3P_000275_01_0152.jpg', 's3_url': None, 'status': 'checked', 'server': {'display_name': 'https://iiif.geohistoricaldata.org/iiif/2', 'url': 'https://iiif.geohistoricaldata.org/iiif/2', 'max_width': None, 'max_height': None}}, 'url': 'https://iiif.geohistoricaldata.org/iiif/2/CADASTRE%2FETATS_DE_SECTION%2FLHAY%2FFRAD094_3P_000275_01%2FFRAD094_3P_000275_01_0152.jpg/272,4551,2376,239/full/0/default.jpg'}, 'rotation_angle': 0, 'mirrored': False, 'created': '2025-04-15T12:59:03.831041Z', 'classifications': None, 'metadata': None, 'transcriptions': [], 'has_children': None, 'worker_run': None, 'confidence': None}\n",
      "{'id': 'f5ff5bba-a624-4256-9114-b2ad0cf3d6bf', 'type': 'table_line_to_cor', 'name': '13', 'corpus': {'id': '59285827-bba3-42d4-99c7-e2436fe19f94', 'name': 'EPITA-IGN | Registre Napoléonien', 'public': False}, 'thumbnail_url': None, 'zone': {'id': 'f5ff5bba-a624-4256-9114-b2ad0cf3d6bf', 'polygon': [[264, 4813], [264, 5006], [2648, 5006], [2648, 4813], [264, 4813]], 'image': {'id': '5e202378-a3a1-431a-9dc7-29c7930cf816', 'path': 'CADASTRE%2FETATS_DE_SECTION%2FLHAY%2FFRAD094_3P_000275_01%2FFRAD094_3P_000275_01_0152.jpg', 'width': 3610, 'height': 5669, 'url': 'https://iiif.geohistoricaldata.org/iiif/2/CADASTRE%2FETATS_DE_SECTION%2FLHAY%2FFRAD094_3P_000275_01%2FFRAD094_3P_000275_01_0152.jpg', 's3_url': None, 'status': 'checked', 'server': {'display_name': 'https://iiif.geohistoricaldata.org/iiif/2', 'url': 'https://iiif.geohistoricaldata.org/iiif/2', 'max_width': None, 'max_height': None}}, 'url': 'https://iiif.geohistoricaldata.org/iiif/2/CADASTRE%2FETATS_DE_SECTION%2FLHAY%2FFRAD094_3P_000275_01%2FFRAD094_3P_000275_01_0152.jpg/264,4813,2384,193/full/0/default.jpg'}, 'rotation_angle': 0, 'mirrored': False, 'created': '2025-04-15T12:59:17.127536Z', 'classifications': None, 'metadata': None, 'transcriptions': [], 'has_children': None, 'worker_run': None, 'confidence': None}\n",
      "{'id': 'eb13b2b1-e6eb-427f-bbf1-804b796ff4ca', 'type': 'table_line_to_cor', 'name': '14', 'corpus': {'id': '59285827-bba3-42d4-99c7-e2436fe19f94', 'name': 'EPITA-IGN | Registre Napoléonien', 'public': False}, 'thumbnail_url': None, 'zone': {'id': 'eb13b2b1-e6eb-427f-bbf1-804b796ff4ca', 'polygon': [[253, 792], [253, 1076], [3431, 1076], [3431, 792], [253, 792]], 'image': {'id': '5e202378-a3a1-431a-9dc7-29c7930cf816', 'path': 'CADASTRE%2FETATS_DE_SECTION%2FLHAY%2FFRAD094_3P_000275_01%2FFRAD094_3P_000275_01_0152.jpg', 'width': 3610, 'height': 5669, 'url': 'https://iiif.geohistoricaldata.org/iiif/2/CADASTRE%2FETATS_DE_SECTION%2FLHAY%2FFRAD094_3P_000275_01%2FFRAD094_3P_000275_01_0152.jpg', 's3_url': None, 'status': 'checked', 'server': {'display_name': 'https://iiif.geohistoricaldata.org/iiif/2', 'url': 'https://iiif.geohistoricaldata.org/iiif/2', 'max_width': None, 'max_height': None}}, 'url': 'https://iiif.geohistoricaldata.org/iiif/2/CADASTRE%2FETATS_DE_SECTION%2FLHAY%2FFRAD094_3P_000275_01%2FFRAD094_3P_000275_01_0152.jpg/253,792,3178,284/full/0/default.jpg'}, 'rotation_angle': 0, 'mirrored': False, 'created': '2025-04-16T09:38:37.475830Z', 'classifications': None, 'metadata': None, 'transcriptions': [], 'has_children': None, 'worker_run': None, 'confidence': None}\n",
      "{'id': '35992869-172a-42d3-b315-7f54e455c49a', 'type': 'table_line_to_cor', 'name': '12', 'corpus': {'id': '59285827-bba3-42d4-99c7-e2436fe19f94', 'name': 'EPITA-IGN | Registre Napoléonien', 'public': False}, 'thumbnail_url': None, 'zone': {'id': '35992869-172a-42d3-b315-7f54e455c49a', 'polygon': [[218, 3954], [218, 4196], [2632, 4196], [2632, 3954], [218, 3954]], 'image': {'id': '2ce15569-5a9e-43d1-b716-47dec55ff103', 'path': 'CADASTRE%2FETATS_DE_SECTION%2FLHAY%2FFRAD094_3P_000275_01%2FFRAD094_3P_000275_01_0155.jpg', 'width': 3662, 'height': 5675, 'url': 'https://iiif.geohistoricaldata.org/iiif/2/CADASTRE%2FETATS_DE_SECTION%2FLHAY%2FFRAD094_3P_000275_01%2FFRAD094_3P_000275_01_0155.jpg', 's3_url': None, 'status': 'checked', 'server': {'display_name': 'https://iiif.geohistoricaldata.org/iiif/2', 'url': 'https://iiif.geohistoricaldata.org/iiif/2', 'max_width': None, 'max_height': None}}, 'url': 'https://iiif.geohistoricaldata.org/iiif/2/CADASTRE%2FETATS_DE_SECTION%2FLHAY%2FFRAD094_3P_000275_01%2FFRAD094_3P_000275_01_0155.jpg/218,3954,2414,242/full/0/default.jpg'}, 'rotation_angle': 0, 'mirrored': False, 'created': '2025-04-15T13:14:30.910537Z', 'classifications': None, 'metadata': None, 'transcriptions': [], 'has_children': None, 'worker_run': None, 'confidence': None}\n",
      "{'id': 'bc02bd6a-ae91-4aed-ad12-0647bce24d5b', 'type': 'table_line_to_cor', 'name': '13', 'corpus': {'id': '59285827-bba3-42d4-99c7-e2436fe19f94', 'name': 'EPITA-IGN | Registre Napoléonien', 'public': False}, 'thumbnail_url': None, 'zone': {'id': 'bc02bd6a-ae91-4aed-ad12-0647bce24d5b', 'polygon': [[222, 4852], [222, 5108], [2627, 5108], [2627, 4852], [222, 4852]], 'image': {'id': '2ce15569-5a9e-43d1-b716-47dec55ff103', 'path': 'CADASTRE%2FETATS_DE_SECTION%2FLHAY%2FFRAD094_3P_000275_01%2FFRAD094_3P_000275_01_0155.jpg', 'width': 3662, 'height': 5675, 'url': 'https://iiif.geohistoricaldata.org/iiif/2/CADASTRE%2FETATS_DE_SECTION%2FLHAY%2FFRAD094_3P_000275_01%2FFRAD094_3P_000275_01_0155.jpg', 's3_url': None, 'status': 'checked', 'server': {'display_name': 'https://iiif.geohistoricaldata.org/iiif/2', 'url': 'https://iiif.geohistoricaldata.org/iiif/2', 'max_width': None, 'max_height': None}}, 'url': 'https://iiif.geohistoricaldata.org/iiif/2/CADASTRE%2FETATS_DE_SECTION%2FLHAY%2FFRAD094_3P_000275_01%2FFRAD094_3P_000275_01_0155.jpg/222,4852,2405,256/full/0/default.jpg'}, 'rotation_angle': 0, 'mirrored': False, 'created': '2025-04-15T13:14:59.333231Z', 'classifications': None, 'metadata': None, 'transcriptions': [], 'has_children': None, 'worker_run': None, 'confidence': None}\n",
      "{'id': 'af50287e-8834-491a-bc14-4f732df247cc', 'type': 'table_line_to_cor', 'name': '14', 'corpus': {'id': '59285827-bba3-42d4-99c7-e2436fe19f94', 'name': 'EPITA-IGN | Registre Napoléonien', 'public': False}, 'thumbnail_url': None, 'zone': {'id': 'af50287e-8834-491a-bc14-4f732df247cc', 'polygon': [[252, 4520], [252, 4746], [2664, 4746], [2664, 4520], [252, 4520]], 'image': {'id': '32de5d28-72ee-4902-9575-17973813796d', 'path': 'CADASTRE%2FETATS_DE_SECTION%2FLHAY%2FFRAD094_3P_000275_01%2FFRAD094_3P_000275_01_0156.jpg', 'width': 3624, 'height': 5669, 'url': 'https://iiif.geohistoricaldata.org/iiif/2/CADASTRE%2FETATS_DE_SECTION%2FLHAY%2FFRAD094_3P_000275_01%2FFRAD094_3P_000275_01_0156.jpg', 's3_url': None, 'status': 'checked', 'server': {'display_name': 'https://iiif.geohistoricaldata.org/iiif/2', 'url': 'https://iiif.geohistoricaldata.org/iiif/2', 'max_width': None, 'max_height': None}}, 'url': 'https://iiif.geohistoricaldata.org/iiif/2/CADASTRE%2FETATS_DE_SECTION%2FLHAY%2FFRAD094_3P_000275_01%2FFRAD094_3P_000275_01_0156.jpg/252,4520,2412,226/full/0/default.jpg'}, 'rotation_angle': 0, 'mirrored': False, 'created': '2025-04-15T13:34:59.785774Z', 'classifications': None, 'metadata': None, 'transcriptions': [], 'has_children': None, 'worker_run': None, 'confidence': None}\n",
      "{'id': 'b817fc87-e85b-4dfd-b5c5-b8d657455efa', 'type': 'table_line_to_cor', 'name': '13', 'corpus': {'id': '59285827-bba3-42d4-99c7-e2436fe19f94', 'name': 'EPITA-IGN | Registre Napoléonien', 'public': False}, 'thumbnail_url': None, 'zone': {'id': 'b817fc87-e85b-4dfd-b5c5-b8d657455efa', 'polygon': [[175, 4569], [175, 4839], [2554, 4839], [2554, 4569], [175, 4569]], 'image': {'id': '40d0319a-52ef-4f58-a822-c2aaba94c7db', 'path': 'CADASTRE%2FETATS_DE_SECTION%2FLHAY%2FFRAD094_3P_000275_01%2FFRAD094_3P_000275_01_0157.jpg', 'width': 3674, 'height': 5677, 'url': 'https://iiif.geohistoricaldata.org/iiif/2/CADASTRE%2FETATS_DE_SECTION%2FLHAY%2FFRAD094_3P_000275_01%2FFRAD094_3P_000275_01_0157.jpg', 's3_url': None, 'status': 'checked', 'server': {'display_name': 'https://iiif.geohistoricaldata.org/iiif/2', 'url': 'https://iiif.geohistoricaldata.org/iiif/2', 'max_width': None, 'max_height': None}}, 'url': 'https://iiif.geohistoricaldata.org/iiif/2/CADASTRE%2FETATS_DE_SECTION%2FLHAY%2FFRAD094_3P_000275_01%2FFRAD094_3P_000275_01_0157.jpg/175,4569,2379,270/full/0/default.jpg'}, 'rotation_angle': 0, 'mirrored': False, 'created': '2025-04-15T12:32:08.032947Z', 'classifications': None, 'metadata': None, 'transcriptions': [], 'has_children': None, 'worker_run': None, 'confidence': None}\n",
      "{'id': '867249b9-4eeb-4342-b4e6-75ef4baf9ee8', 'type': 'table_line_to_cor', 'name': '13', 'corpus': {'id': '59285827-bba3-42d4-99c7-e2436fe19f94', 'name': 'EPITA-IGN | Registre Napoléonien', 'public': False}, 'thumbnail_url': None, 'zone': {'id': '867249b9-4eeb-4342-b4e6-75ef4baf9ee8', 'polygon': [[172, 2835], [176, 3013], [2694, 2897], [2690, 2758], [172, 2835]], 'image': {'id': '805065aa-c7f6-4026-aa7c-9cc5b7e2e547', 'path': 'CADASTRE%2FETATS_DE_SECTION%2FLHAY%2FFRAD094_3P_000275_01%2FFRAD094_3P_000275_01_0158.jpg', 'width': 3604, 'height': 5677, 'url': 'https://iiif.geohistoricaldata.org/iiif/2/CADASTRE%2FETATS_DE_SECTION%2FLHAY%2FFRAD094_3P_000275_01%2FFRAD094_3P_000275_01_0158.jpg', 's3_url': None, 'status': 'checked', 'server': {'display_name': 'https://iiif.geohistoricaldata.org/iiif/2', 'url': 'https://iiif.geohistoricaldata.org/iiif/2', 'max_width': None, 'max_height': None}}, 'url': 'https://iiif.geohistoricaldata.org/iiif/2/CADASTRE%2FETATS_DE_SECTION%2FLHAY%2FFRAD094_3P_000275_01%2FFRAD094_3P_000275_01_0158.jpg/172,2758,2522,255/full/0/default.jpg'}, 'rotation_angle': 0, 'mirrored': False, 'created': '2025-04-15T13:24:25.800473Z', 'classifications': None, 'metadata': None, 'transcriptions': [], 'has_children': None, 'worker_run': None, 'confidence': None}\n",
      "{'id': '7636a394-ea12-4be1-86d8-bbe8f9b7757b', 'type': 'table_line_to_cor', 'name': '14', 'corpus': {'id': '59285827-bba3-42d4-99c7-e2436fe19f94', 'name': 'EPITA-IGN | Registre Napoléonien', 'public': False}, 'thumbnail_url': None, 'zone': {'id': '7636a394-ea12-4be1-86d8-bbe8f9b7757b', 'polygon': [[135, 3124], [2694, 3050], [2694, 2905], [140, 2971], [135, 3124]], 'image': {'id': '805065aa-c7f6-4026-aa7c-9cc5b7e2e547', 'path': 'CADASTRE%2FETATS_DE_SECTION%2FLHAY%2FFRAD094_3P_000275_01%2FFRAD094_3P_000275_01_0158.jpg', 'width': 3604, 'height': 5677, 'url': 'https://iiif.geohistoricaldata.org/iiif/2/CADASTRE%2FETATS_DE_SECTION%2FLHAY%2FFRAD094_3P_000275_01%2FFRAD094_3P_000275_01_0158.jpg', 's3_url': None, 'status': 'checked', 'server': {'display_name': 'https://iiif.geohistoricaldata.org/iiif/2', 'url': 'https://iiif.geohistoricaldata.org/iiif/2', 'max_width': None, 'max_height': None}}, 'url': 'https://iiif.geohistoricaldata.org/iiif/2/CADASTRE%2FETATS_DE_SECTION%2FLHAY%2FFRAD094_3P_000275_01%2FFRAD094_3P_000275_01_0158.jpg/135,2905,2559,219/full/0/default.jpg'}, 'rotation_angle': 0, 'mirrored': False, 'created': '2025-04-15T13:24:54.213630Z', 'classifications': None, 'metadata': None, 'transcriptions': [], 'has_children': None, 'worker_run': None, 'confidence': None}\n"
     ]
    }
   ],
   "source": [
    "if DOWNLOAD_TRANSCRIPTIONS:\n",
    "    df_commune_tab = df_commune[df_commune[\"classe\"] == \"ets_tab_p1\"]\n",
    "    lines = []\n",
    "    for _, row in df_commune_tab.iterrows():\n",
    "        #List the lines\n",
    "        results = cli.request('ListElementChildren',\n",
    "                           id=row[\"id\"],\n",
    "                           with_transcriptions=True,page=1,page_size=500)\n",
    "        \n",
    "        for l in results[\"results\"]:\n",
    "            try:\n",
    "                if \"tab_header\" not in l[\"type\"]:\n",
    "                    line_id = l[\"id\"]\n",
    "                    polygon = l[\"zone\"][\"polygon\"]\n",
    "                    transcription_id = l[\"transcriptions\"][0][\"id\"] #Il ne retrouve pas les transcriptions, pourquoi ? (contraindre les types de lignes ?)\n",
    "                    transcription = l[\"transcriptions\"][0][\"text\"]\n",
    "                    #List the entities\n",
    "                    entities = cli.request(\"ListTranscriptionEntities\",id=transcription_id)\n",
    "                    ls_ent = []\n",
    "                    for e in entities[\"results\"]:\n",
    "                        js = {\"entity_uuid\" : e[\"entity\"][\"id\"], \"entity_text\" : e[\"entity\"][\"name\"], \"entity_type\" : e[\"entity\"][\"type\"][\"name\"], \"offset\" : e[\"offset\"], \"length\": e[\"length\"]}\n",
    "                        ls_ent.append(js)\n",
    "                    lines.append([row[\"id\"],line_id,polygon,transcription_id,transcription,ls_ent])\n",
    "            except:\n",
    "                print(l) "
   ]
  },
  {
   "cell_type": "code",
   "execution_count": null,
   "id": "e66bebe4-f020-4ccd-9153-9cc668d23c43",
   "metadata": {},
   "outputs": [],
   "source": [
    "if DOWNLOAD_TRANSCRIPTIONS:\n",
    "    lines_df = pd.DataFrame(lines,columns=[\"page_uuid\",\"line_uuid\",\"polygon\",\"transcription_uuid\",\"transcription\",\"entities\"])\n",
    "    lines_df[0:4]"
   ]
  },
  {
   "cell_type": "code",
   "execution_count": null,
   "id": "b3de5d11-b73a-4bd6-93e9-0ddd5c86e9e2",
   "metadata": {},
   "outputs": [],
   "source": [
    "if DOWNLOAD_TRANSCRIPTIONS:\n",
    "    lines_df.to_csv(f'{SAVE_FOLDER}/{NAME}_tab_lines.csv', index=False) "
   ]
  },
  {
   "cell_type": "markdown",
   "id": "4e8a6be3-ec2f-4ffe-8fc1-a66e9ad8b7f3",
   "metadata": {},
   "source": [
    "### 3.2 Create json similar to DAN inference"
   ]
  },
  {
   "cell_type": "code",
   "execution_count": 14,
   "id": "aed526ff-383e-41cb-8073-627435f614d0",
   "metadata": {},
   "outputs": [
    {
     "ename": "SyntaxError",
     "evalue": "invalid syntax (1307066500.py, line 2)",
     "output_type": "error",
     "traceback": [
      "\u001b[0;36m  Cell \u001b[0;32mIn[14], line 2\u001b[0;36m\u001b[0m\n\u001b[0;31m    CREATE JSONS = False\u001b[0m\n\u001b[0m           ^\u001b[0m\n\u001b[0;31mSyntaxError\u001b[0m\u001b[0;31m:\u001b[0m invalid syntax\n"
     ]
    }
   ],
   "source": [
    "from string_utils import TableValuesPostTreatment \n",
    "\n",
    "CREATE_JSONS = False"
   ]
  },
  {
   "cell_type": "code",
   "execution_count": 9,
   "id": "f7bfc818-6d2d-4187-9551-176d022e2ee1",
   "metadata": {},
   "outputs": [],
   "source": [
    "if CREATE_JSONS:\n",
    "    df_pages = pd.read_csv(f'{SAVE_FOLDER}/{NAME}_pages.csv')\n",
    "    df_pages = df[df[\"classe\"] == \"ets_tab_p1\"]\n",
    "    df_entities = pd.read_csv(f'{SAVE_FOLDER}/{NAME}_tab_lines.csv')"
   ]
  },
  {
   "cell_type": "code",
   "execution_count": 10,
   "id": "ff841872-707d-4cf4-88ab-65f78509eb74",
   "metadata": {},
   "outputs": [
    {
     "name": "stderr",
     "output_type": "stream",
     "text": [
      "[nltk_data] Downloading package punkt to /home/STual/nltk_data...\n",
      "[nltk_data]   Package punkt is already up-to-date!\n",
      "[nltk_data] Downloading package stopwords to /home/STual/nltk_data...\n",
      "[nltk_data]   Package stopwords is already up-to-date!\n"
     ]
    },
    {
     "ename": "NameError",
     "evalue": "name 'df_pages' is not defined",
     "output_type": "error",
     "traceback": [
      "\u001b[0;31m---------------------------------------------------------------------------\u001b[0m",
      "\u001b[0;31mNameError\u001b[0m                                 Traceback (most recent call last)",
      "Cell \u001b[0;32mIn[10], line 3\u001b[0m\n\u001b[1;32m      1\u001b[0m \u001b[38;5;28;01mfrom\u001b[39;00m\u001b[38;5;250m \u001b[39m\u001b[38;5;21;01mstring_utils\u001b[39;00m\u001b[38;5;250m \u001b[39m\u001b[38;5;28;01mimport\u001b[39;00m TableValuesPostTreatment \n\u001b[0;32m----> 3\u001b[0m \u001b[38;5;28;01mfor\u001b[39;00m _, row \u001b[38;5;129;01min\u001b[39;00m \u001b[43mdf_pages\u001b[49m\u001b[38;5;241m.\u001b[39miterrows():\n\u001b[1;32m      4\u001b[0m     page_json \u001b[38;5;241m=\u001b[39m {}\n\u001b[1;32m      5\u001b[0m     name \u001b[38;5;241m=\u001b[39m row[\u001b[38;5;124m\"\u001b[39m\u001b[38;5;124mid\u001b[39m\u001b[38;5;124m\"\u001b[39m]\n",
      "\u001b[0;31mNameError\u001b[0m: name 'df_pages' is not defined"
     ]
    }
   ],
   "source": [
    "if CREATE_JSONS:\n",
    "\n",
    "    for _, row in df_pages.iterrows():\n",
    "        page_json = {}\n",
    "        name = row[\"id\"]\n",
    "        page_json[\"text\"] = \"\"\n",
    "        page_json[\"confidences\"] = {}\n",
    "        page_json[\"confidences\"][\"total\"] = 1.0\n",
    "        page_json[\"language_model\"] = {}\n",
    "        page_json[\"objects\"] = []\n",
    "        page_json[\"attention_gif\"] = \"\"\n",
    "        page_json[\"entities\"] = \"\"\n",
    "        subdf = df_entities[df_entities[\"page_uuid\"] == name]\n",
    "        new_ents = []\n",
    "        for __, row2 in subdf.iterrows():\n",
    "            obj = {\"confidence\": 1.0, \"polygon\":row2[\"polygon\"],\"text\": row2[\"transcription\"],\"text_confidence\": 1.0}\n",
    "            page_json[\"objects\"].append(obj)\n",
    "            ents = row2[\"entities\"].replace(\"\\'entity_text\\'\",'\"entity_text\"').replace(\"\\'entity_uuid\\'\",'\"entity_uuid\"').replace(\"\\'entity_type\\'\",'\"entity_type\"').replace(\"\\'offset\\'\",'\"offset\"').replace(\"\\'length\\'\",'\"length\"').replace(\": '\",': \"').replace(\"',\",'\",')\n",
    "            ents = json.loads(ents)\n",
    "            line_en = {}\n",
    "            for e in ents:\n",
    "                t = ''\n",
    "                if e[\"entity_type\"] == \"lieu-dit\":\n",
    "                    t = \"Ⓓ\"\n",
    "                elif e[\"entity_type\"] == \"ancien_numero_parcelle\":\n",
    "                    t = \"Ⓐ\"\n",
    "                elif e[\"entity_type\"] == \"ancienne_nature\":\n",
    "                    t = \"Ⓑ\"\n",
    "                elif e[\"entity_type\"] == \"identite\":\n",
    "                    t = \"Ⓒ\"\n",
    "                elif e[\"entity_type\"] == \"nature\":\n",
    "                    t = \"Ⓔ\"\n",
    "                elif e[\"entity_type\"] == \"numero_parcelle\":\n",
    "                    t = \"Ⓕ\"\n",
    "                elif e[\"entity_type\"] == \"numero_proprietaire\":\n",
    "                    t = \"Ⓖ\"\n",
    "                line_en.update({t:{\"text\": e[\"entity_text\"],\n",
    "                    \"offset\": e[\"offset\"],\n",
    "                    \"length\": e[\"length\"]}})\n",
    "            new_ents.append(line_en)\n",
    "        page_json[\"entities\"] = new_ents\n",
    "        #Deal with items and dittos\n",
    "        page_json[\"entities\"] = TableValuesPostTreatment.process_idem_ditto_replacements(page_json[\"entities\"], SPECIAL_VALUE=\"MISSING\", \n",
    "                                        idem_list=['§', 'Ø', 'id', 'idem', 'le meme', 'la meme', 'les memes'],\n",
    "                                        ditto_list=['☼'])\n",
    "        json_path = os.path.join(SAVE_FOLDER,\"data\",\"LHAY\",\"ets_tab_p1\",row['id'] + '.json')\n",
    "        #Save the jsons\n",
    "        with open(json_path,'w', encoding='utf-8') as f:\n",
    "            json.dump(page_json, f, ensure_ascii=False, indent=4)"
   ]
  }
 ],
 "metadata": {
  "kernelspec": {
   "display_name": "Python 3 (ipykernel)",
   "language": "python",
   "name": "python3"
  },
  "language_info": {
   "codemirror_mode": {
    "name": "ipython",
    "version": 3
   },
   "file_extension": ".py",
   "mimetype": "text/x-python",
   "name": "python",
   "nbconvert_exporter": "python",
   "pygments_lexer": "ipython3",
   "version": "3.10.12"
  }
 },
 "nbformat": 4,
 "nbformat_minor": 5
}
