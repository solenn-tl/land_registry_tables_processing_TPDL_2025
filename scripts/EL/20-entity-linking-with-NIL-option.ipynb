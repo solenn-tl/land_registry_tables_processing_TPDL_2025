{
 "cells": [
  {
   "cell_type": "markdown",
   "id": "f7518943-54a7-4a5e-98ae-900efb28e06a",
   "metadata": {},
   "source": [
    "# 20 - Entity linking with NIL option : example of the plot natures\n",
    "* This nobook propose methods to perform entity linking between historical tables cells and existing entities in a domain KG.\n",
    "* Developped with the example of land plots natures (already 160 natures in the ontology)."
   ]
  },
  {
   "cell_type": "code",
   "execution_count": 1,
   "id": "03c724ae-b983-4882-ab9e-da49dbbdac9b",
   "metadata": {},
   "outputs": [],
   "source": [
    "import pandas as pd\n",
    "import rdflib\n",
    "from rdflib.namespace import SKOS, RDF, RDFS\n",
    "import glob"
   ]
  },
  {
   "cell_type": "code",
   "execution_count": 2,
   "id": "a3d0e328-e934-410f-b549-649b940fb806",
   "metadata": {},
   "outputs": [],
   "source": [
    "import sys\n",
    "import os\n",
    "# Access to the utils directory\n",
    "current_dir = os.getcwd()\n",
    "utils_dir = os.path.join(current_dir, '..', 'utils')\n",
    "sys.path.append(utils_dir)"
   ]
  },
  {
   "cell_type": "markdown",
   "id": "ba1fbe1a-025f-42a8-b9f7-51721b1bf017",
   "metadata": {},
   "source": [
    "## 1. Retrieve candidates from the domain ontology"
   ]
  },
  {
   "cell_type": "code",
   "execution_count": 3,
   "id": "3d6a5f02-280a-4d89-ab6d-6031cad9ca48",
   "metadata": {},
   "outputs": [],
   "source": [
    "from rdf import skosConceptUtil\n",
    "\n",
    "CSV_PATH = '/home/STual/DAN-cadastre/data/ONTO/SKOS_NATURE.csv'\n",
    "skos_graph = skosConceptUtil()\n",
    "skos_graph.init_nature_concepts_from_csv(CSV_PATH,'/home/STual/DAN-cadastre/data/ONTO/')"
   ]
  },
  {
   "cell_type": "code",
   "execution_count": 4,
   "id": "4f94412b-3137-47b7-b33a-a6ec3e5bd963",
   "metadata": {},
   "outputs": [],
   "source": [
    "# Create a graph\n",
    "g = rdflib.Graph()\n",
    "\n",
    "# Parse the Turtle file into the graph\n",
    "g.parse(\"/home/STual/DAN-cadastre/data/ONTO/natures.ttl\", format=\"ttl\")\n",
    "\n",
    "# Define a SPARQL query that uses the vocabularies as variables\n",
    "query = \"\"\"\n",
    "PREFIX skos: <http://www.w3.org/2004/02/skos/core#>\n",
    "PREFIX rdfs: <http://www.w3.org/2000/01/rdf-schema#>\n",
    "\n",
    "SELECT ?subject ?label\n",
    "WHERE {\n",
    "  ?subject a skos:Concept .\n",
    "  {?subject skos:prefLabel ?label .} UNION {?subject skos:altLabel ?label .} UNION {?subject skos:hiddenLabel ?label .}\n",
    "  FILTER(LANG(?label) = \"fr\")\n",
    "}\n",
    "\"\"\"\n",
    "# Execute the query on the graph\n",
    "results = g.query(query)\n",
    "\n",
    "results_ls = []\n",
    "# Print the results\n",
    "for row in results:\n",
    "    results_ls.append([str(row.subject),str(row.label)])"
   ]
  },
  {
   "cell_type": "code",
   "execution_count": 5,
   "id": "4b9f6a5c-a1a9-4262-8725-0a778e6e2c3a",
   "metadata": {},
   "outputs": [
    {
     "data": {
      "text/plain": [
       "[['http://rdf.geohistoricaldata.org/id/codes/cadastre/plotNature/Abreuvoir',\n",
       "  'Abreuvoir'],\n",
       " ['http://rdf.geohistoricaldata.org/id/codes/cadastre/plotNature/Abricotier',\n",
       "  \"Plantation d'abricotiers\"],\n",
       " ['http://rdf.geohistoricaldata.org/id/codes/cadastre/plotNature/Abricotier',\n",
       "  'Abricotiers'],\n",
       " ['http://rdf.geohistoricaldata.org/id/codes/cadastre/plotNature/Acacia',\n",
       "  \"Plantation d'acacias\"],\n",
       " ['http://rdf.geohistoricaldata.org/id/codes/cadastre/plotNature/Acacia',\n",
       "  'Acacias']]"
      ]
     },
     "execution_count": 5,
     "metadata": {},
     "output_type": "execute_result"
    }
   ],
   "source": [
    "results_ls[0:5]"
   ]
  },
  {
   "cell_type": "code",
   "execution_count": 6,
   "id": "4a47e082-ae95-47df-930f-72b651c42ef7",
   "metadata": {},
   "outputs": [
    {
     "name": "stdout",
     "output_type": "stream",
     "text": [
      "['Abreuvoir', \"Plantation d'abricotiers\", 'Abricotiers', \"Plantation d'acacias\", 'Acacias', 'Ajonc', 'Ajoncs', 'Allée', \"Plantation d'amandiers\", 'Amandiers', 'Appenti', 'Ardoisière', 'Ardoise', \"Carrière d'ardoise\", 'Argillière', 'Argile', \"Carrière d'argile\", \"Plantation d'asperges\", 'Asperge', 'Atelier', 'Aulnaie', 'Baraque', 'Bassin', 'Bâtiment rural', 'Bâtiments ruraux', 'Batterie', 'Batterie de côte', 'Bief', \"Bois d'agrément\", 'Brousaille', 'Bruyère', 'Bruyères', 'Buissières', \"Canal d'agrément\", 'Plantation de cassis', 'Plantation de cédratier', 'Cédratier', 'Cerisaies', 'Cerise', 'Plantation de cerises', 'Chantier', 'Dépôt de marchandises', 'Charmille', 'Allée couverte', 'Châtaigneraies', 'Chemin', 'Chemin de fer', 'Chenevière', 'Champ de chanvre', 'Chanvre', 'Cimetiere', 'Plantation de citronnier', 'Citron', 'Clos', 'Cour commune', \"Cours d'eau\", 'Courtil', 'Crayère', 'Carrière de craie', 'Craie', 'Cressonnière', 'Cresson', 'Cuisine', 'Dépendance', 'Digue', 'Douve', 'Dune', 'Eau', 'Ecluse', 'Ecurie', 'Eglise', 'Etablissement de bains', 'Etang empoissonné', 'Falaise', 'Plantation de figuiers', 'Figues', 'Figuier', 'Fleurs', 'Culture de fleurs', 'Plantation de fleurs', 'Fontaine', 'Fossé', 'Fougeraie', 'Fraisiers', 'Plantation de fraisiers', 'Framboisiers', 'Plantation de framboisiers', 'Friche', 'Genêt', 'Gravière', 'Carrière de gravier', 'Groseillier', 'Groseille', 'Plantation de groseillier', 'Gué', 'Hangar', 'Hang', 'Herbage', 'Houblonnière', 'Houblon', \"Jardin d'agrément\", \"J d'ag\", 'Jardin Maraîcher', 'Jardin Marais', 'Jonc', 'Lac', 'Lagune', 'Lande', 'Lavande', 'Culture de lavande', 'Plantation de lavande', 'Lavoir', 'Machine à vapeur', 'Magasin', 'Maison', 'Mais', 'Mon', 'Manufacture', 'Marais salant', 'Mare', 'Marécage', 'Manière', 'Carrière de marne', 'Melonière', 'Mine', 'Minière', 'Moulin à eau', 'Moulin à vent', 'Plantation de mûriers', 'Mûrier', 'Néant', 'Nul', 'Plantation de noisetiers', 'Noisetier', 'Plantation de noyers', 'Noyer', \"Plantation d'oliviers\", 'Olivier', \"Plantation d'orangers\", 'Orange', 'Oranger', 'Ormaie', 'Orme', 'Oseraie', 'Parterre', 'Passage', 'Plantation de pêchers', 'Pêcher', 'Pépinière', 'Peuplier', \"Pièce d'eau d'agrément\", 'Pin', 'Plage', 'Plâtrière', 'Carrière de gypse', 'Gypse', 'Plantation de poiriers', 'Poire', 'Poirier', 'Pommeraie', 'Pommier', 'Poudrière', 'Pre', 'Pré planté', 'Réservoir', 'Rigole', 'Rizière', 'Rocher', 'Rosier', 'Plantation de rosiers', 'Routoir', 'Rouissoir', 'Ruine', 'Ruines', 'Sablière', 'Carrière de sable', 'Salin', 'Saline', 'Sapin', 'Saulaie', 'Saussaie', 'Serre', 'Forcerie', 'Sol', 'Superficie des bâtiments', 'Sol de la maison', 'Sol de maison', 'Sol de moulin', 'Sol de propriété bâtie', 'Terre de maison', 'Terrain', 'Terrain à bâtir', \"Terrain d'agrément\", 'Terre', 'T', 'Terre à vigne', 'Terre labourable', 'Terre plantée', 'Terrain planté', 'T pt', 'T. p.', 'Tp', 'Terre vaine', 'Terre vague', 'Tourbière', 'Truffière', 'Vigne', 'V', 'Vig', 'Viver', 'Cour', 'Etang', 'Etendoir', 'Fabrique', 'Manufacture', 'Four', 'Fournil', 'Marais', 'Palus', \"Pièce d'eau\", 'Potager', 'Jardin potager', 'Séchoir', 'Bois', 'Canal', 'Carrière', 'Moulin', 'Pâtis', 'Pâturage', 'Pâture', 'Verger', 'Jardin', 'J', \"Objet d'agrément\", 'Bâtiment', 'Bat', 'Bt', 'Plantation', 'Parcelle imposée au titre des propriétés bâties', 'Propriété bâtie', 'Parcelle imposée au titre des propriétés no bâties', 'Propriété non bâtie']\n"
     ]
    }
   ],
   "source": [
    "labels_ = [x[1] for x in results_ls]\n",
    "print(labels_)"
   ]
  },
  {
   "cell_type": "markdown",
   "id": "193252f7-9f2e-4915-b2eb-5cb4572bada0",
   "metadata": {},
   "source": [
    "## 2. Retrieve mentions"
   ]
  },
  {
   "cell_type": "code",
   "execution_count": 7,
   "id": "c66968c9-753f-4c67-937d-5dabead03b1b",
   "metadata": {},
   "outputs": [
    {
     "name": "stdout",
     "output_type": "stream",
     "text": [
      "26\n"
     ]
    }
   ],
   "source": [
    "#FOLDER = \"/home/STual/DAN-cadastre/inference/training120325_config2025_prod_2000epochs-DEV\"\n",
    "FOLDER = \"/home/STual/DAN-cadastre/inference/LHAY\"\n",
    "JSONS = glob.glob(FOLDER + '/*.json')\n",
    "print(len(JSONS))"
   ]
  },
  {
   "cell_type": "markdown",
   "id": "38226b40-afff-4e05-916d-51a9005585cf",
   "metadata": {},
   "source": [
    "* *Idem* and *ditto* have to be replaced by their concrete value (at the page level)"
   ]
  },
  {
   "cell_type": "code",
   "execution_count": 8,
   "id": "601ff440-13cf-4d57-9d1e-21f3f505907c",
   "metadata": {},
   "outputs": [
    {
     "name": "stderr",
     "output_type": "stream",
     "text": [
      "[nltk_data] Downloading package punkt to /home/STual/nltk_data...\n",
      "[nltk_data]   Package punkt is already up-to-date!\n",
      "[nltk_data] Downloading package stopwords to /home/STual/nltk_data...\n",
      "[nltk_data]   Package stopwords is already up-to-date!\n"
     ]
    }
   ],
   "source": [
    "import json\n",
    "import glob\n",
    "from string_utils import TableValuesPostTreatment\n",
    "\n",
    "chars_to_split = [\"Ⓐ\", \"Ⓑ\", \"Ⓒ\", \"Ⓓ\", \"Ⓔ\", \"Ⓕ\", \"Ⓖ\"]\n",
    "\n",
    "# Extract cell contents from line transcription\n",
    "#TableValuesPostTreatment.update_jsons_with_objects_details(FOLDER, [\"Ⓐ\", \"Ⓑ\", \"Ⓒ\", \"Ⓓ\", \"Ⓔ\", \"Ⓕ\", \"Ⓖ\"])"
   ]
  },
  {
   "cell_type": "code",
   "execution_count": 9,
   "id": "7aa2ee66-e34b-4ea1-be36-22cca7f6e12a",
   "metadata": {},
   "outputs": [
    {
     "name": "stdout",
     "output_type": "stream",
     "text": [
      "9e52f7f9-0e66-4753-bcf3-d3cb0916678c\n",
      "{'text': 'Terre', 'offset': 31, 'length': 5, 'interpreted_text': 'Terre', 'uris': ['http://rdf.geohistoricaldata.org/id/codes/cadastre/plotNature/Terre']}\n",
      "{'text': 'T', 'offset': 33, 'length': 1, 'interpreted_text': 'T', 'uris': ['http://rdf.geohistoricaldata.org/id/codes/cadastre/plotNature/Terre']}\n",
      "{'text': 'T', 'offset': 33, 'length': 1, 'interpreted_text': 'T', 'uris': ['http://rdf.geohistoricaldata.org/id/codes/cadastre/plotNature/Terre']}\n",
      "{'text': 'T', 'offset': 25, 'length': 1, 'interpreted_text': 'T', 'uris': ['http://rdf.geohistoricaldata.org/id/codes/cadastre/plotNature/Terre']}\n",
      "{'text': 'T.', 'offset': 37, 'length': 2, 'interpreted_text': 'T.', 'uris': ['http://rdf.geohistoricaldata.org/id/codes/cadastre/plotNature/Terre']}\n",
      "{'text': 'T.p.', 'offset': 31, 'length': 4, 'interpreted_text': 'T.p.', 'uris': ['http://rdf.geohistoricaldata.org/id/codes/cadastre/plotNature/TerrePlantee']}\n",
      "{'text': 'T', 'offset': 28, 'length': 1, 'interpreted_text': 'T', 'uris': ['http://rdf.geohistoricaldata.org/id/codes/cadastre/plotNature/Terre']}\n",
      "{'text': 'T. pt', 'offset': 38, 'length': 5, 'interpreted_text': 'T. pt', 'uris': ['http://rdf.geohistoricaldata.org/id/codes/cadastre/plotNature/TerrePlantee']}\n",
      "MISSING\n",
      "{'text': 'T', 'offset': 28, 'length': 1, 'interpreted_text': 'T', 'uris': ['http://rdf.geohistoricaldata.org/id/codes/cadastre/plotNature/Terre']}\n",
      "{'text': 'T.pl', 'offset': 37, 'length': 4, 'interpreted_text': 'T.pl', 'uris': ['http://rdf.geohistoricaldata.org/id/codes/cadastre/plotNature/TerrePlantee']}\n",
      "{'text': 'T', 'offset': 50, 'length': 1, 'interpreted_text': 'T', 'uris': ['http://rdf.geohistoricaldata.org/id/codes/cadastre/plotNature/Terre']}\n",
      "{'text': 'T', 'offset': 27, 'length': 1, 'interpreted_text': 'T', 'uris': ['http://rdf.geohistoricaldata.org/id/codes/cadastre/plotNature/Terre']}\n",
      "['T. pt', 'T.pl', 'T', 'Terre', 'T.', 'T.p.']\n"
     ]
    }
   ],
   "source": [
    "KEY = \"Ⓔ\"\n",
    "IX = 4\n",
    "distinct_natures = []\n",
    "#for j in JSONS:\n",
    "with open(JSONS[IX]) as f:\n",
    "    page_name = JSONS[IX].replace(FOLDER+'/','').replace('.json','')\n",
    "    print(page_name)\n",
    "    page = json.load(f)\n",
    "    cells = page[\"entities\"]\n",
    "    \n",
    "    for c in cells:\n",
    "        keys = c.keys()\n",
    "        if KEY in keys:\n",
    "            print(c[KEY])\n",
    "            distinct_natures.append(c[KEY]['interpreted_text'])\n",
    "        else:\n",
    "            print('MISSING')\n",
    "distinct_natures = list(set(distinct_natures))\n",
    "distinct_natures = [d for d in distinct_natures if d is not None]\n",
    "print(distinct_natures)"
   ]
  },
  {
   "cell_type": "markdown",
   "id": "630a2f21-dfcb-4c94-b22f-e93a96cef8b5",
   "metadata": {},
   "source": [
    "## 3. Entity linking\n",
    "* Entity-linking has to consider NIL entity linking as all the mentions in historical tables have no corresponding concept in the ontology."
   ]
  },
  {
   "cell_type": "markdown",
   "id": "3845b67a-902b-4a27-a2a7-ca88555b7019",
   "metadata": {},
   "source": [
    "### 3.1 Edit distance based similarities"
   ]
  },
  {
   "cell_type": "markdown",
   "id": "52ccb67c-4330-4f4d-8249-713c10c66a3a",
   "metadata": {},
   "source": [
    "#### Gestalt pattern matching (Difflib)"
   ]
  },
  {
   "cell_type": "code",
   "execution_count": 10,
   "id": "e7889f31-e34b-4832-9cfe-dc1fe876ab93",
   "metadata": {},
   "outputs": [
    {
     "name": "stderr",
     "output_type": "stream",
     "text": [
      "/home/STual/.venv/venv_sti/lib/python3.10/site-packages/tqdm/auto.py:21: TqdmWarning: IProgress not found. Please update jupyter and ipywidgets. See https://ipywidgets.readthedocs.io/en/stable/user_install.html\n",
      "  from .autonotebook import tqdm as notebook_tqdm\n"
     ]
    },
    {
     "name": "stdout",
     "output_type": "stream",
     "text": [
      "Queries : ['T. pt', 'T.pl', 'T', 'Terre', 'T.', 'T.p.']\n",
      "\n",
      "Query T. pt normalized as t pt\n",
      "Step 1 results : [(199, 'T pt', 0.8888888888888888)]\n",
      "Query T.pl normalized as t pl\n",
      "Step 1 results : [(199, 'T pt', 0.75)]\n",
      "Query T normalized as t\n",
      "Step 1 results : [(194, 'T', 1.0)]\n",
      "Query Terre normalized as terre\n",
      "Step 1 results : [(193, 'Terre', 1.0)]\n",
      "Query T. normalized as t\n",
      "Step 1 results : [(194, 'T', 1.0)]\n",
      "Query T.p. normalized as t p\n",
      "Step 1 results : [(199, 'T pt', 0.8571428571428571)]\n"
     ]
    }
   ],
   "source": [
    "from linking_utils import EditDistanceBasedSimilarity\n",
    "\n",
    "remove_chars_regex = '→()↑↓×.,!?;:-@#$%^&*'\n",
    "replacement_char = ' '\n",
    "split_chars = '→, .;'\n",
    "matched_natures =  EditDistanceBasedSimilarity.EL_gestaltpatternmatching(distinct_natures, labels_, remove_chars_regex, replacement_char, split_chars, top_k=1, threshold=0.7)"
   ]
  },
  {
   "cell_type": "markdown",
   "id": "10c656d0-29b2-45cb-b2b6-9ca4590126be",
   "metadata": {},
   "source": [
    "### 3.2 Embedding similarity"
   ]
  },
  {
   "cell_type": "code",
   "execution_count": 11,
   "id": "fb4a7043-0091-4446-9a63-acdae1992bfa",
   "metadata": {},
   "outputs": [],
   "source": [
    "from linking_utils import LinkingUtils, EmbeddingSimilarity\n",
    "from sentence_transformers import SentenceTransformer"
   ]
  },
  {
   "cell_type": "code",
   "execution_count": 12,
   "id": "8ec1bbe6-dc41-467b-b55f-64c4ed9b0443",
   "metadata": {},
   "outputs": [
    {
     "name": "stdout",
     "output_type": "stream",
     "text": [
      "Queries : ['T. pt', 'T.pl', 'T', 'Terre', 'T.', 'T.p.']\n",
      "\n",
      "Query T. pt normalized as t  pt\n",
      "\n",
      "Query: t  pt\n",
      "Top 1 most similar concepts:\n",
      "199 T pt (Score: 1.0000)\n",
      "Step 1 results : [(199, 'T pt', 1.0)]\n",
      "Query T.pl normalized as t pl\n",
      "\n",
      "Query: t pl\n",
      "Top 1 most similar concepts:\n",
      "194 T (Score: 0.7484)\n",
      "Step 1 results : []\n",
      "NEXT\n",
      "Try to match subqueries ['pl']\n",
      "\n",
      "Query: pl\n",
      "Top 1 most similar concepts:\n",
      "152 Plage (Score: 0.5657)\n",
      "Query T normalized as t\n",
      "\n",
      "Query: t\n",
      "Top 1 most similar concepts:\n",
      "194 T (Score: 1.0000)\n",
      "Step 1 results : [(194, 'T', 1.0)]\n",
      "Query Terre normalized as terre\n",
      "\n",
      "Query: terre\n",
      "Top 1 most similar concepts:\n",
      "193 Terre (Score: 1.0000)\n",
      "Step 1 results : [(193, 'Terre', 1.0)]\n",
      "Query T. normalized as t \n",
      "\n",
      "Query: t \n",
      "Top 1 most similar concepts:\n",
      "194 T (Score: 1.0000)\n",
      "Step 1 results : [(194, 'T', 1.0)]\n",
      "Query T.p. normalized as t p \n",
      "\n",
      "Query: t p \n",
      "Top 1 most similar concepts:\n",
      "200 T. p. (Score: 0.8698)\n",
      "Step 1 results : [(200, 'T. p.', 0.869800329208374)]\n",
      "[[(199, 'T pt', 1.0)], [(1000000, 'NIL', 0.0)], [(194, 'T', 1.0)], [(193, 'Terre', 1.0)], [(194, 'T', 1.0)], [(200, 'T. p.', 0.869800329208374)]]\n"
     ]
    }
   ],
   "source": [
    "from linking_utils import LinkingUtils, EmbeddingSimilarity\n",
    "from sentence_transformers import SentenceTransformer\n",
    "\n",
    "embedder_name = \"all-MiniLM-L6-v2\"\n",
    "embedder = SentenceTransformer(embedder_name)\n",
    "\n",
    "remove_chars_regex = '→()↑↓×.,!?;:-@#$%^&*'\n",
    "replace_regex = \"→()↑↓×.\"\n",
    "split_regex = \"., \"\n",
    "\n",
    "embedding_results = EmbeddingSimilarity.EL_embedding_cosinedistance_matching(distinct_natures, labels_, embedder, remove_chars_regex, replacement_char, split_chars, top_k=1, threshold=0.8)\n",
    "print(embedding_results)"
   ]
  },
  {
   "cell_type": "markdown",
   "id": "a14d6b42-629e-4dd6-ba7c-47067b74b78b",
   "metadata": {},
   "source": [
    "## 4. Add results to jsons"
   ]
  },
  {
   "cell_type": "code",
   "execution_count": 13,
   "id": "4a2ef35a-3d39-4489-a406-1d6b7b0f769a",
   "metadata": {},
   "outputs": [
    {
     "data": {
      "text/plain": [
       "{'T. pt': ['http://rdf.geohistoricaldata.org/id/codes/cadastre/plotNature/TerrePlantee'],\n",
       " 'T.pl': ['http://rdf.geohistoricaldata.org/id/codes/cadastre/plotNature/TerrePlantee'],\n",
       " 'T': ['http://rdf.geohistoricaldata.org/id/codes/cadastre/plotNature/Terre'],\n",
       " 'Terre': ['http://rdf.geohistoricaldata.org/id/codes/cadastre/plotNature/Terre'],\n",
       " 'T.': ['http://rdf.geohistoricaldata.org/id/codes/cadastre/plotNature/Terre'],\n",
       " 'T.p.': ['http://rdf.geohistoricaldata.org/id/codes/cadastre/plotNature/TerrePlantee']}"
      ]
     },
     "execution_count": 13,
     "metadata": {},
     "output_type": "execute_result"
    }
   ],
   "source": [
    "from linking_utils import LinkingUtils\n",
    "\n",
    "uris_values = LinkingUtils.associate_matches_with_values(distinct_natures, matched_natures, results_ls, 0)\n",
    "uris_values"
   ]
  },
  {
   "cell_type": "markdown",
   "id": "cdc6fe21-cd60-4073-95de-ef1441b4fd2c",
   "metadata": {},
   "source": [
    "## 5. Main"
   ]
  },
  {
   "cell_type": "code",
   "execution_count": 14,
   "id": "80e86c5a-eee2-4f45-934e-5423ea6f62a6",
   "metadata": {},
   "outputs": [
    {
     "name": "stdout",
     "output_type": "stream",
     "text": [
      "\n",
      "064cc4ee-9d5e-4922-a6dc-954aaf38fab2\n",
      "Queries : ['T']\n",
      "\n",
      "Query T normalized as t\n",
      "Step 1 results : [(194, 'T', 1.0)]\n",
      "\n",
      "26d52fc2-aafc-4e58-91f8-68bd6851ad37\n",
      "Queries : ['T']\n",
      "\n",
      "Query T normalized as t\n",
      "Step 1 results : [(194, 'T', 1.0)]\n",
      "\n",
      "2c59c9c6-5ed5-4fc1-85cd-4d162c324239\n",
      "Queries : ['Tpt', 'T', 'Terre', 'T.']\n",
      "\n",
      "Query Tpt normalized as tpt\n",
      "Step 1 results : [(199, 'T pt', 0.8571428571428571)]\n",
      "Query T normalized as t\n",
      "Step 1 results : [(194, 'T', 1.0)]\n",
      "Query Terre normalized as terre\n",
      "Step 1 results : [(193, 'Terre', 1.0)]\n",
      "Query T. normalized as t\n",
      "Step 1 results : [(194, 'T', 1.0)]\n",
      "\n",
      "2e198618-c734-4d73-a67f-79fda49504f5\n",
      "Queries : ['bis', 'T', 'Terre', 'big']\n",
      "\n",
      "Query bis normalized as bis\n",
      "Step 1 results : [(223, 'Bois', 0.8571428571428571)]\n",
      "Query T normalized as t\n",
      "Step 1 results : [(194, 'T', 1.0)]\n",
      "Query Terre normalized as terre\n",
      "Step 1 results : [(193, 'Terre', 1.0)]\n",
      "Query big normalized as big\n",
      "Step 1 results : []\n",
      "NEXT\n",
      "Try to match subqueries ['big']\n",
      "\n",
      "3435dedc-ddc0-4dfd-b834-d04148e44ddf\n",
      "Queries : ['T p390', 'T', 'Terre', 'T.', 'Tp']\n",
      "\n",
      "Query T p390 normalized as t p390\n",
      "Step 1 results : []\n",
      "NEXT\n",
      "Try to match subqueries ['p390']\n",
      "Query T normalized as t\n",
      "Step 1 results : [(194, 'T', 1.0)]\n",
      "Query Terre normalized as terre\n",
      "Step 1 results : [(193, 'Terre', 1.0)]\n",
      "Query T. normalized as t\n",
      "Step 1 results : [(194, 'T', 1.0)]\n",
      "Query Tp normalized as tp\n",
      "Step 1 results : [(201, 'Tp', 1.0)]\n",
      "\n",
      "683e7c3e-e537-44ba-8a02-3c4678d86b2f\n",
      "Queries : ['T', 'Terre']\n",
      "\n",
      "Query T normalized as t\n",
      "Step 1 results : [(194, 'T', 1.0)]\n",
      "Query Terre normalized as terre\n",
      "Step 1 results : [(193, 'Terre', 1.0)]\n",
      "\n",
      "724852d2-464c-4364-a051-8a4505d6cbea\n",
      "Queries : ['T']\n",
      "\n",
      "Query T normalized as t\n",
      "Step 1 results : [(194, 'T', 1.0)]\n",
      "\n",
      "79ee0e05-59c0-4770-a20e-326574627577\n",
      "Queries : ['T', 'Terre']\n",
      "\n",
      "Query T normalized as t\n",
      "Step 1 results : [(194, 'T', 1.0)]\n",
      "Query Terre normalized as terre\n",
      "Step 1 results : [(193, 'Terre', 1.0)]\n",
      "\n",
      "7cc717f5-4612-45f0-8181-7e341e937880\n",
      "Queries : ['T', 'Terre']\n",
      "\n",
      "Query T normalized as t\n",
      "Step 1 results : [(194, 'T', 1.0)]\n",
      "Query Terre normalized as terre\n",
      "Step 1 results : [(193, 'Terre', 1.0)]\n",
      "\n",
      "8d60076b-985d-4374-acb8-c8f17db50d76\n",
      "Queries : ['vigne', 'T', 'Terre']\n",
      "\n",
      "Query vigne normalized as vigne\n",
      "Step 1 results : [(206, 'Vigne', 1.0)]\n",
      "Query T normalized as t\n",
      "Step 1 results : [(194, 'T', 1.0)]\n",
      "Query Terre normalized as terre\n",
      "Step 1 results : [(193, 'Terre', 1.0)]\n",
      "\n",
      "92fb30f9-6891-46e0-adb0-ad396a3ad2dc\n",
      "Queries : ['T', 'Terre', 'Vigne']\n",
      "\n",
      "Query T normalized as t\n",
      "Step 1 results : [(194, 'T', 1.0)]\n",
      "Query Terre normalized as terre\n",
      "Step 1 results : [(193, 'Terre', 1.0)]\n",
      "Query Vigne normalized as vigne\n",
      "Step 1 results : [(206, 'Vigne', 1.0)]\n",
      "\n",
      "9d6d69fc-cc55-4007-acbc-4ec375bec1b3\n",
      "Queries : ['vigne', 'T', 'Terre', 'T.']\n",
      "\n",
      "Query vigne normalized as vigne\n",
      "Step 1 results : [(206, 'Vigne', 1.0)]\n",
      "Query T normalized as t\n",
      "Step 1 results : [(194, 'T', 1.0)]\n",
      "Query Terre normalized as terre\n",
      "Step 1 results : [(193, 'Terre', 1.0)]\n",
      "Query T. normalized as t\n",
      "Step 1 results : [(194, 'T', 1.0)]\n",
      "\n",
      "9e52f7f9-0e66-4753-bcf3-d3cb0916678c\n",
      "Queries : ['T. pt', 'T.pl', 'T', 'Terre', 'T.', 'T.p.']\n",
      "\n",
      "Query T. pt normalized as t pt\n",
      "Step 1 results : [(199, 'T pt', 0.8888888888888888)]\n",
      "Query T.pl normalized as t pl\n",
      "Step 1 results : [(199, 'T pt', 0.75)]\n",
      "Query T normalized as t\n",
      "Step 1 results : [(194, 'T', 1.0)]\n",
      "Query Terre normalized as terre\n",
      "Step 1 results : [(193, 'Terre', 1.0)]\n",
      "Query T. normalized as t\n",
      "Step 1 results : [(194, 'T', 1.0)]\n",
      "Query T.p. normalized as t p\n",
      "Step 1 results : [(199, 'T pt', 0.8571428571428571)]\n",
      "\n",
      "9fde8f6c-f4bd-400c-9710-94f268917bf8\n",
      "Queries : ['T']\n",
      "\n",
      "Query T normalized as t\n",
      "Step 1 results : [(194, 'T', 1.0)]\n",
      "\n",
      "acb5c0fb-1901-405f-862e-f0726e867e7d\n",
      "Queries : ['vigne', 'T', 'Terre', 'Vigne', 'Jardin', 'Tigne']\n",
      "\n",
      "Query vigne normalized as vigne\n",
      "Step 1 results : [(206, 'Vigne', 1.0)]\n",
      "Query T normalized as t\n",
      "Step 1 results : [(194, 'T', 1.0)]\n",
      "Query Terre normalized as terre\n",
      "Step 1 results : [(193, 'Terre', 1.0)]\n",
      "Query Vigne normalized as vigne\n",
      "Step 1 results : [(206, 'Vigne', 1.0)]\n",
      "Query Jardin normalized as jardin\n",
      "Step 1 results : [(231, 'Jardin', 1.0)]\n",
      "Query Tigne normalized as tigne\n",
      "Step 1 results : [(206, 'Vigne', 0.8)]\n",
      "\n",
      "ad913b91-539f-4645-bcde-69dee0c09bb3\n",
      "Queries : ['T.p.', 'T', 'T.']\n",
      "\n",
      "Query T.p. normalized as t p\n",
      "Step 1 results : [(199, 'T pt', 0.8571428571428571)]\n",
      "Query T normalized as t\n",
      "Step 1 results : [(194, 'T', 1.0)]\n",
      "Query T. normalized as t\n",
      "Step 1 results : [(194, 'T', 1.0)]\n",
      "\n",
      "b38e1412-734c-423a-8abc-6758bff52e19\n",
      "Queries : ['T']\n",
      "\n",
      "Query T normalized as t\n",
      "Step 1 results : [(194, 'T', 1.0)]\n",
      "\n",
      "b5e51a0b-23e8-4b63-a074-3ad00f40ecda\n",
      "Queries : ['T', 'Terre']\n",
      "\n",
      "Query T normalized as t\n",
      "Step 1 results : [(194, 'T', 1.0)]\n",
      "Query Terre normalized as terre\n",
      "Step 1 results : [(193, 'Terre', 1.0)]\n",
      "\n",
      "b9996140-18ce-4374-8a66-01c4acdcbb2f\n",
      "Queries : ['T', 'Terre', 'Vigne']\n",
      "\n",
      "Query T normalized as t\n",
      "Step 1 results : [(194, 'T', 1.0)]\n",
      "Query Terre normalized as terre\n",
      "Step 1 results : [(193, 'Terre', 1.0)]\n",
      "Query Vigne normalized as vigne\n",
      "Step 1 results : [(206, 'Vigne', 1.0)]\n",
      "\n",
      "ba86e3f2-7bb6-49a8-a2c2-0773e0a79626\n",
      "Queries : ['T', 'T. .']\n",
      "\n",
      "Query T normalized as t\n",
      "Step 1 results : [(194, 'T', 1.0)]\n",
      "Query T. . normalized as t\n",
      "Step 1 results : [(194, 'T', 1.0)]\n",
      "\n",
      "c8299489-3750-499c-a924-7f3365401c75\n",
      "Queries : ['T', 'Terre']\n",
      "\n",
      "Query T normalized as t\n",
      "Step 1 results : [(194, 'T', 1.0)]\n",
      "Query Terre normalized as terre\n",
      "Step 1 results : [(193, 'Terre', 1.0)]\n",
      "\n",
      "d674fbbe-3b26-4e9d-8a6f-c8c8533d3123\n",
      "Queries : ['T', 'T.pt']\n",
      "\n",
      "Query T normalized as t\n",
      "Step 1 results : [(194, 'T', 1.0)]\n",
      "Query T.pt normalized as t pt\n",
      "Step 1 results : [(199, 'T pt', 1.0)]\n",
      "\n",
      "d7b0141b-7950-4d9b-a947-92728f613d8d\n",
      "Queries : ['Tprt', 'T.pl', 'T', 'Terre', 'T.']\n",
      "\n",
      "Query Tprt normalized as tprt\n",
      "Step 1 results : [(199, 'T pt', 0.75)]\n",
      "Query T.pl normalized as t pl\n",
      "Step 1 results : [(199, 'T pt', 0.75)]\n",
      "Query T normalized as t\n",
      "Step 1 results : [(194, 'T', 1.0)]\n",
      "Query Terre normalized as terre\n",
      "Step 1 results : [(193, 'Terre', 1.0)]\n",
      "Query T. normalized as t\n",
      "Step 1 results : [(194, 'T', 1.0)]\n",
      "\n",
      "eb4fc8e4-abb6-4b61-b3cc-3b244611e66f\n",
      "Queries : ['T', 'Terre']\n",
      "\n",
      "Query T normalized as t\n",
      "Step 1 results : [(194, 'T', 1.0)]\n",
      "Query Terre normalized as terre\n",
      "Step 1 results : [(193, 'Terre', 1.0)]\n",
      "\n",
      "f10c1378-c307-4b24-95f8-1c016610d4af\n",
      "Queries : ['T', 'Terre']\n",
      "\n",
      "Query T normalized as t\n",
      "Step 1 results : [(194, 'T', 1.0)]\n",
      "Query Terre normalized as terre\n",
      "Step 1 results : [(193, 'Terre', 1.0)]\n",
      "\n",
      "f937f814-1950-48e0-a095-bb61ee89b2f3\n",
      "Queries : ['T', 'Terre']\n",
      "\n",
      "Query T normalized as t\n",
      "Step 1 results : [(194, 'T', 1.0)]\n",
      "Query Terre normalized as terre\n",
      "Step 1 results : [(193, 'Terre', 1.0)]\n"
     ]
    }
   ],
   "source": [
    "JSONS = sorted(glob.glob(FOLDER + '/*.json'))\n",
    "KEY = \"Ⓔ\"\n",
    "METHOD = \"editdistancebased\"\n",
    "\n",
    "for JSON in JSONS:\n",
    "    print()\n",
    "    distinct_natures = []\n",
    "    with open(JSON) as f:\n",
    "        page_name = JSON.replace(FOLDER,'').replace('.json','').replace('/','')\n",
    "        print(page_name)\n",
    "        page = json.load(f)\n",
    "        cells = page[\"entities\"]\n",
    "        \n",
    "        for c in cells:\n",
    "            keys = c.keys()\n",
    "            if KEY in keys:\n",
    "                distinct_natures.append(c[KEY]['interpreted_text'])\n",
    "                \n",
    "    distinct_natures = list(set(distinct_natures))\n",
    "    distinct_natures = [d for d in distinct_natures if d is not None]\n",
    "    \n",
    "    remove_chars_regex = '→()↑↓×.,!?;:-@#$%^&*±'\n",
    "    replacement_char = ' '\n",
    "    split_chars = '→, .;'\n",
    "    if METHOD == \"embeddingbased\":\n",
    "        embedding_results = EmbeddingSimilarity.EL_embedding_cosinedistance_matching(distinct_natures, labels_, embedder, remove_chars_regex, replacement_char, split_chars, top_k=1, threshold=0.8)\n",
    "    elif METHOD == \"editdistancebased\":\n",
    "        matched_natures =  EditDistanceBasedSimilarity.EL_gestaltpatternmatching(distinct_natures, labels_, remove_chars_regex, replacement_char, split_chars, top_k=1, threshold=0.7)\n",
    "    \n",
    "    uris_values = LinkingUtils.associate_matches_with_values(distinct_natures, matched_natures, results_ls, 0)\n",
    "    for c in page[\"entities\"]:\n",
    "        keys = c.keys()\n",
    "        if KEY in keys :\n",
    "            if c[KEY][\"interpreted_text\"] is not None:\n",
    "                c[KEY]['uris'] = uris_values[c[KEY][\"interpreted_text\"]]\n",
    "        \n",
    "    with open(JSON, 'w') as f:\n",
    "        json.dump(page, f, indent=4)"
   ]
  },
  {
   "cell_type": "code",
   "execution_count": null,
   "id": "3d86ff97-281f-4022-80dc-db0553957a5b",
   "metadata": {},
   "outputs": [],
   "source": []
  }
 ],
 "metadata": {
  "kernelspec": {
   "display_name": "Python 3 (ipykernel)",
   "language": "python",
   "name": "python3"
  },
  "language_info": {
   "codemirror_mode": {
    "name": "ipython",
    "version": 3
   },
   "file_extension": ".py",
   "mimetype": "text/x-python",
   "name": "python",
   "nbconvert_exporter": "python",
   "pygments_lexer": "ipython3",
   "version": "3.10.12"
  }
 },
 "nbformat": 4,
 "nbformat_minor": 5
}
