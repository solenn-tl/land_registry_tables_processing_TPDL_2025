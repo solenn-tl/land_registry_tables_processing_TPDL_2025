{
 "cells": [
  {
   "cell_type": "markdown",
   "id": "6fc029d9-e93a-4067-98e2-62750a89f8fe",
   "metadata": {},
   "source": [
    "# 50. Create Plot and Documents RDF Resources\n",
    "* Associate each table page with a cover page to retrieve section identifier\n",
    "* Create the Landmark of type Plot\n",
    "* Create the Record Resources of each line and page"
   ]
  },
  {
   "cell_type": "code",
   "execution_count": 1,
   "id": "47e39437-32f3-4a47-a324-56ca5e290065",
   "metadata": {},
   "outputs": [],
   "source": [
    "import pandas as pd\n",
    "import glob\n",
    "import json\n",
    "import uuid\n",
    "import re\n",
    "from rdflib import Graph, URIRef, Literal, RDFS, Namespace, BNode\n",
    "from rdflib.namespace import SKOS, RDF, RDFS, DCTERMS, XSD"
   ]
  },
  {
   "cell_type": "code",
   "execution_count": 2,
   "id": "000f5a38-3e6a-4b09-bbc6-d1c39b55720c",
   "metadata": {},
   "outputs": [],
   "source": [
    "import sys\n",
    "import os\n",
    "# Access to the utils directory\n",
    "current_dir = os.getcwd()\n",
    "utils_dir = os.path.join(current_dir, '..', 'utils')\n",
    "sys.path.append(utils_dir)"
   ]
  },
  {
   "cell_type": "code",
   "execution_count": 3,
   "id": "1e05662b-82c6-4ccd-b2b2-c78278ce7ac1",
   "metadata": {},
   "outputs": [
    {
     "name": "stderr",
     "output_type": "stream",
     "text": [
      "[nltk_data] Downloading package punkt to /home/STual/nltk_data...\n",
      "[nltk_data]   Package punkt is already up-to-date!\n",
      "[nltk_data] Downloading package stopwords to /home/STual/nltk_data...\n",
      "[nltk_data]   Package stopwords is already up-to-date!\n"
     ]
    }
   ],
   "source": [
    "from string_utils import NormalizeText\n",
    "from rdf_resources_utils import generate_rdf_resource_section_landmark, generate_rdf_resource_commune_landmark"
   ]
  },
  {
   "cell_type": "code",
   "execution_count": 4,
   "id": "9862042b-ccaa-4351-8eb9-8db34be2d796",
   "metadata": {},
   "outputs": [],
   "source": [
    "COMMUNE = \"LHAY\"\n",
    "DEP = \"94\""
   ]
  },
  {
   "cell_type": "code",
   "execution_count": 5,
   "id": "27eaf77f-1f96-4040-afdd-822bd26387e1",
   "metadata": {},
   "outputs": [],
   "source": [
    "ROOT = f\"/home/STual/DAN-cadastre/inference/{COMMUNE}\"\n",
    "DATA = f\"/home/STual/DAN-cadastre/data/{COMMUNE}\"\n",
    "JSONS = glob.glob(ROOT + '/*.json')"
   ]
  },
  {
   "cell_type": "code",
   "execution_count": 30,
   "id": "f1543efe-34c4-4c7e-850a-314da078059b",
   "metadata": {},
   "outputs": [
    {
     "name": "stdout",
     "output_type": "stream",
     "text": [
      "26\n"
     ]
    }
   ],
   "source": [
    "print(len(JSONS))"
   ]
  },
  {
   "cell_type": "code",
   "execution_count": 6,
   "id": "89b83812-3d0d-4887-a0ff-8e2d8d0956ca",
   "metadata": {},
   "outputs": [],
   "source": [
    "if not os.path.exists(f'{DATA}/rdf'):\n",
    "    os.makedirs(f'{DATA}/rdf')"
   ]
  },
  {
   "cell_type": "markdown",
   "id": "abe4b8d4-e13d-409e-9af8-0a271cdc8d75",
   "metadata": {},
   "source": [
    "### Retrieve metadata"
   ]
  },
  {
   "cell_type": "code",
   "execution_count": 7,
   "id": "8bee301d-d576-4d15-834b-61cc9d151129",
   "metadata": {},
   "outputs": [
    {
     "data": {
      "text/html": [
       "<div>\n",
       "<style scoped>\n",
       "    .dataframe tbody tr th:only-of-type {\n",
       "        vertical-align: middle;\n",
       "    }\n",
       "\n",
       "    .dataframe tbody tr th {\n",
       "        vertical-align: top;\n",
       "    }\n",
       "\n",
       "    .dataframe thead th {\n",
       "        text-align: right;\n",
       "    }\n",
       "</style>\n",
       "<table border=\"1\" class=\"dataframe\">\n",
       "  <thead>\n",
       "    <tr style=\"text-align: right;\">\n",
       "      <th></th>\n",
       "      <th>Commune</th>\n",
       "      <th>Departement</th>\n",
       "      <th>Nom_dossier</th>\n",
       "      <th>Cote</th>\n",
       "      <th>Page_group_id</th>\n",
       "      <th>Nombre_de_fichiers</th>\n",
       "      <th>Volume_Mo</th>\n",
       "      <th>Ensemble</th>\n",
       "      <th>Date_infos</th>\n",
       "      <th>Date_doc</th>\n",
       "      <th>...</th>\n",
       "      <th>A_echantillonner</th>\n",
       "      <th>Tag_groupe_doc</th>\n",
       "      <th>Sections</th>\n",
       "      <th>Estimation nb couv</th>\n",
       "      <th>Structure</th>\n",
       "      <th>Remarques</th>\n",
       "      <th>Etat</th>\n",
       "      <th>Cotes liées</th>\n",
       "      <th>Ref_v1_en_ligne</th>\n",
       "      <th>P_debut_en_ligne</th>\n",
       "    </tr>\n",
       "  </thead>\n",
       "  <tbody>\n",
       "    <tr>\n",
       "      <th>64</th>\n",
       "      <td>L'Hay-les-Roses</td>\n",
       "      <td>Seine</td>\n",
       "      <td>LHAY</td>\n",
       "      <td>FRAD094_3P_000275_01</td>\n",
       "      <td>65</td>\n",
       "      <td>337.0</td>\n",
       "      <td>5 603,94</td>\n",
       "      <td>3P275</td>\n",
       "      <td>1842</td>\n",
       "      <td>1842</td>\n",
       "      <td>...</td>\n",
       "      <td>False</td>\n",
       "      <td>RECTIFICATION_1835</td>\n",
       "      <td>NaN</td>\n",
       "      <td>NaN</td>\n",
       "      <td>NaN</td>\n",
       "      <td>NaN</td>\n",
       "      <td>Propre</td>\n",
       "      <td>NaN</td>\n",
       "      <td>2 MI 97/1</td>\n",
       "      <td>2.0</td>\n",
       "    </tr>\n",
       "    <tr>\n",
       "      <th>65</th>\n",
       "      <td>L'Hay-les-Roses</td>\n",
       "      <td>Seine</td>\n",
       "      <td>LHAY</td>\n",
       "      <td>FRAD094_3P_000275_01</td>\n",
       "      <td>66</td>\n",
       "      <td>337.0</td>\n",
       "      <td>5 603,94</td>\n",
       "      <td>3P275</td>\n",
       "      <td>1842</td>\n",
       "      <td>1842</td>\n",
       "      <td>...</td>\n",
       "      <td>True</td>\n",
       "      <td>RECTIFICATION_1835</td>\n",
       "      <td>A,B,C,D</td>\n",
       "      <td>NaN</td>\n",
       "      <td>Un chapitre par section</td>\n",
       "      <td>NaN</td>\n",
       "      <td>Propre</td>\n",
       "      <td>NaN</td>\n",
       "      <td>2 MI 97/1</td>\n",
       "      <td>277.0</td>\n",
       "    </tr>\n",
       "    <tr>\n",
       "      <th>66</th>\n",
       "      <td>L'Hay-les-Roses</td>\n",
       "      <td>Seine</td>\n",
       "      <td>LHAY</td>\n",
       "      <td>FRAD094_3P_000275_01</td>\n",
       "      <td>67</td>\n",
       "      <td>337.0</td>\n",
       "      <td>5 603,94</td>\n",
       "      <td>3P275</td>\n",
       "      <td>1842</td>\n",
       "      <td>1842</td>\n",
       "      <td>...</td>\n",
       "      <td>True</td>\n",
       "      <td>RECTIFICATION_1835</td>\n",
       "      <td>A,B,C,D</td>\n",
       "      <td>4.0</td>\n",
       "      <td>Un chapitre par section</td>\n",
       "      <td>NaN</td>\n",
       "      <td>Propre</td>\n",
       "      <td>NaN</td>\n",
       "      <td>2 MI 97/1</td>\n",
       "      <td>68.0</td>\n",
       "    </tr>\n",
       "  </tbody>\n",
       "</table>\n",
       "<p>3 rows × 32 columns</p>\n",
       "</div>"
      ],
      "text/plain": [
       "            Commune Departement Nom_dossier                  Cote  \\\n",
       "64  L'Hay-les-Roses       Seine        LHAY  FRAD094_3P_000275_01   \n",
       "65  L'Hay-les-Roses       Seine        LHAY  FRAD094_3P_000275_01   \n",
       "66  L'Hay-les-Roses       Seine        LHAY  FRAD094_3P_000275_01   \n",
       "\n",
       "    Page_group_id  Nombre_de_fichiers Volume_Mo Ensemble  Date_infos  \\\n",
       "64             65               337.0  5 603,94    3P275        1842   \n",
       "65             66               337.0  5 603,94    3P275        1842   \n",
       "66             67               337.0  5 603,94    3P275        1842   \n",
       "\n",
       "    Date_doc  ... A_echantillonner      Tag_groupe_doc Sections  \\\n",
       "64      1842  ...            False  RECTIFICATION_1835      NaN   \n",
       "65      1842  ...             True  RECTIFICATION_1835  A,B,C,D   \n",
       "66      1842  ...             True  RECTIFICATION_1835  A,B,C,D   \n",
       "\n",
       "    Estimation nb couv                Structure  Remarques    Etat  \\\n",
       "64                 NaN                      NaN        NaN  Propre   \n",
       "65                 NaN  Un chapitre par section        NaN  Propre   \n",
       "66                 4.0  Un chapitre par section        NaN  Propre   \n",
       "\n",
       "    Cotes liées Ref_v1_en_ligne P_debut_en_ligne  \n",
       "64          NaN       2 MI 97/1              2.0  \n",
       "65          NaN       2 MI 97/1            277.0  \n",
       "66          NaN       2 MI 97/1             68.0  \n",
       "\n",
       "[3 rows x 32 columns]"
      ]
     },
     "execution_count": 7,
     "metadata": {},
     "output_type": "execute_result"
    }
   ],
   "source": [
    "metadata = pd.read_csv(\"/home/STual/DAN-cadastre/data/METADATA/details_archives_94_ETS.csv\")\n",
    "metadata = metadata[metadata[\"Nom_dossier\"] == COMMUNE]\n",
    "metadata"
   ]
  },
  {
   "cell_type": "markdown",
   "id": "ba6a8bd6-3509-40da-aeee-e1410687df5d",
   "metadata": {},
   "source": [
    "## 1. Create landmarks of type Section and Commune \n",
    "* Section : Use covers information.\n",
    "* Commune : Use archives metadata\n",
    "### 1.1 Create landmarks of type Section\n",
    "*TODO : currently, retrieve covers info is done manually. A data template and DAR model to perform IE from covers would be necessary to create a full registers treatment pipeline.*"
   ]
  },
  {
   "cell_type": "code",
   "execution_count": 8,
   "id": "e5b1bba2-862d-4319-bec2-024152b8c342",
   "metadata": {},
   "outputs": [],
   "source": [
    "df_couv = pd.read_csv(f'{DATA}/{COMMUNE}_couv.csv')"
   ]
  },
  {
   "cell_type": "code",
   "execution_count": 9,
   "id": "04bb21ff-65d8-4db4-bbab-6abf83cb3020",
   "metadata": {},
   "outputs": [],
   "source": [
    "df_couv['id'] = df_couv.groupby('page_uuid').cumcount()\n",
    "# Pivot the table to transform covers elements into attributs of the page covers\n",
    "pivoted = df_couv.pivot(index='page_uuid', columns='element_type', values='transcription')\n",
    "pivoted = pivoted.sort_values(by=[\"ets_couv_id\"])\n",
    "pivoted = pivoted.reset_index()"
   ]
  },
  {
   "cell_type": "code",
   "execution_count": 10,
   "id": "2c4d41ce-f955-4e3e-8686-7558a7fdeb65",
   "metadata": {},
   "outputs": [
    {
     "data": {
      "text/html": [
       "<div>\n",
       "<style scoped>\n",
       "    .dataframe tbody tr th:only-of-type {\n",
       "        vertical-align: middle;\n",
       "    }\n",
       "\n",
       "    .dataframe tbody tr th {\n",
       "        vertical-align: top;\n",
       "    }\n",
       "\n",
       "    .dataframe thead th {\n",
       "        text-align: right;\n",
       "    }\n",
       "</style>\n",
       "<table border=\"1\" class=\"dataframe\">\n",
       "  <thead>\n",
       "    <tr style=\"text-align: right;\">\n",
       "      <th>element_type</th>\n",
       "      <th>page_uuid</th>\n",
       "      <th>ets_couv_arr</th>\n",
       "      <th>ets_couv_canton</th>\n",
       "      <th>ets_couv_commune</th>\n",
       "      <th>ets_couv_dep</th>\n",
       "      <th>ets_couv_id</th>\n",
       "      <th>ets_couv_modele</th>\n",
       "      <th>ets_couv_name</th>\n",
       "      <th>ets_couv_titre</th>\n",
       "      <th>cad_ltype</th>\n",
       "      <th>identifier</th>\n",
       "      <th>label</th>\n",
       "    </tr>\n",
       "  </thead>\n",
       "  <tbody>\n",
       "    <tr>\n",
       "      <th>0</th>\n",
       "      <td>546500d4-a13d-47d4-8958-d5add3eca984</td>\n",
       "      <td>ARRONDISSEMENT→de Sceaux</td>\n",
       "      <td>CANTON→de Villejuif</td>\n",
       "      <td>COMMUNE→de L'Hay</td>\n",
       "      <td>DEPARTEMENT→de la Seine</td>\n",
       "      <td>SECTION B</td>\n",
       "      <td>(N. 10, ART. 75</td>\n",
       "      <td>dite de la Plaine</td>\n",
       "      <td>TABLEAU INDICATIF des propriétés foncières, de...</td>\n",
       "      <td>Section</td>\n",
       "      <td>B</td>\n",
       "      <td>Section B dite de la Plaine</td>\n",
       "    </tr>\n",
       "  </tbody>\n",
       "</table>\n",
       "</div>"
      ],
      "text/plain": [
       "element_type                             page_uuid              ets_couv_arr  \\\n",
       "0             546500d4-a13d-47d4-8958-d5add3eca984  ARRONDISSEMENT→de Sceaux   \n",
       "\n",
       "element_type      ets_couv_canton  ets_couv_commune             ets_couv_dep  \\\n",
       "0             CANTON→de Villejuif  COMMUNE→de L'Hay  DEPARTEMENT→de la Seine   \n",
       "\n",
       "element_type ets_couv_id  ets_couv_modele      ets_couv_name  \\\n",
       "0              SECTION B  (N. 10, ART. 75  dite de la Plaine   \n",
       "\n",
       "element_type                                     ets_couv_titre cad_ltype  \\\n",
       "0             TABLEAU INDICATIF des propriétés foncières, de...   Section   \n",
       "\n",
       "element_type identifier                        label  \n",
       "0                     B  Section B dite de la Plaine  "
      ]
     },
     "execution_count": 10,
     "metadata": {},
     "output_type": "execute_result"
    }
   ],
   "source": [
    "pivoted[\"cad_ltype\"] = \"Section\"\n",
    "pivoted[\"identifier\"] = pivoted[\"ets_couv_id\"].str[-1]\n",
    "pivoted[\"label\"] = pivoted[\"ets_couv_id\"].str.title() + ' ' + pivoted[\"ets_couv_name\"]\n",
    "pivoted"
   ]
  },
  {
   "cell_type": "markdown",
   "id": "b2bda84f-4042-4051-9a7c-0120c93a4090",
   "metadata": {},
   "source": [
    "The UUID of a Landmark of type section is the cover uuid + the section letter identifier (in case several sections are represented in the same page cover)."
   ]
  },
  {
   "cell_type": "code",
   "execution_count": 11,
   "id": "e43d88ca-c038-4b81-9ccd-0c443659240e",
   "metadata": {},
   "outputs": [
    {
     "data": {
      "text/plain": [
       "{'uuid': '546500d4-a13d-47d4-8958-d5add3eca984',\n",
       " 'cad_ltype': 'Section',\n",
       " 'identifier': 'B',\n",
       " 'label': 'Section B dite de la Plaine',\n",
       " 'source_uuid': '546500d4-a13d-47d4-8958-d5add3eca984'}"
      ]
     },
     "execution_count": 11,
     "metadata": {},
     "output_type": "execute_result"
    }
   ],
   "source": [
    "#Create a dictionnary for each section, used to create the RDF resources\n",
    "landmarks_df = pivoted[[\"cad_ltype\",\"identifier\",\"label\",\"page_uuid\"]]\n",
    "landmarks_dict = []\n",
    "for _, row in landmarks_df.iterrows():\n",
    "    rdf_entities = {\"uuid\":row[\"page_uuid\"],\"cad_ltype\":row[\"cad_ltype\"],\"identifier\":row[\"identifier\"],\"label\":row[\"label\"],\"source_uuid\":row[\"page_uuid\"]}\n",
    "    landmarks_dict.append(rdf_entities)\n",
    "landmarks_dict[0]"
   ]
  },
  {
   "cell_type": "code",
   "execution_count": 12,
   "id": "230b7fbd-1cbe-48c3-8230-641e818645bf",
   "metadata": {},
   "outputs": [],
   "source": [
    "g, uri_dict = generate_rdf_resource_section_landmark(landmarks_dict, DEP, COMMUNE)"
   ]
  },
  {
   "cell_type": "markdown",
   "id": "a753b444-70d7-400a-a648-a75d36b6421d",
   "metadata": {},
   "source": [
    "### 1.2 Add landmark of type commune into the graph\n",
    "This inclue the creation of the **Landmark** of type **Commune** and of the **LandmarkRelations** between commune and its sections (of LRTYPE Within)."
   ]
  },
  {
   "cell_type": "code",
   "execution_count": 13,
   "id": "afdc23da-aa05-4ade-9a4b-c6cb59264c80",
   "metadata": {},
   "outputs": [
    {
     "data": {
      "text/html": [
       "<div>\n",
       "<style scoped>\n",
       "    .dataframe tbody tr th:only-of-type {\n",
       "        vertical-align: middle;\n",
       "    }\n",
       "\n",
       "    .dataframe tbody tr th {\n",
       "        vertical-align: top;\n",
       "    }\n",
       "\n",
       "    .dataframe thead th {\n",
       "        text-align: right;\n",
       "    }\n",
       "</style>\n",
       "<table border=\"1\" class=\"dataframe\">\n",
       "  <thead>\n",
       "    <tr style=\"text-align: right;\">\n",
       "      <th></th>\n",
       "      <th>Departement</th>\n",
       "      <th>Commune</th>\n",
       "      <th>Nom_dossier</th>\n",
       "    </tr>\n",
       "  </thead>\n",
       "  <tbody>\n",
       "    <tr>\n",
       "      <th>64</th>\n",
       "      <td>Seine</td>\n",
       "      <td>L'Hay-les-Roses</td>\n",
       "      <td>LHAY</td>\n",
       "    </tr>\n",
       "  </tbody>\n",
       "</table>\n",
       "</div>"
      ],
      "text/plain": [
       "   Departement          Commune Nom_dossier\n",
       "64       Seine  L'Hay-les-Roses        LHAY"
      ]
     },
     "execution_count": 13,
     "metadata": {},
     "output_type": "execute_result"
    }
   ],
   "source": [
    "commune_metadata = metadata[[\"Departement\",\"Commune\",\"Nom_dossier\"]]\n",
    "commune_metadata = commune_metadata.drop_duplicates()\n",
    "commune_metadata"
   ]
  },
  {
   "cell_type": "code",
   "execution_count": 14,
   "id": "9f722f9a-0115-4f25-99b4-cb549f85590f",
   "metadata": {},
   "outputs": [],
   "source": [
    "rdf_entity = {\"label\":commune_metadata.iloc[0][\"Commune\"],\"departement_num\":DEP,\"commune_code\":COMMUNE}"
   ]
  },
  {
   "cell_type": "code",
   "execution_count": 15,
   "id": "8a9f6abd-a586-4e4d-9467-ccdb67c873cd",
   "metadata": {},
   "outputs": [],
   "source": [
    "#Add the landmark commune to the graph\n",
    "generate_rdf_resource_commune_landmark(g, rdf_entity)"
   ]
  },
  {
   "cell_type": "code",
   "execution_count": 16,
   "id": "21007e85-1d08-4c8c-a660-12cf8ea9f61a",
   "metadata": {},
   "outputs": [
    {
     "data": {
      "text/plain": [
       "<Graph identifier=Ndb06f39828594f888f7e54cd29b1672d (<class 'rdflib.graph.Graph'>)>"
      ]
     },
     "execution_count": 16,
     "metadata": {},
     "output_type": "execute_result"
    }
   ],
   "source": [
    "# Print the RDF graph in Turtle format\n",
    "g.serialize(destination=f\"{DATA}/rdf/landmarks.ttl\", format=\"turtle\")"
   ]
  },
  {
   "cell_type": "markdown",
   "id": "697bd118-d1fa-47a9-9d5e-cfe04f167165",
   "metadata": {},
   "source": [
    "## 2. Create RDF resources of sources"
   ]
  },
  {
   "cell_type": "markdown",
   "id": "0e273110-0afc-4f01-a182-e8a4e027f1af",
   "metadata": {},
   "source": [
    "### 2.1 Registers"
   ]
  },
  {
   "cell_type": "code",
   "execution_count": 17,
   "id": "bd7af824-a902-4d7d-af9b-21a5ef752204",
   "metadata": {},
   "outputs": [
    {
     "data": {
      "text/html": [
       "<div>\n",
       "<style scoped>\n",
       "    .dataframe tbody tr th:only-of-type {\n",
       "        vertical-align: middle;\n",
       "    }\n",
       "\n",
       "    .dataframe tbody tr th {\n",
       "        vertical-align: top;\n",
       "    }\n",
       "\n",
       "    .dataframe thead th {\n",
       "        text-align: right;\n",
       "    }\n",
       "</style>\n",
       "<table border=\"1\" class=\"dataframe\">\n",
       "  <thead>\n",
       "    <tr style=\"text-align: right;\">\n",
       "      <th></th>\n",
       "      <th>Commune</th>\n",
       "      <th>Cote</th>\n",
       "      <th>Nom_dossier</th>\n",
       "      <th>Date_doc</th>\n",
       "      <th>Date_infos</th>\n",
       "      <th>Tag_groupe_doc</th>\n",
       "    </tr>\n",
       "  </thead>\n",
       "  <tbody>\n",
       "    <tr>\n",
       "      <th>64</th>\n",
       "      <td>L'Hay-les-Roses</td>\n",
       "      <td>FRAD094_3P_000275_01</td>\n",
       "      <td>LHAY</td>\n",
       "      <td>1842</td>\n",
       "      <td>1842</td>\n",
       "      <td>RECTIFICATION_1835</td>\n",
       "    </tr>\n",
       "    <tr>\n",
       "      <th>65</th>\n",
       "      <td>L'Hay-les-Roses</td>\n",
       "      <td>FRAD094_3P_000275_01</td>\n",
       "      <td>LHAY</td>\n",
       "      <td>1842</td>\n",
       "      <td>1842</td>\n",
       "      <td>RECTIFICATION_1835</td>\n",
       "    </tr>\n",
       "    <tr>\n",
       "      <th>66</th>\n",
       "      <td>L'Hay-les-Roses</td>\n",
       "      <td>FRAD094_3P_000275_01</td>\n",
       "      <td>LHAY</td>\n",
       "      <td>1842</td>\n",
       "      <td>1842</td>\n",
       "      <td>RECTIFICATION_1835</td>\n",
       "    </tr>\n",
       "  </tbody>\n",
       "</table>\n",
       "</div>"
      ],
      "text/plain": [
       "            Commune                  Cote Nom_dossier  Date_doc  Date_infos  \\\n",
       "64  L'Hay-les-Roses  FRAD094_3P_000275_01        LHAY      1842        1842   \n",
       "65  L'Hay-les-Roses  FRAD094_3P_000275_01        LHAY      1842        1842   \n",
       "66  L'Hay-les-Roses  FRAD094_3P_000275_01        LHAY      1842        1842   \n",
       "\n",
       "        Tag_groupe_doc  \n",
       "64  RECTIFICATION_1835  \n",
       "65  RECTIFICATION_1835  \n",
       "66  RECTIFICATION_1835  "
      ]
     },
     "execution_count": 17,
     "metadata": {},
     "output_type": "execute_result"
    }
   ],
   "source": [
    "metadata_simple = metadata[[\"Commune\",\"Cote\",\"Nom_dossier\",\"Date_doc\",\"Date_infos\",\"Tag_groupe_doc\"]]\n",
    "metadata_simple"
   ]
  },
  {
   "cell_type": "code",
   "execution_count": 18,
   "id": "2d000436-646d-4a84-912a-b32229c11a96",
   "metadata": {},
   "outputs": [
    {
     "data": {
      "text/html": [
       "<div>\n",
       "<style scoped>\n",
       "    .dataframe tbody tr th:only-of-type {\n",
       "        vertical-align: middle;\n",
       "    }\n",
       "\n",
       "    .dataframe tbody tr th {\n",
       "        vertical-align: top;\n",
       "    }\n",
       "\n",
       "    .dataframe thead th {\n",
       "        text-align: right;\n",
       "    }\n",
       "</style>\n",
       "<table border=\"1\" class=\"dataframe\">\n",
       "  <thead>\n",
       "    <tr style=\"text-align: right;\">\n",
       "      <th></th>\n",
       "      <th>id</th>\n",
       "      <th>type</th>\n",
       "      <th>name</th>\n",
       "      <th>coords</th>\n",
       "      <th>image_id</th>\n",
       "      <th>image_name</th>\n",
       "      <th>commune</th>\n",
       "      <th>dossier_cote</th>\n",
       "      <th>image_cote</th>\n",
       "      <th>image_index</th>\n",
       "      <th>image_url</th>\n",
       "      <th>image_width</th>\n",
       "      <th>image_height</th>\n",
       "      <th>is_blank</th>\n",
       "      <th>classe</th>\n",
       "    </tr>\n",
       "  </thead>\n",
       "  <tbody>\n",
       "    <tr>\n",
       "      <th>0</th>\n",
       "      <td>546500d4-a13d-47d4-8958-d5add3eca984</td>\n",
       "      <td>page_add</td>\n",
       "      <td>FRAD094_3P_000275_01_0132</td>\n",
       "      <td>[[0, 0], [0, 5664], [3674, 5664], [3674, 0], [...</td>\n",
       "      <td>77c043e8-c680-4b65-9b5c-a8fc55cca1c1</td>\n",
       "      <td>CADASTRE%2FETATS_DE_SECTION%2FLHAY%2FFRAD094_3...</td>\n",
       "      <td>LHAY</td>\n",
       "      <td>FRAD094_3P_000275_01</td>\n",
       "      <td>FRAD094_3P_000275_01_0132</td>\n",
       "      <td>132</td>\n",
       "      <td>https://iiif.geohistoricaldata.org/iiif/2/CADA...</td>\n",
       "      <td>3674</td>\n",
       "      <td>5664</td>\n",
       "      <td>False</td>\n",
       "      <td>ets_couv</td>\n",
       "    </tr>\n",
       "    <tr>\n",
       "      <th>1</th>\n",
       "      <td>eb4fc8e4-abb6-4b61-b3cc-3b244611e66f</td>\n",
       "      <td>page_add_to_cor</td>\n",
       "      <td>FRAD094_3P_000275_01_0133</td>\n",
       "      <td>[[0, 0], [0, 5656], [3565, 5656], [3565, 0], [...</td>\n",
       "      <td>89c4f1f9-b119-4229-861c-fb64d953099d</td>\n",
       "      <td>CADASTRE%2FETATS_DE_SECTION%2FLHAY%2FFRAD094_3...</td>\n",
       "      <td>LHAY</td>\n",
       "      <td>FRAD094_3P_000275_01</td>\n",
       "      <td>FRAD094_3P_000275_01_0133</td>\n",
       "      <td>133</td>\n",
       "      <td>https://iiif.geohistoricaldata.org/iiif/2/CADA...</td>\n",
       "      <td>3565</td>\n",
       "      <td>5656</td>\n",
       "      <td>False</td>\n",
       "      <td>ets_tab_p1</td>\n",
       "    </tr>\n",
       "    <tr>\n",
       "      <th>2</th>\n",
       "      <td>26d52fc2-aafc-4e58-91f8-68bd6851ad37</td>\n",
       "      <td>page_add_to_cor</td>\n",
       "      <td>FRAD094_3P_000275_01_0134</td>\n",
       "      <td>[[0, 0], [0, 5664], [3624, 5664], [3624, 0], [...</td>\n",
       "      <td>44136ba4-ebf7-442a-b7ff-5d40c17ba080</td>\n",
       "      <td>CADASTRE%2FETATS_DE_SECTION%2FLHAY%2FFRAD094_3...</td>\n",
       "      <td>LHAY</td>\n",
       "      <td>FRAD094_3P_000275_01</td>\n",
       "      <td>FRAD094_3P_000275_01_0134</td>\n",
       "      <td>134</td>\n",
       "      <td>https://iiif.geohistoricaldata.org/iiif/2/CADA...</td>\n",
       "      <td>3624</td>\n",
       "      <td>5664</td>\n",
       "      <td>False</td>\n",
       "      <td>ets_tab_p1</td>\n",
       "    </tr>\n",
       "    <tr>\n",
       "      <th>3</th>\n",
       "      <td>f937f814-1950-48e0-a095-bb61ee89b2f3</td>\n",
       "      <td>page_add_to_cor</td>\n",
       "      <td>FRAD094_3P_000275_01_0135</td>\n",
       "      <td>[[0, 0], [0, 5664], [3668, 5664], [3668, 0], [...</td>\n",
       "      <td>70c70abd-a0e5-49e2-ac06-52642f37ce48</td>\n",
       "      <td>CADASTRE%2FETATS_DE_SECTION%2FLHAY%2FFRAD094_3...</td>\n",
       "      <td>LHAY</td>\n",
       "      <td>FRAD094_3P_000275_01</td>\n",
       "      <td>FRAD094_3P_000275_01_0135</td>\n",
       "      <td>135</td>\n",
       "      <td>https://iiif.geohistoricaldata.org/iiif/2/CADA...</td>\n",
       "      <td>3668</td>\n",
       "      <td>5664</td>\n",
       "      <td>False</td>\n",
       "      <td>ets_tab_p1</td>\n",
       "    </tr>\n",
       "    <tr>\n",
       "      <th>4</th>\n",
       "      <td>b5e51a0b-23e8-4b63-a074-3ad00f40ecda</td>\n",
       "      <td>page_add_to_cor</td>\n",
       "      <td>FRAD094_3P_000275_01_0136</td>\n",
       "      <td>[[0, 0], [0, 5663], [3610, 5663], [3610, 0], [...</td>\n",
       "      <td>dfec8720-063c-4a93-83a1-fe1e7414ff61</td>\n",
       "      <td>CADASTRE%2FETATS_DE_SECTION%2FLHAY%2FFRAD094_3...</td>\n",
       "      <td>LHAY</td>\n",
       "      <td>FRAD094_3P_000275_01</td>\n",
       "      <td>FRAD094_3P_000275_01_0136</td>\n",
       "      <td>136</td>\n",
       "      <td>https://iiif.geohistoricaldata.org/iiif/2/CADA...</td>\n",
       "      <td>3610</td>\n",
       "      <td>5663</td>\n",
       "      <td>False</td>\n",
       "      <td>ets_tab_p1</td>\n",
       "    </tr>\n",
       "  </tbody>\n",
       "</table>\n",
       "</div>"
      ],
      "text/plain": [
       "                                     id             type  \\\n",
       "0  546500d4-a13d-47d4-8958-d5add3eca984         page_add   \n",
       "1  eb4fc8e4-abb6-4b61-b3cc-3b244611e66f  page_add_to_cor   \n",
       "2  26d52fc2-aafc-4e58-91f8-68bd6851ad37  page_add_to_cor   \n",
       "3  f937f814-1950-48e0-a095-bb61ee89b2f3  page_add_to_cor   \n",
       "4  b5e51a0b-23e8-4b63-a074-3ad00f40ecda  page_add_to_cor   \n",
       "\n",
       "                        name  \\\n",
       "0  FRAD094_3P_000275_01_0132   \n",
       "1  FRAD094_3P_000275_01_0133   \n",
       "2  FRAD094_3P_000275_01_0134   \n",
       "3  FRAD094_3P_000275_01_0135   \n",
       "4  FRAD094_3P_000275_01_0136   \n",
       "\n",
       "                                              coords  \\\n",
       "0  [[0, 0], [0, 5664], [3674, 5664], [3674, 0], [...   \n",
       "1  [[0, 0], [0, 5656], [3565, 5656], [3565, 0], [...   \n",
       "2  [[0, 0], [0, 5664], [3624, 5664], [3624, 0], [...   \n",
       "3  [[0, 0], [0, 5664], [3668, 5664], [3668, 0], [...   \n",
       "4  [[0, 0], [0, 5663], [3610, 5663], [3610, 0], [...   \n",
       "\n",
       "                               image_id  \\\n",
       "0  77c043e8-c680-4b65-9b5c-a8fc55cca1c1   \n",
       "1  89c4f1f9-b119-4229-861c-fb64d953099d   \n",
       "2  44136ba4-ebf7-442a-b7ff-5d40c17ba080   \n",
       "3  70c70abd-a0e5-49e2-ac06-52642f37ce48   \n",
       "4  dfec8720-063c-4a93-83a1-fe1e7414ff61   \n",
       "\n",
       "                                          image_name commune  \\\n",
       "0  CADASTRE%2FETATS_DE_SECTION%2FLHAY%2FFRAD094_3...    LHAY   \n",
       "1  CADASTRE%2FETATS_DE_SECTION%2FLHAY%2FFRAD094_3...    LHAY   \n",
       "2  CADASTRE%2FETATS_DE_SECTION%2FLHAY%2FFRAD094_3...    LHAY   \n",
       "3  CADASTRE%2FETATS_DE_SECTION%2FLHAY%2FFRAD094_3...    LHAY   \n",
       "4  CADASTRE%2FETATS_DE_SECTION%2FLHAY%2FFRAD094_3...    LHAY   \n",
       "\n",
       "           dossier_cote                 image_cote  image_index  \\\n",
       "0  FRAD094_3P_000275_01  FRAD094_3P_000275_01_0132          132   \n",
       "1  FRAD094_3P_000275_01  FRAD094_3P_000275_01_0133          133   \n",
       "2  FRAD094_3P_000275_01  FRAD094_3P_000275_01_0134          134   \n",
       "3  FRAD094_3P_000275_01  FRAD094_3P_000275_01_0135          135   \n",
       "4  FRAD094_3P_000275_01  FRAD094_3P_000275_01_0136          136   \n",
       "\n",
       "                                           image_url  image_width  \\\n",
       "0  https://iiif.geohistoricaldata.org/iiif/2/CADA...         3674   \n",
       "1  https://iiif.geohistoricaldata.org/iiif/2/CADA...         3565   \n",
       "2  https://iiif.geohistoricaldata.org/iiif/2/CADA...         3624   \n",
       "3  https://iiif.geohistoricaldata.org/iiif/2/CADA...         3668   \n",
       "4  https://iiif.geohistoricaldata.org/iiif/2/CADA...         3610   \n",
       "\n",
       "   image_height  is_blank      classe  \n",
       "0          5664     False    ets_couv  \n",
       "1          5656     False  ets_tab_p1  \n",
       "2          5664     False  ets_tab_p1  \n",
       "3          5664     False  ets_tab_p1  \n",
       "4          5663     False  ets_tab_p1  "
      ]
     },
     "execution_count": 18,
     "metadata": {},
     "output_type": "execute_result"
    }
   ],
   "source": [
    "# Ouvrir le df des pages => prévoir mapping entre les uuid et les noms des cotes d'archives\n",
    "df_pages = pd.read_csv(f'{DATA}/{COMMUNE}_pages.csv')\n",
    "#df_pages = df_all_pages[df_all_pages[\"classe\"] == \"ets_tab_p1\"]\n",
    "df_pages[0:5]"
   ]
  },
  {
   "cell_type": "code",
   "execution_count": 19,
   "id": "905802cc-3550-4d54-9cbc-18b37a8c632a",
   "metadata": {},
   "outputs": [],
   "source": [
    "from string_utils import NormalizeText\n",
    "from rdf_resources_utils import arkindex_class_to_skosconcept, ets_type\n",
    "\n",
    "def cote_page_parser(cote_page):\n",
    "    \"\"\"\n",
    "    Parser of numeric references of archival documents of Val-de-Marne (94)\n",
    "    As FRAD094_3P_000387_01 or eventually FRAD094_3P_000387_01_0042_P1 (for par of double page)\n",
    "    \"\"\"\n",
    "    cote_parts = cote_page.split(\"_\")\n",
    "    if len(cote_parts) == 6 and cote_page[-2] == 'P':\n",
    "        archives, serie, item, num_folder, page, part_page = cote_parts\n",
    "        archives_ = archives.replace('FRAD','')\n",
    "        archives = NormalizeText.remove_leading_zeros(archives_)\n",
    "        item = NormalizeText.remove_leading_zeros(item)\n",
    "        num_folder = NormalizeText.remove_leading_zeros(num_folder)\n",
    "        paper_cote = serie + item\n",
    "        page = NormalizeText.remove_leading_zeros(page)\n",
    "        part_page = part_page[-1]\n",
    "        return {\"page_numeric_cote\" : cote_page, \"paper_cote\": paper_cote, \"archives\" : archives, \"serie\" : serie, \"item_in_serie\" : item, \"digitize_folder_num\" : num_folder, \"page\": page, \"part_in_double_page\" : part_page}\n",
    "    elif len(cote_parts) == 5:\n",
    "        archives, serie, item, num_folder, page = cote_parts\n",
    "        archives_ = archives.replace('FRAD','')\n",
    "        archives = NormalizeText.remove_leading_zeros(archives_)\n",
    "        item = NormalizeText.remove_leading_zeros(item)\n",
    "        paper_cote = serie + item\n",
    "        page = NormalizeText.remove_leading_zeros(page)\n",
    "        num_folder = NormalizeText.remove_leading_zeros(num_folder)\n",
    "        return {\"page_numeric_cote\" : cote_page, \"paper_cote\": paper_cote, \"archives\" : archives, \"serie\" : serie, \"item_in_serie\" : item, \"digitize_folder_num\" : num_folder, \"page\": page, \"part_in_double_page\" : \"\"}"
   ]
  },
  {
   "cell_type": "code",
   "execution_count": 20,
   "id": "89b949e8-4551-4c45-8b69-84184df1a175",
   "metadata": {},
   "outputs": [],
   "source": [
    "pages_jsons = []\n",
    "last_cover = \"\"\n",
    "for _, row in df_pages.iterrows():\n",
    "    if row[\"classe\"] == \"ets_couv\":\n",
    "        last_cover = row[\"id\"]\n",
    "    json_ = cote_page_parser(row[\"name\"])\n",
    "    json_[\"num_folder\"] = row[\"dossier_cote\"]\n",
    "    json_[\"uuid\"] = row[\"id\"]\n",
    "    json_[\"coordinates\"] = row[\"coords\"]\n",
    "    json_[\"iiif_url\"] = row[\"image_url\"]\n",
    "    json_[\"commune_folder\"] = row[\"commune\"]\n",
    "    json_[\"ml_classe\"] = row[\"classe\"]\n",
    "    json_[\"associated_page_cover_uuid\"] = last_cover\n",
    "\n",
    "    for ix, row2 in metadata_simple.iterrows():\n",
    "        if row2[\"Cote\"] == json_[\"num_folder\"] and row2['Tag_groupe_doc'] != \"AV_1822_B\":\n",
    "            json_[\"commune\"] = row2[\"Commune\"]\n",
    "            json_[\"date_registre\"] = row2[\"Date_doc\"]\n",
    "            json_[\"date_infos\"] = row2[\"Date_infos\"]\n",
    "            json_[\"type_registre\"] = row2[\"Tag_groupe_doc\"]\n",
    "            continue\n",
    "    \n",
    "    pages_jsons.append(json_)"
   ]
  },
  {
   "cell_type": "code",
   "execution_count": 21,
   "id": "cfd77ecf-25b4-48b4-b992-15f9fbd84390",
   "metadata": {},
   "outputs": [],
   "source": [
    "from rdf_resources_utils import generate_source_rdf_resource\n",
    "\n",
    "g = generate_source_rdf_resource(pages_jsons)"
   ]
  },
  {
   "cell_type": "code",
   "execution_count": 22,
   "id": "1a9e9f28-5e32-486b-b640-1ed04cf26161",
   "metadata": {},
   "outputs": [
    {
     "data": {
      "text/plain": [
       "<Graph identifier=N62aa0610751544698979db1985c58316 (<class 'rdflib.graph.Graph'>)>"
      ]
     },
     "execution_count": 22,
     "metadata": {},
     "output_type": "execute_result"
    }
   ],
   "source": [
    "g.serialize(destination=f\"{DATA}/rdf/sources.ttl\", format=\"turtle\")"
   ]
  },
  {
   "cell_type": "markdown",
   "id": "0244308d-35c6-43a6-9ec8-2cff224eed21",
   "metadata": {},
   "source": [
    "## 3. Create landmarks of type Plot, RecordPart for table lines and LandmarkRelations between Plots and Sections"
   ]
  },
  {
   "cell_type": "markdown",
   "id": "9f2a820c-7147-46e0-b587-8e97a790dba6",
   "metadata": {},
   "source": [
    "### 3.1 Add page context infos to page JSON"
   ]
  },
  {
   "cell_type": "code",
   "execution_count": 23,
   "id": "9fc1b1ea-5982-4c1f-8767-0ca3860ad8c7",
   "metadata": {},
   "outputs": [
    {
     "name": "stdout",
     "output_type": "stream",
     "text": [
      "3435dedc-ddc0-4dfd-b834-d04148e44ddf\n",
      "79ee0e05-59c0-4770-a20e-326574627577\n",
      "683e7c3e-e537-44ba-8a02-3c4678d86b2f\n",
      "7cc717f5-4612-45f0-8181-7e341e937880\n",
      "9e52f7f9-0e66-4753-bcf3-d3cb0916678c\n",
      "2c59c9c6-5ed5-4fc1-85cd-4d162c324239\n",
      "8d60076b-985d-4374-acb8-c8f17db50d76\n",
      "f10c1378-c307-4b24-95f8-1c016610d4af\n",
      "92fb30f9-6891-46e0-adb0-ad396a3ad2dc\n",
      "ba86e3f2-7bb6-49a8-a2c2-0773e0a79626\n",
      "b9996140-18ce-4374-8a66-01c4acdcbb2f\n",
      "d674fbbe-3b26-4e9d-8a6f-c8c8533d3123\n",
      "c8299489-3750-499c-a924-7f3365401c75\n",
      "f937f814-1950-48e0-a095-bb61ee89b2f3\n",
      "9fde8f6c-f4bd-400c-9710-94f268917bf8\n",
      "724852d2-464c-4364-a051-8a4505d6cbea\n",
      "b38e1412-734c-423a-8abc-6758bff52e19\n",
      "2e198618-c734-4d73-a67f-79fda49504f5\n",
      "b5e51a0b-23e8-4b63-a074-3ad00f40ecda\n",
      "9d6d69fc-cc55-4007-acbc-4ec375bec1b3\n",
      "d7b0141b-7950-4d9b-a947-92728f613d8d\n",
      "ad913b91-539f-4645-bcde-69dee0c09bb3\n",
      "064cc4ee-9d5e-4922-a6dc-954aaf38fab2\n",
      "26d52fc2-aafc-4e58-91f8-68bd6851ad37\n",
      "eb4fc8e4-abb6-4b61-b3cc-3b244611e66f\n",
      "acb5c0fb-1901-405f-862e-f0726e867e7d\n"
     ]
    }
   ],
   "source": [
    "for JSON in JSONS:\n",
    "    page_uuid = JSON.replace(ROOT+'/',\"\").replace(\".json\",\"\")\n",
    "    print(page_uuid)\n",
    "    with open(JSON) as f:\n",
    "        page = json.load(f)\n",
    "\n",
    "    page[\"context\"] = {}\n",
    "    page_json = next((item for item in pages_jsons if item.get(\"uuid\") == page_uuid), None)\n",
    "    page[\"context\"][\"section\"] = \"http://rdf.geohistoricaldata.org/id/landmark/\" + page_json[\"associated_page_cover_uuid\"]\n",
    "\n",
    "    landmark_dict = next((item for item in landmarks_dict if item.get(\"uuid\") == page_json[\"associated_page_cover_uuid\"]), None)\n",
    "    page[\"context\"][\"section_id\"] = landmark_dict[\"identifier\"]\n",
    "    page[\"context\"][\"commune_uri\"] = \"http://rdf.geohistoricaldata.org/id/landmark/\" + page_json[\"archives\"] + '_' + page_json[\"commune_folder\"]\n",
    "    page[\"context\"][\"commune_folder\"] = page_json[\"commune_folder\"]\n",
    "    page[\"context\"][\"commune\"] = page_json[\"commune\"]\n",
    "    page[\"context\"][\"code_dept\"] = page_json[\"archives\"]\n",
    "    page[\"context\"][\"iiif_url\"] = page_json[\"iiif_url\"][:page_json[\"iiif_url\"].find('.jpg')+4] + '/info.json'\n",
    "    page[\"context\"][\"page_numeric_cote\"] = page_json[\"page_numeric_cote\"]\n",
    "    page[\"context\"][\"date\"] = page_json[\"date_infos\"]\n",
    "\n",
    "    for line in page[\"entities\"]:\n",
    "        if \"Ⓕ\" in list(line.keys()) and 'interpreted_text' in list(line[\"Ⓕ\"].keys()):\n",
    "            line[\"Ⓕ\"]['plot_id'] = landmark_dict[\"identifier\"] + '-' + line[\"Ⓕ\"]['postcorrected_text']\n",
    "        elif \"Ⓕ\" not in list(line.keys()):\n",
    "            line[\"Ⓕ\"] = {}\n",
    "            line[\"Ⓕ\"]['plot_id'] = landmark_dict[\"identifier\"] + '-' + str(\"UNKNOWN\")\n",
    "\n",
    "    with open(JSON,'w', encoding='utf-8') as f:\n",
    "        json.dump(page, f, ensure_ascii=False, indent=4)"
   ]
  },
  {
   "cell_type": "markdown",
   "id": "82161815-7c75-44d8-8345-a51d90b5321c",
   "metadata": {},
   "source": [
    "### 3.2 Create the plot landmark and the table line"
   ]
  },
  {
   "cell_type": "code",
   "execution_count": 26,
   "id": "5a3bc83b-e1cc-4b57-a1c1-4aa86a67db20",
   "metadata": {},
   "outputs": [],
   "source": [
    "from rdf_resources_utils import generate_rdf_resource_plot_landmark, generate_rdf_resource_event"
   ]
  },
  {
   "cell_type": "code",
   "execution_count": 28,
   "id": "b8755817-8a08-4665-8b96-a6ccdedafa45",
   "metadata": {},
   "outputs": [],
   "source": [
    "g = Graph()\n",
    "events_ls = []\n",
    "\n",
    "for JSON in JSONS:\n",
    "    page_uuid = JSON.replace(ROOT+\"/\",\"\").replace(\".json\",\"\")\n",
    "    with open(JSON) as f:\n",
    "        page = json.load(f)\n",
    "\n",
    "    #Plots and lines\n",
    "    generate_rdf_resource_plot_landmark(g, page, page_uuid)\n",
    "    \n",
    "    #Event\n",
    "    uri_event = \"http://rdf.geohistoricaldata.org/id/event/\" + \"CADASTRE_LHAY_\" + str(page[\"context\"][\"date\"])\n",
    "    if uri_event not in events_ls:\n",
    "        generate_rdf_resource_event(g, page)\n",
    "        events_ls.append(uri_event)"
   ]
  },
  {
   "cell_type": "code",
   "execution_count": 29,
   "id": "f78b6091-160a-46fe-b10c-ab2519d6c114",
   "metadata": {},
   "outputs": [
    {
     "data": {
      "text/plain": [
       "<Graph identifier=N08dc9b2206e84ad99a802a600559788e (<class 'rdflib.graph.Graph'>)>"
      ]
     },
     "execution_count": 29,
     "metadata": {},
     "output_type": "execute_result"
    }
   ],
   "source": [
    "g.serialize(destination=f\"{DATA}/rdf/initial-plots.ttl\", format=\"turtle\")"
   ]
  },
  {
   "cell_type": "code",
   "execution_count": null,
   "id": "d0f75acc-dbe0-44d9-bea5-fc910cab78d1",
   "metadata": {},
   "outputs": [],
   "source": []
  }
 ],
 "metadata": {
  "kernelspec": {
   "display_name": "Python 3 (ipykernel)",
   "language": "python",
   "name": "python3"
  },
  "language_info": {
   "codemirror_mode": {
    "name": "ipython",
    "version": 3
   },
   "file_extension": ".py",
   "mimetype": "text/x-python",
   "name": "python",
   "nbconvert_exporter": "python",
   "pygments_lexer": "ipython3",
   "version": "3.10.12"
  }
 },
 "nbformat": 4,
 "nbformat_minor": 5
}
