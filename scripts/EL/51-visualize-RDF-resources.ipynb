{
 "cells": [
  {
   "cell_type": "markdown",
   "id": "6fc029d9-e93a-4067-98e2-62750a89f8fe",
   "metadata": {},
   "source": [
    "# 50. Create Plot and Documents RDF Resources\n",
    "* Associate each table page with a cover page to retrieve section identifier\n",
    "* Create the Landmark of type Plot\n",
    "* Create the Record Resources of each line and page"
   ]
  },
  {
   "cell_type": "code",
   "execution_count": 1,
   "id": "47e39437-32f3-4a47-a324-56ca5e290065",
   "metadata": {},
   "outputs": [],
   "source": [
    "from rdflib import Graph, URIRef, Literal\n",
    "from pyvis.network import Network"
   ]
  },
  {
   "cell_type": "code",
   "execution_count": 2,
   "id": "000f5a38-3e6a-4b09-bbc6-d1c39b55720c",
   "metadata": {},
   "outputs": [],
   "source": [
    "import sys\n",
    "import os\n",
    "# Access to the utils directory\n",
    "current_dir = os.getcwd()\n",
    "utils_dir = os.path.join(current_dir, '..', 'utils')\n",
    "sys.path.append(utils_dir)"
   ]
  },
  {
   "cell_type": "code",
   "execution_count": 3,
   "id": "27eaf77f-1f96-4040-afdd-822bd26387e1",
   "metadata": {
    "scrolled": true
   },
   "outputs": [],
   "source": [
    "COMMUNE = \"LHAY\"\n",
    "DEP = \"94\"\n",
    "DATA = f\"/home/STual/DAN-cadastre/data/{COMMUNE}\""
   ]
  },
  {
   "cell_type": "code",
   "execution_count": 4,
   "id": "9429dd6d-1962-4739-af92-3e77f19532f2",
   "metadata": {},
   "outputs": [],
   "source": [
    "if not os.path.exists(f'{DATA}/viz'):\n",
    "    os.makedirs(f'{DATA}/viz')"
   ]
  },
  {
   "cell_type": "markdown",
   "id": "608c18f7-f4c8-490b-9d4c-2e605e6093aa",
   "metadata": {},
   "source": [
    "## 1. Landmarks (Section, Commune)"
   ]
  },
  {
   "cell_type": "code",
   "execution_count": 8,
   "id": "d9d30f5a-92fe-4ba1-ad76-3226c4f4ff86",
   "metadata": {},
   "outputs": [
    {
     "name": "stdout",
     "output_type": "stream",
     "text": [
      "Warning: When  cdn_resources is 'local' jupyter notebook has issues displaying graphics on chrome/safari. Use cdn_resources='in_line' or cdn_resources='remote' if you have issues viewing graphics in a notebook.\n",
      "landmarks.html\n"
     ]
    },
    {
     "data": {
      "text/html": [
       "\n",
       "        <iframe\n",
       "            width=\"100%\"\n",
       "            height=\"600px\"\n",
       "            src=\"landmarks.html\"\n",
       "            frameborder=\"0\"\n",
       "            allowfullscreen\n",
       "            \n",
       "        ></iframe>\n",
       "        "
      ],
      "text/plain": [
       "<IPython.lib.display.IFrame at 0x7f14e4174730>"
      ]
     },
     "execution_count": 8,
     "metadata": {},
     "output_type": "execute_result"
    }
   ],
   "source": [
    "from rdflib import Graph, URIRef, Literal\n",
    "from pyvis.network import Network\n",
    "\n",
    "# Load your Turtle file\n",
    "g = Graph()\n",
    "g.parse(f\"{DATA}/rdf/landmarks.ttl\", format=\"turtle\")  # Replace with your actual file\n",
    "\n",
    "# Build a label map\n",
    "label_map = {}\n",
    "\n",
    "for s, p, o in g:\n",
    "    # Check for labels\n",
    "    if p.endswith(\"label\") or p.endswith(\"prefLabel\"):\n",
    "        label_map[str(s)] = str(o)\n",
    "\n",
    "# Fallback function to make a label from a URI\n",
    "def short_label(uri):\n",
    "    return label_map.get(uri, uri.split(\"/\")[-1].split(\"#\")[-1])\n",
    "\n",
    "# Initialize Pyvis graph\n",
    "net = Network(notebook=True, directed=True)\n",
    "\n",
    "# Add nodes and edges\n",
    "for s, p, o in g:\n",
    "    s_label = short_label(str(s))\n",
    "    p_label = short_label(str(p))\n",
    "    o_label = short_label(str(o))\n",
    "\n",
    "    net.add_node(s_label, label=s_label)\n",
    "    net.add_node(o_label, label=o_label)\n",
    "    net.add_edge(s_label, o_label, label=p_label)\n",
    "\n",
    "# Show graph\n",
    "net.show(f\"landmarks.html\")"
   ]
  },
  {
   "cell_type": "markdown",
   "id": "822773a8-3dce-405a-9079-8daf4ad69689",
   "metadata": {},
   "source": [
    "## 2. Sources\n",
    "* Look at the subgraph of a given page Instanciation"
   ]
  },
  {
   "cell_type": "code",
   "execution_count": 22,
   "id": "3ee0da30-8cbb-4f44-bbf5-e551fb1028ea",
   "metadata": {},
   "outputs": [],
   "source": [
    "def get_type_label(uri):\n",
    "    for o in g.objects(uri, RDF.type):\n",
    "        # Use qname for better readability: rico:Instantiation, etc.\n",
    "        return g.qname(o)\n",
    "    return \"other\""
   ]
  },
  {
   "cell_type": "code",
   "execution_count": 35,
   "id": "f22ffbb9-15e2-42a6-9193-d9a19172aa0a",
   "metadata": {},
   "outputs": [],
   "source": [
    "from rdflib import Graph, Namespace, Literal\n",
    "from rdflib.namespace import RDF\n",
    "from pyvis.network import Network\n",
    "\n",
    "KEEP_PREDICATES = {\n",
    "    \"rico:identifier\",\n",
    "    \"rico:isOrWasIncludedIn\",\n",
    "    \"rico:isOrWasDigitalInstantiationOf\",\n",
    "    \"rico:hasCreationDate\",\n",
    "}\n",
    "\n",
    "# Load RDF file\n",
    "g = Graph()\n",
    "g.parse(f\"{DATA}/rdf/sources.ttl\", format=\"turtle\")\n",
    "\n",
    "# Define namespaces\n",
    "RICO = Namespace(\"https://www.ica.org/standards/RiC/ontology#\")\n",
    "SOURCE = Namespace(\"http://rdf.geohistoricaldata.org/id/source/\")\n",
    "\n",
    "# Select instantiation with specific identifier\n",
    "target_id = \"3P275\"\n",
    "instantiations = []\n",
    "\n",
    "for s in g.subjects(RICO.identifier, Literal(target_id)):\n",
    "    instantiations.append(s)"
   ]
  },
  {
   "cell_type": "code",
   "execution_count": 36,
   "id": "806d067b-3fdd-4871-b5c6-d6e5f8d0ae0a",
   "metadata": {},
   "outputs": [],
   "source": [
    "if instantiations:\n",
    "    inst = instantiations[0]\n",
    "    connected_triples = set()\n",
    "\n",
    "    for p, o in g.predicate_objects(inst):\n",
    "        connected_triples.add((inst, p, o))\n",
    "        \n",
    "        # Get one hop further for related nodes\n",
    "        if isinstance(o, URIRef):\n",
    "            for pp, oo in g.predicate_objects(o):\n",
    "                connected_triples.add((o, pp, oo))\n",
    "else:\n",
    "    print(\"No matching instantiation found.\")"
   ]
  },
  {
   "cell_type": "code",
   "execution_count": 37,
   "id": "4a1e6cbb-30de-4ed2-b643-2ce61f54d49d",
   "metadata": {},
   "outputs": [],
   "source": [
    "label_map = {}\n",
    "\n",
    "# Collect human-readable labels\n",
    "for s, p, o in g:\n",
    "    if p.endswith(\"label\") or p.endswith(\"name\") or p.endswith(\"identifier\"):\n",
    "        label_map[str(s)] = str(o)\n",
    "\n",
    "def get_label(uri):\n",
    "    return label_map.get(str(uri), str(uri).split(\"/\")[-1].split(\"#\")[-1])"
   ]
  },
  {
   "cell_type": "code",
   "execution_count": 40,
   "id": "6804f20c-aa79-4639-a2ea-3d8d6cce6e39",
   "metadata": {},
   "outputs": [
    {
     "name": "stdout",
     "output_type": "stream",
     "text": [
      "Warning: When  cdn_resources is 'local' jupyter notebook has issues displaying graphics on chrome/safari. Use cdn_resources='in_line' or cdn_resources='remote' if you have issues viewing graphics in a notebook.\n"
     ]
    }
   ],
   "source": [
    "net = Network(notebook=True, directed=True)\n",
    "nodes = set()\n",
    "\n",
    "for s, p, o in connected_triples:\n",
    "    s_label = get_label(s)\n",
    "    p_label = get_label(p)\n",
    "    o_label = get_label(o)\n",
    "\n",
    "    # Add nodes if not already added\n",
    "    if s_label not in nodes:\n",
    "        net.add_node(s_label, label=s_label)\n",
    "        nodes.add(s_label)\n",
    "\n",
    "    if o_label not in nodes:\n",
    "        net.add_node(o_label, label=o_label)\n",
    "        nodes.add(o_label)\n",
    "\n",
    "    net.add_edge(s_label, o_label, label=p_label)"
   ]
  },
  {
   "cell_type": "code",
   "execution_count": 41,
   "id": "d80ae587-996d-469c-811b-a1bc6183c556",
   "metadata": {},
   "outputs": [
    {
     "name": "stdout",
     "output_type": "stream",
     "text": [
      "sources.html\n"
     ]
    },
    {
     "data": {
      "text/html": [
       "\n",
       "        <iframe\n",
       "            width=\"100%\"\n",
       "            height=\"600px\"\n",
       "            src=\"sources.html\"\n",
       "            frameborder=\"0\"\n",
       "            allowfullscreen\n",
       "            \n",
       "        ></iframe>\n",
       "        "
      ],
      "text/plain": [
       "<IPython.lib.display.IFrame at 0x7f14d0a70b50>"
      ]
     },
     "execution_count": 41,
     "metadata": {},
     "output_type": "execute_result"
    }
   ],
   "source": [
    "net.show(\"sources.html\")"
   ]
  },
  {
   "cell_type": "code",
   "execution_count": null,
   "id": "ce1a4a8b-365b-4fe0-bcb6-576d70d6dae2",
   "metadata": {},
   "outputs": [],
   "source": []
  }
 ],
 "metadata": {
  "kernelspec": {
   "display_name": "Python 3 (ipykernel)",
   "language": "python",
   "name": "python3"
  },
  "language_info": {
   "codemirror_mode": {
    "name": "ipython",
    "version": 3
   },
   "file_extension": ".py",
   "mimetype": "text/x-python",
   "name": "python",
   "nbconvert_exporter": "python",
   "pygments_lexer": "ipython3",
   "version": "3.10.12"
  }
 },
 "nbformat": 4,
 "nbformat_minor": 5
}
