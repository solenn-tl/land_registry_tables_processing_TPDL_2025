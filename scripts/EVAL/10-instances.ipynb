{
 "cells": [
  {
   "cell_type": "markdown",
   "metadata": {},
   "source": [
    "# 10. Instances"
   ]
  },
  {
   "cell_type": "markdown",
   "metadata": {},
   "source": [
    "This notebook aims to compute completness and semantic presision on Instances of the predicted graph by comparison to the gold standard graph."
   ]
  },
  {
   "cell_type": "code",
   "execution_count": 21,
   "metadata": {},
   "outputs": [],
   "source": [
    "import glob\n",
    "import pandas as pd\n",
    "import requests\n",
    "from graphdbfunctions import *\n",
    "from graph_evaluation import *\n",
    "from namespaces import prefixes\n",
    "from great_tables import GT\n",
    "import polars as pl"
   ]
  },
  {
   "cell_type": "code",
   "execution_count": 22,
   "metadata": {},
   "outputs": [],
   "source": [
    "GRAPHDB_HOST = \"http://localhost:7200\"\n",
    "GRAPHDB_REPO = 'lhay' # Your repository ID/Name\n",
    "proxies = {\n",
    " \"http\": None,\n",
    " \"https\": None,\n",
    "}"
   ]
  },
  {
   "cell_type": "markdown",
   "metadata": {},
   "source": [
    "Before executing this code for the first time, please execute this SPARQL query : \n",
    "```sparql\n",
    "PREFIX lrtype: <http://rdf.geohistoricaldata.org/id/codes/address/landmarkRelationType/>\n",
    "PREFIX addr: <http://rdf.geohistoricaldata.org/def/address#>\n",
    "\n",
    "DELETE {\n",
    "  GRAPH <http://rdf.geohistoricaldata.org/gold> {\n",
    "    ?s addr:isLandmarkRelationType lrtype:Undefined.\n",
    "  }\n",
    "}\n",
    "INSERT {\n",
    "  GRAPH <http://rdf.geohistoricaldata.org/gold> {\n",
    "    ?s addr:isLandmarkRelationType lrtype:Within.\n",
    "  }\n",
    "}\n",
    "WHERE {\n",
    "  GRAPH <http://rdf.geohistoricaldata.org/gold> {\n",
    "    ?s addr:isLandmarkRelationType lrtype:Undefined.\n",
    "  }\n",
    "}\n",
    "```"
   ]
  },
  {
   "cell_type": "markdown",
   "metadata": {},
   "source": [
    "### 1. Global metrics"
   ]
  },
  {
   "cell_type": "code",
   "execution_count": 23,
   "metadata": {},
   "outputs": [],
   "source": [
    "query = prefixes + \"\"\"\n",
    "select * where {\n",
    "\tGRAPH <GRAPH_URI> {\n",
    "    ?entity rdf:type ?type.\n",
    "    FILTER (!STRSTARTS(STR(?entity), \"_:\"))  # Ensures the subject is not a blank node\n",
    "}}\n",
    "\"\"\""
   ]
  },
  {
   "cell_type": "code",
   "execution_count": 24,
   "metadata": {},
   "outputs": [],
   "source": [
    "query = prefixes + \"\"\"\n",
    "select ?entity ?type\n",
    "where \n",
    "    {{select * \n",
    "    where {\n",
    "        GRAPH <GRAPH_URI> {\n",
    "        ?entity rdf:type ?type.\n",
    "        FILTER (!STRSTARTS(STR(?entity), \"_:\"))  # Ensures the subject is not a blank node\n",
    "    \t}}\n",
    "\t} UNION {\n",
    "\t{select * \n",
    "    where {\n",
    "        GRAPH <GRAPH_URI> {\n",
    "        ?entity_att rdf:type addr:Attribute.\n",
    "        ?entity addr:hasAttribute ?entity_att.\n",
    "        ?entity rdf:type addr:Landmark.\n",
    "        BIND(addr:Attribute as ?type)\n",
    "    \t}}\n",
    "        }} UNION {\n",
    "        select * \n",
    "    where {\n",
    "        GRAPH <GRAPH_URI> {\n",
    "        ?entity_attv rdf:type addr:AttributeVersion.\n",
    "        ?entity_att addr:hasAttributeVersion ?entity_attv.\n",
    "        ?entity addr:hasAttribute ?entity_att.\n",
    "        ?entity rdf:type addr:Landmark.\n",
    "        BIND(addr:AttributeVersion as ?type)\n",
    "    \t}\n",
    "        }}}\n",
    "\"\"\""
   ]
  },
  {
   "cell_type": "code",
   "execution_count": 25,
   "metadata": {},
   "outputs": [],
   "source": [
    "gold, pred = get_triples(query, \"http://rdf.geohistoricaldata.org/gold\", \"http://rdf.geohistoricaldata.org/auto\",GRAPHDB_HOST,GRAPHDB_REPO,proxies)"
   ]
  },
  {
   "cell_type": "code",
   "execution_count": 26,
   "metadata": {},
   "outputs": [],
   "source": [
    "from namespaces import prefixes_dict\n",
    "#Using prefixes_dict, replace strings in the type column\n",
    "for c in [\"entity\",\"type\"]:\n",
    "    for prefix, uri in prefixes_dict.items():\n",
    "        gold[c] = gold[c].str.replace(prefix, uri, regex=False)\n",
    "        pred[c] = pred[c].str.replace(prefix, uri, regex=False)"
   ]
  },
  {
   "cell_type": "code",
   "execution_count": 27,
   "metadata": {},
   "outputs": [
    {
     "name": "stdout",
     "output_type": "stream",
     "text": [
      "Number of triples in gold : 5289\n",
      "Number of triples in pred : 5200\n"
     ]
    }
   ],
   "source": [
    "print(f'Number of triples in gold : {len(gold)}')\n",
    "print(f'Number of triples in pred : {len(pred)}')"
   ]
  },
  {
   "cell_type": "code",
   "execution_count": 28,
   "metadata": {},
   "outputs": [],
   "source": [
    "SAVE_FILES = False\n",
    "\n",
    "gold_in_pred, gold_not_in_pred, pred_in_gold, pred_not_in_gold = compare_dfs(gold, pred)\n",
    "\n",
    "if SAVE_FILES:\n",
    "    gold.to_csv(\"gold_entities.csv\", index=False)\n",
    "    pred.to_csv(\"pred_entities.csv\", index=False)\n",
    "    gold_in_pred.to_csv(\"non_identical_entities_gold.csv\", index=False)\n",
    "    pred_in_gold.to_csv(\"non_identical_entities_pred.csv\", index=False)"
   ]
  },
  {
   "cell_type": "code",
   "execution_count": 29,
   "metadata": {},
   "outputs": [
    {
     "data": {
      "text/plain": [
       "{'Agreement': 87.26,\n",
       " 'Deficit': 12.740000000000002,\n",
       " 'Surplus': 11.940000000000001}"
      ]
     },
     "execution_count": 29,
     "metadata": {},
     "output_type": "execute_result"
    }
   ],
   "source": [
    "metrics_all = compute_metrics(gold,pred)\n",
    "metrics_all"
   ]
  },
  {
   "cell_type": "markdown",
   "metadata": {},
   "source": [
    "### 2. Evaluation by type (rdf:type)"
   ]
  },
  {
   "cell_type": "markdown",
   "metadata": {},
   "source": [
    "#### Count"
   ]
  },
  {
   "cell_type": "code",
   "execution_count": 30,
   "metadata": {},
   "outputs": [],
   "source": [
    "# Get counts for gold and pred\n",
    "gold_df = get_property_df(gold)\n",
    "pred_df = get_property_df(pred)"
   ]
  },
  {
   "cell_type": "code",
   "execution_count": 31,
   "metadata": {},
   "outputs": [
    {
     "data": {
      "text/html": [
       "<div>\n",
       "<style scoped>\n",
       "    .dataframe tbody tr th:only-of-type {\n",
       "        vertical-align: middle;\n",
       "    }\n",
       "\n",
       "    .dataframe tbody tr th {\n",
       "        vertical-align: top;\n",
       "    }\n",
       "\n",
       "    .dataframe thead th {\n",
       "        text-align: right;\n",
       "    }\n",
       "</style>\n",
       "<table border=\"1\" class=\"dataframe\">\n",
       "  <thead>\n",
       "    <tr style=\"text-align: right;\">\n",
       "      <th></th>\n",
       "      <th>type</th>\n",
       "      <th>Count_x</th>\n",
       "      <th>Count_y</th>\n",
       "      <th>Difference</th>\n",
       "    </tr>\n",
       "  </thead>\n",
       "  <tbody>\n",
       "    <tr>\n",
       "      <th>2</th>\n",
       "      <td>addr:Change</td>\n",
       "      <td>1446</td>\n",
       "      <td>1407</td>\n",
       "      <td>39</td>\n",
       "    </tr>\n",
       "    <tr>\n",
       "      <th>0</th>\n",
       "      <td>addr:Attribute</td>\n",
       "      <td>1084</td>\n",
       "      <td>1050</td>\n",
       "      <td>34</td>\n",
       "    </tr>\n",
       "    <tr>\n",
       "      <th>1</th>\n",
       "      <td>addr:AttributeVersion</td>\n",
       "      <td>1084</td>\n",
       "      <td>1050</td>\n",
       "      <td>34</td>\n",
       "    </tr>\n",
       "    <tr>\n",
       "      <th>6</th>\n",
       "      <td>cad:Taxpayer</td>\n",
       "      <td>152</td>\n",
       "      <td>185</td>\n",
       "      <td>33</td>\n",
       "    </tr>\n",
       "    <tr>\n",
       "      <th>5</th>\n",
       "      <td>addr:LandmarkRelation</td>\n",
       "      <td>728</td>\n",
       "      <td>712</td>\n",
       "      <td>16</td>\n",
       "    </tr>\n",
       "    <tr>\n",
       "      <th>4</th>\n",
       "      <td>addr:Landmark</td>\n",
       "      <td>367</td>\n",
       "      <td>373</td>\n",
       "      <td>6</td>\n",
       "    </tr>\n",
       "    <tr>\n",
       "      <th>7</th>\n",
       "      <td>rico:Instantiation</td>\n",
       "      <td>395</td>\n",
       "      <td>390</td>\n",
       "      <td>5</td>\n",
       "    </tr>\n",
       "    <tr>\n",
       "      <th>3</th>\n",
       "      <td>addr:Event</td>\n",
       "      <td>1</td>\n",
       "      <td>1</td>\n",
       "      <td>0</td>\n",
       "    </tr>\n",
       "    <tr>\n",
       "      <th>8</th>\n",
       "      <td>rico:Record</td>\n",
       "      <td>30</td>\n",
       "      <td>30</td>\n",
       "      <td>0</td>\n",
       "    </tr>\n",
       "    <tr>\n",
       "      <th>9</th>\n",
       "      <td>rico:RecordSet</td>\n",
       "      <td>2</td>\n",
       "      <td>2</td>\n",
       "      <td>0</td>\n",
       "    </tr>\n",
       "  </tbody>\n",
       "</table>\n",
       "</div>"
      ],
      "text/plain": [
       "                    type  Count_x  Count_y  Difference\n",
       "2            addr:Change     1446     1407          39\n",
       "0         addr:Attribute     1084     1050          34\n",
       "1  addr:AttributeVersion     1084     1050          34\n",
       "6           cad:Taxpayer      152      185          33\n",
       "5  addr:LandmarkRelation      728      712          16\n",
       "4          addr:Landmark      367      373           6\n",
       "7     rico:Instantiation      395      390           5\n",
       "3             addr:Event        1        1           0\n",
       "8            rico:Record       30       30           0\n",
       "9         rico:RecordSet        2        2           0"
      ]
     },
     "metadata": {},
     "output_type": "display_data"
    }
   ],
   "source": [
    "# Merge the two DataFrames on the 'Property' column : Property Count_gold, Count_pred\n",
    "df = pd.merge(gold_df, pred_df, on='type', how='outer')\n",
    "df.fillna(0, inplace=True)\n",
    "#Compmpute the difference (abs)\n",
    "df['Difference'] = abs(df['Count_x'] - df['Count_y'])\n",
    "#Sort by difference\n",
    "df.sort_values(by='Difference', ascending=False, inplace=True)\n",
    "display(df)"
   ]
  },
  {
   "cell_type": "markdown",
   "metadata": {},
   "source": [
    "#### Compute metrics"
   ]
  },
  {
   "cell_type": "code",
   "execution_count": 32,
   "metadata": {},
   "outputs": [
    {
     "data": {
      "text/plain": [
       "['addr:Change',\n",
       " 'addr:Attribute',\n",
       " 'addr:AttributeVersion',\n",
       " 'cad:Taxpayer',\n",
       " 'addr:LandmarkRelation',\n",
       " 'addr:Landmark',\n",
       " 'rico:Instantiation',\n",
       " 'addr:Event',\n",
       " 'rico:Record',\n",
       " 'rico:RecordSet']"
      ]
     },
     "execution_count": 32,
     "metadata": {},
     "output_type": "execute_result"
    }
   ],
   "source": [
    "properties = get_list_of_properties(df,\"type\")\n",
    "properties"
   ]
  },
  {
   "cell_type": "code",
   "execution_count": 33,
   "metadata": {},
   "outputs": [],
   "source": [
    "#Filter these df by 'type' column value : \n",
    "def filter_df(df, column, column_value):\n",
    "    \"\"\"\n",
    "    Filters the DataFrame based on the specified column and value.\n",
    "    \"\"\"\n",
    "    filtered_df = df[df[column] == column_value].copy()\n",
    "    return filtered_df"
   ]
  },
  {
   "cell_type": "code",
   "execution_count": 34,
   "metadata": {},
   "outputs": [],
   "source": [
    "from great_tables import GT\n",
    "import polars as pl\n",
    "\n",
    "metrics_by_properties = []\n",
    "for p in properties:\n",
    "    # Get the instances of the property in gold and pred\n",
    "    gold_instances = filter_df(gold,\"type\",p)\n",
    "    pred_instances = filter_df(pred,\"type\",p)\n",
    "    \n",
    "    # Compute\n",
    "    metrics = compute_metrics(gold_instances, pred_instances)\n",
    "    metrics_by_properties.append({\n",
    "        \"Type\": p,\n",
    "        \"Agreement\": metrics[\"Agreement\"],\n",
    "        \"Deficit\": metrics[\"Deficit\"],\n",
    "        \"Surplus\": metrics[\"Surplus\"],\n",
    "        \"Actual\": len(gold_instances),\n",
    "        \"Predicted\": len(pred_instances)\n",
    "        #\"Precision\": metrics[\"Precision\"],\n",
    "        #\"Recall\": metrics[\"Recall\"],\n",
    "        #\"F1 score\": metrics[\"F1 score\"]\n",
    "    })\n",
    "# Create a DataFrame from the metrics\n",
    "metrics_df = pd.DataFrame(metrics_by_properties)"
   ]
  },
  {
   "cell_type": "code",
   "execution_count": 35,
   "metadata": {},
   "outputs": [
    {
     "data": {
      "text/html": [
       "<div id=\"khrqwwkxas\" style=\"padding-left:0px;padding-right:0px;padding-top:10px;padding-bottom:10px;overflow-x:auto;overflow-y:auto;width:auto;height:auto;\">\n",
       "<style>\n",
       "#khrqwwkxas table {\n",
       "          font-family: -apple-system, BlinkMacSystemFont, 'Segoe UI', Roboto, Oxygen, Ubuntu, Cantarell, 'Helvetica Neue', 'Fira Sans', 'Droid Sans', Arial, sans-serif;\n",
       "          -webkit-font-smoothing: antialiased;\n",
       "          -moz-osx-font-smoothing: grayscale;\n",
       "        }\n",
       "\n",
       "#khrqwwkxas thead, tbody, tfoot, tr, td, th { border-style: none !important; }\n",
       " tr { background-color: transparent !important; }\n",
       "#khrqwwkxas p { margin: 0 !important; padding: 0 !important; }\n",
       " #khrqwwkxas .gt_table { display: table !important; border-collapse: collapse !important; line-height: normal !important; margin-left: auto !important; margin-right: auto !important; color: #333333 !important; font-size: 16px !important; font-weight: normal !important; font-style: normal !important; background-color: #FFFFFF !important; width: auto !important; border-top-style: solid !important; border-top-width: 2px !important; border-top-color: #A8A8A8 !important; border-right-style: none !important; border-right-width: 2px !important; border-right-color: #D3D3D3 !important; border-bottom-style: solid !important; border-bottom-width: 2px !important; border-bottom-color: #A8A8A8 !important; border-left-style: none !important; border-left-width: 2px !important; border-left-color: #D3D3D3 !important; }\n",
       " #khrqwwkxas .gt_caption { padding-top: 4px !important; padding-bottom: 4px !important; }\n",
       " #khrqwwkxas .gt_title { color: #333333 !important; font-size: 125% !important; font-weight: initial !important; padding-top: 4px !important; padding-bottom: 4px !important; padding-left: 5px !important; padding-right: 5px !important; border-bottom-color: #FFFFFF !important; border-bottom-width: 0 !important; }\n",
       " #khrqwwkxas .gt_subtitle { color: #333333 !important; font-size: 85% !important; font-weight: initial !important; padding-top: 3px !important; padding-bottom: 5px !important; padding-left: 5px !important; padding-right: 5px !important; border-top-color: #FFFFFF !important; border-top-width: 0 !important; }\n",
       " #khrqwwkxas .gt_heading { background-color: #FFFFFF !important; text-align: center !important; border-bottom-color: #FFFFFF !important; border-left-style: none !important; border-left-width: 1px !important; border-left-color: #D3D3D3 !important; border-right-style: none !important; border-right-width: 1px !important; border-right-color: #D3D3D3 !important; }\n",
       " #khrqwwkxas .gt_bottom_border { border-bottom-style: solid !important; border-bottom-width: 2px !important; border-bottom-color: #D3D3D3 !important; }\n",
       " #khrqwwkxas .gt_col_headings { border-top-style: solid !important; border-top-width: 2px !important; border-top-color: #D3D3D3 !important; border-bottom-style: solid !important; border-bottom-width: 2px !important; border-bottom-color: #D3D3D3 !important; border-left-style: none !important; border-left-width: 1px !important; border-left-color: #D3D3D3 !important; border-right-style: none !important; border-right-width: 1px !important; border-right-color: #D3D3D3 !important; }\n",
       " #khrqwwkxas .gt_col_heading { color: #333333 !important; background-color: #FFFFFF !important; font-size: 100% !important; font-weight: normal !important; text-transform: inherit !important; border-left-style: none !important; border-left-width: 1px !important; border-left-color: #D3D3D3 !important; border-right-style: none !important; border-right-width: 1px !important; border-right-color: #D3D3D3 !important; vertical-align: bottom !important; padding-top: 5px !important; padding-bottom: 5px !important; padding-left: 5px !important; padding-right: 5px !important; overflow-x: hidden !important; }\n",
       " #khrqwwkxas .gt_column_spanner_outer { color: #333333 !important; background-color: #FFFFFF !important; font-size: 100% !important; font-weight: normal !important; text-transform: inherit !important; padding-top: 0 !important; padding-bottom: 0 !important; padding-left: 4px !important; padding-right: 4px !important; }\n",
       " #khrqwwkxas .gt_column_spanner_outer:first-child { padding-left: 0 !important; }\n",
       " #khrqwwkxas .gt_column_spanner_outer:last-child { padding-right: 0 !important; }\n",
       " #khrqwwkxas .gt_column_spanner { border-bottom-style: solid !important; border-bottom-width: 2px !important; border-bottom-color: #D3D3D3 !important; vertical-align: bottom !important; padding-top: 5px !important; padding-bottom: 5px !important; overflow-x: hidden !important; display: inline-block !important; width: 100% !important; }\n",
       " #khrqwwkxas .gt_spanner_row { border-bottom-style: hidden !important; }\n",
       " #khrqwwkxas .gt_group_heading { padding-top: 8px !important; padding-bottom: 8px !important; padding-left: 5px !important; padding-right: 5px !important; color: #333333 !important; background-color: #FFFFFF !important; font-size: 100% !important; font-weight: initial !important; text-transform: inherit !important; border-top-style: solid !important; border-top-width: 2px !important; border-top-color: #D3D3D3 !important; border-bottom-style: solid !important; border-bottom-width: 2px !important; border-bottom-color: #D3D3D3 !important; border-left-style: none !important; border-left-width: 1px !important; border-left-color: #D3D3D3 !important; border-right-style: none !important; border-right-width: 1px !important; border-right-color: #D3D3D3 !important; vertical-align: middle !important; text-align: left !important; }\n",
       " #khrqwwkxas .gt_empty_group_heading { padding: 0.5px !important; color: #333333 !important; background-color: #FFFFFF !important; font-size: 100% !important; font-weight: initial !important; border-top-style: solid !important; border-top-width: 2px !important; border-top-color: #D3D3D3 !important; border-bottom-style: solid !important; border-bottom-width: 2px !important; border-bottom-color: #D3D3D3 !important; vertical-align: middle !important; }\n",
       " #khrqwwkxas .gt_from_md> :first-child { margin-top: 0 !important; }\n",
       " #khrqwwkxas .gt_from_md> :last-child { margin-bottom: 0 !important; }\n",
       " #khrqwwkxas .gt_row { padding-top: 8px !important; padding-bottom: 8px !important; padding-left: 5px !important; padding-right: 5px !important; margin: 10px !important; border-top-style: solid !important; border-top-width: 1px !important; border-top-color: #D3D3D3 !important; border-left-style: none !important; border-left-width: 1px !important; border-left-color: #D3D3D3 !important; border-right-style: none !important; border-right-width: 1px !important; border-right-color: #D3D3D3 !important; vertical-align: middle !important; overflow-x: hidden !important; }\n",
       " #khrqwwkxas .gt_stub { color: #333333 !important; background-color: #FFFFFF !important; font-size: 100% !important; font-weight: initial !important; text-transform: inherit !important; border-right-style: solid !important; border-right-width: 2px !important; border-right-color: #D3D3D3 !important; padding-left: 5px !important; padding-right: 5px !important; }\n",
       " #khrqwwkxas .gt_stub_row_group { color: #333333 !important; background-color: #FFFFFF !important; font-size: 100% !important; font-weight: initial !important; text-transform: inherit !important; border-right-style: solid !important; border-right-width: 2px !important; border-right-color: #D3D3D3 !important; padding-left: 5px !important; padding-right: 5px !important; vertical-align: top !important; }\n",
       " #khrqwwkxas .gt_row_group_first td { border-top-width: 2px !important; }\n",
       " #khrqwwkxas .gt_row_group_first th { border-top-width: 2px !important; }\n",
       " #khrqwwkxas .gt_striped { background-color: rgba(128,128,128,0.05) !important; }\n",
       " #khrqwwkxas .gt_table_body { border-top-style: solid !important; border-top-width: 2px !important; border-top-color: #D3D3D3 !important; border-bottom-style: solid !important; border-bottom-width: 2px !important; border-bottom-color: #D3D3D3 !important; }\n",
       " #khrqwwkxas .gt_sourcenotes { color: #333333 !important; background-color: #FFFFFF !important; border-bottom-style: none !important; border-bottom-width: 2px !important; border-bottom-color: #D3D3D3 !important; border-left-style: none !important; border-left-width: 2px !important; border-left-color: #D3D3D3 !important; border-right-style: none !important; border-right-width: 2px !important; border-right-color: #D3D3D3 !important; }\n",
       " #khrqwwkxas .gt_sourcenote { font-size: 90% !important; padding-top: 4px !important; padding-bottom: 4px !important; padding-left: 5px !important; padding-right: 5px !important; text-align: left !important; }\n",
       " #khrqwwkxas .gt_left { text-align: left !important; }\n",
       " #khrqwwkxas .gt_center { text-align: center !important; }\n",
       " #khrqwwkxas .gt_right { text-align: right !important; font-variant-numeric: tabular-nums !important; }\n",
       " #khrqwwkxas .gt_font_normal { font-weight: normal !important; }\n",
       " #khrqwwkxas .gt_font_bold { font-weight: bold !important; }\n",
       " #khrqwwkxas .gt_font_italic { font-style: italic !important; }\n",
       " #khrqwwkxas .gt_super { font-size: 65% !important; }\n",
       " #khrqwwkxas .gt_footnote_marks { font-size: 75% !important; vertical-align: 0.4em !important; position: initial !important; }\n",
       " #khrqwwkxas .gt_asterisk { font-size: 100% !important; vertical-align: 0 !important; }\n",
       " \n",
       "</style>\n",
       "<table class=\"gt_table\" data-quarto-disable-processing=\"false\" data-quarto-bootstrap=\"false\">\n",
       "<thead>\n",
       "\n",
       "<tr class=\"gt_col_headings\">\n",
       "  <th class=\"gt_col_heading gt_columns_bottom_border gt_left\" rowspan=\"1\" colspan=\"1\" scope=\"col\" id=\"Type\">Type</th>\n",
       "  <th class=\"gt_col_heading gt_columns_bottom_border gt_right\" rowspan=\"1\" colspan=\"1\" scope=\"col\" id=\"Agreement\">Agreement</th>\n",
       "  <th class=\"gt_col_heading gt_columns_bottom_border gt_right\" rowspan=\"1\" colspan=\"1\" scope=\"col\" id=\"Deficit\">Deficit</th>\n",
       "  <th class=\"gt_col_heading gt_columns_bottom_border gt_right\" rowspan=\"1\" colspan=\"1\" scope=\"col\" id=\"Surplus\">Surplus</th>\n",
       "  <th class=\"gt_col_heading gt_columns_bottom_border gt_right\" rowspan=\"1\" colspan=\"1\" scope=\"col\" id=\"Actual\">Actual</th>\n",
       "  <th class=\"gt_col_heading gt_columns_bottom_border gt_right\" rowspan=\"1\" colspan=\"1\" scope=\"col\" id=\"Predicted\">Predicted</th>\n",
       "</tr>\n",
       "</thead>\n",
       "<tbody class=\"gt_table_body\">\n",
       "  <tr>\n",
       "    <td class=\"gt_row gt_left\">addr:Change</td>\n",
       "    <td style=\"color: #FFFFFF; background-color: #1f8500;\" class=\"gt_row gt_right\">93.91000000000001</td>\n",
       "    <td style=\"color: #FFFFFF; background-color: #1f8500;\" class=\"gt_row gt_right\">6.09</td>\n",
       "    <td style=\"color: #FFFFFF; background-color: #128300;\" class=\"gt_row gt_right\">3.4799999999999995</td>\n",
       "    <td class=\"gt_row gt_right\">1446</td>\n",
       "    <td class=\"gt_row gt_right\">1407</td>\n",
       "  </tr>\n",
       "  <tr>\n",
       "    <td class=\"gt_row gt_left\">addr:Attribute</td>\n",
       "    <td style=\"color: #FFFFFF; background-color: #188400;\" class=\"gt_row gt_right\">95.19999999999999</td>\n",
       "    <td style=\"color: #FFFFFF; background-color: #188400;\" class=\"gt_row gt_right\">4.8</td>\n",
       "    <td style=\"color: #FFFFFF; background-color: #118300;\" class=\"gt_row gt_right\">3.4299999999999997</td>\n",
       "    <td class=\"gt_row gt_right\">1084</td>\n",
       "    <td class=\"gt_row gt_right\">1050</td>\n",
       "  </tr>\n",
       "  <tr>\n",
       "    <td class=\"gt_row gt_left\">addr:AttributeVersion</td>\n",
       "    <td style=\"color: #FFFFFF; background-color: #188400;\" class=\"gt_row gt_right\">95.19999999999999</td>\n",
       "    <td style=\"color: #FFFFFF; background-color: #188400;\" class=\"gt_row gt_right\">4.8</td>\n",
       "    <td style=\"color: #FFFFFF; background-color: #118300;\" class=\"gt_row gt_right\">3.4299999999999997</td>\n",
       "    <td class=\"gt_row gt_right\">1084</td>\n",
       "    <td class=\"gt_row gt_right\">1050</td>\n",
       "  </tr>\n",
       "  <tr>\n",
       "    <td class=\"gt_row gt_left\">cad:Taxpayer</td>\n",
       "    <td style=\"color: #000000; background-color: #c99d00;\" class=\"gt_row gt_right\">60.529999999999994</td>\n",
       "    <td style=\"color: #000000; background-color: #c99d00;\" class=\"gt_row gt_right\">39.47</td>\n",
       "    <td style=\"color: #000000; background-color: #ffa400;\" class=\"gt_row gt_right\">50.27</td>\n",
       "    <td class=\"gt_row gt_right\">152</td>\n",
       "    <td class=\"gt_row gt_right\">185</td>\n",
       "  </tr>\n",
       "  <tr>\n",
       "    <td class=\"gt_row gt_left\">addr:LandmarkRelation</td>\n",
       "    <td style=\"color: #000000; background-color: #ff9c00;\" class=\"gt_row gt_right\">47.39</td>\n",
       "    <td style=\"color: #000000; background-color: #ff9c00;\" class=\"gt_row gt_right\">52.61</td>\n",
       "    <td style=\"color: #000000; background-color: #ffa000;\" class=\"gt_row gt_right\">51.54</td>\n",
       "    <td class=\"gt_row gt_right\">728</td>\n",
       "    <td class=\"gt_row gt_right\">712</td>\n",
       "  </tr>\n",
       "  <tr>\n",
       "    <td class=\"gt_row gt_left\">addr:Landmark</td>\n",
       "    <td style=\"color: #FFFFFF; background-color: #1d8400;\" class=\"gt_row gt_right\">94.28</td>\n",
       "    <td style=\"color: #FFFFFF; background-color: #1d8400;\" class=\"gt_row gt_right\">5.72</td>\n",
       "    <td style=\"color: #FFFFFF; background-color: #258500;\" class=\"gt_row gt_right\">7.24</td>\n",
       "    <td class=\"gt_row gt_right\">367</td>\n",
       "    <td class=\"gt_row gt_right\">373</td>\n",
       "  </tr>\n",
       "  <tr>\n",
       "    <td class=\"gt_row gt_left\">rico:Instantiation</td>\n",
       "    <td style=\"color: #FFFFFF; background-color: #178300;\" class=\"gt_row gt_right\">95.44</td>\n",
       "    <td style=\"color: #FFFFFF; background-color: #178300;\" class=\"gt_row gt_right\">4.5600000000000005</td>\n",
       "    <td style=\"color: #FFFFFF; background-color: #118200;\" class=\"gt_row gt_right\">3.3300000000000005</td>\n",
       "    <td class=\"gt_row gt_right\">395</td>\n",
       "    <td class=\"gt_row gt_right\">390</td>\n",
       "  </tr>\n",
       "  <tr>\n",
       "    <td class=\"gt_row gt_left\">addr:Event</td>\n",
       "    <td style=\"color: #FFFFFF; background-color: #008000;\" class=\"gt_row gt_right\">100.0</td>\n",
       "    <td style=\"color: #FFFFFF; background-color: #008000;\" class=\"gt_row gt_right\">0.0</td>\n",
       "    <td style=\"color: #FFFFFF; background-color: #008000;\" class=\"gt_row gt_right\">0.0</td>\n",
       "    <td class=\"gt_row gt_right\">1</td>\n",
       "    <td class=\"gt_row gt_right\">1</td>\n",
       "  </tr>\n",
       "  <tr>\n",
       "    <td class=\"gt_row gt_left\">rico:Record</td>\n",
       "    <td style=\"color: #FFFFFF; background-color: #008000;\" class=\"gt_row gt_right\">100.0</td>\n",
       "    <td style=\"color: #FFFFFF; background-color: #008000;\" class=\"gt_row gt_right\">0.0</td>\n",
       "    <td style=\"color: #FFFFFF; background-color: #008000;\" class=\"gt_row gt_right\">0.0</td>\n",
       "    <td class=\"gt_row gt_right\">30</td>\n",
       "    <td class=\"gt_row gt_right\">30</td>\n",
       "  </tr>\n",
       "  <tr>\n",
       "    <td class=\"gt_row gt_left\">rico:RecordSet</td>\n",
       "    <td style=\"color: #FFFFFF; background-color: #008000;\" class=\"gt_row gt_right\">100.0</td>\n",
       "    <td style=\"color: #FFFFFF; background-color: #008000;\" class=\"gt_row gt_right\">0.0</td>\n",
       "    <td style=\"color: #FFFFFF; background-color: #008000;\" class=\"gt_row gt_right\">0.0</td>\n",
       "    <td class=\"gt_row gt_right\">2</td>\n",
       "    <td class=\"gt_row gt_right\">2</td>\n",
       "  </tr>\n",
       "</tbody>\n",
       "\n",
       "\n",
       "</table>\n",
       "\n",
       "</div>\n",
       "        "
      ],
      "text/plain": [
       "GT(_tbl_data=                    Type  Agreement  Deficit  Surplus  Actual  Predicted\n",
       "0            addr:Change      93.91     6.09     3.48    1446       1407\n",
       "1         addr:Attribute      95.20     4.80     3.43    1084       1050\n",
       "2  addr:AttributeVersion      95.20     4.80     3.43    1084       1050\n",
       "3           cad:Taxpayer      60.53    39.47    50.27     152        185\n",
       "4  addr:LandmarkRelation      47.39    52.61    51.54     728        712\n",
       "5          addr:Landmark      94.28     5.72     7.24     367        373\n",
       "6     rico:Instantiation      95.44     4.56     3.33     395        390\n",
       "7             addr:Event     100.00     0.00     0.00       1          1\n",
       "8            rico:Record     100.00     0.00     0.00      30         30\n",
       "9         rico:RecordSet     100.00     0.00     0.00       2          2, _body=<great_tables._gt_data.Body object at 0x0000020C55091EA0>, _boxhead=Boxhead([ColInfo(var='Type', type=<ColInfoTypeEnum.default: 1>, column_label='Type', column_align='left', column_width=None), ColInfo(var='Agreement', type=<ColInfoTypeEnum.default: 1>, column_label='Agreement', column_align='right', column_width=None), ColInfo(var='Deficit', type=<ColInfoTypeEnum.default: 1>, column_label='Deficit', column_align='right', column_width=None), ColInfo(var='Surplus', type=<ColInfoTypeEnum.default: 1>, column_label='Surplus', column_align='right', column_width=None), ColInfo(var='Actual', type=<ColInfoTypeEnum.default: 1>, column_label='Actual', column_align='right', column_width=None), ColInfo(var='Predicted', type=<ColInfoTypeEnum.default: 1>, column_label='Predicted', column_align='right', column_width=None)]), _stub=<great_tables._gt_data.Stub object at 0x0000020C55091F60>, _spanners=Spanners([]), _heading=Heading(title=None, subtitle=None, preheader=None), _stubhead=None, _source_notes=[], _footnotes=[], _styles=[StyleInfo(locname=LocBody(columns='Agreement', rows=[0], mask=None), grpname=None, colname='Agreement', rownum=0, colnum=None, styles=[CellStyleText(color='#FFFFFF', font=None, size=None, align=None, v_align=None, style=None, weight=None, stretch=None, decorate=None, transform=None, whitespace=None), CellStyleFill(color='#1f8500')]), StyleInfo(locname=LocBody(columns='Agreement', rows=[1], mask=None), grpname=None, colname='Agreement', rownum=1, colnum=None, styles=[CellStyleText(color='#FFFFFF', font=None, size=None, align=None, v_align=None, style=None, weight=None, stretch=None, decorate=None, transform=None, whitespace=None), CellStyleFill(color='#188400')]), StyleInfo(locname=LocBody(columns='Agreement', rows=[2], mask=None), grpname=None, colname='Agreement', rownum=2, colnum=None, styles=[CellStyleText(color='#FFFFFF', font=None, size=None, align=None, v_align=None, style=None, weight=None, stretch=None, decorate=None, transform=None, whitespace=None), CellStyleFill(color='#188400')]), StyleInfo(locname=LocBody(columns='Agreement', rows=[3], mask=None), grpname=None, colname='Agreement', rownum=3, colnum=None, styles=[CellStyleText(color='#000000', font=None, size=None, align=None, v_align=None, style=None, weight=None, stretch=None, decorate=None, transform=None, whitespace=None), CellStyleFill(color='#c99d00')]), StyleInfo(locname=LocBody(columns='Agreement', rows=[4], mask=None), grpname=None, colname='Agreement', rownum=4, colnum=None, styles=[CellStyleText(color='#000000', font=None, size=None, align=None, v_align=None, style=None, weight=None, stretch=None, decorate=None, transform=None, whitespace=None), CellStyleFill(color='#ff9c00')]), StyleInfo(locname=LocBody(columns='Agreement', rows=[5], mask=None), grpname=None, colname='Agreement', rownum=5, colnum=None, styles=[CellStyleText(color='#FFFFFF', font=None, size=None, align=None, v_align=None, style=None, weight=None, stretch=None, decorate=None, transform=None, whitespace=None), CellStyleFill(color='#1d8400')]), StyleInfo(locname=LocBody(columns='Agreement', rows=[6], mask=None), grpname=None, colname='Agreement', rownum=6, colnum=None, styles=[CellStyleText(color='#FFFFFF', font=None, size=None, align=None, v_align=None, style=None, weight=None, stretch=None, decorate=None, transform=None, whitespace=None), CellStyleFill(color='#178300')]), StyleInfo(locname=LocBody(columns='Agreement', rows=[7], mask=None), grpname=None, colname='Agreement', rownum=7, colnum=None, styles=[CellStyleText(color='#FFFFFF', font=None, size=None, align=None, v_align=None, style=None, weight=None, stretch=None, decorate=None, transform=None, whitespace=None), CellStyleFill(color='#008000')]), StyleInfo(locname=LocBody(columns='Agreement', rows=[8], mask=None), grpname=None, colname='Agreement', rownum=8, colnum=None, styles=[CellStyleText(color='#FFFFFF', font=None, size=None, align=None, v_align=None, style=None, weight=None, stretch=None, decorate=None, transform=None, whitespace=None), CellStyleFill(color='#008000')]), StyleInfo(locname=LocBody(columns='Agreement', rows=[9], mask=None), grpname=None, colname='Agreement', rownum=9, colnum=None, styles=[CellStyleText(color='#FFFFFF', font=None, size=None, align=None, v_align=None, style=None, weight=None, stretch=None, decorate=None, transform=None, whitespace=None), CellStyleFill(color='#008000')]), StyleInfo(locname=LocBody(columns='Deficit', rows=[0], mask=None), grpname=None, colname='Deficit', rownum=0, colnum=None, styles=[CellStyleText(color='#FFFFFF', font=None, size=None, align=None, v_align=None, style=None, weight=None, stretch=None, decorate=None, transform=None, whitespace=None), CellStyleFill(color='#1f8500')]), StyleInfo(locname=LocBody(columns='Deficit', rows=[1], mask=None), grpname=None, colname='Deficit', rownum=1, colnum=None, styles=[CellStyleText(color='#FFFFFF', font=None, size=None, align=None, v_align=None, style=None, weight=None, stretch=None, decorate=None, transform=None, whitespace=None), CellStyleFill(color='#188400')]), StyleInfo(locname=LocBody(columns='Deficit', rows=[2], mask=None), grpname=None, colname='Deficit', rownum=2, colnum=None, styles=[CellStyleText(color='#FFFFFF', font=None, size=None, align=None, v_align=None, style=None, weight=None, stretch=None, decorate=None, transform=None, whitespace=None), CellStyleFill(color='#188400')]), StyleInfo(locname=LocBody(columns='Deficit', rows=[3], mask=None), grpname=None, colname='Deficit', rownum=3, colnum=None, styles=[CellStyleText(color='#000000', font=None, size=None, align=None, v_align=None, style=None, weight=None, stretch=None, decorate=None, transform=None, whitespace=None), CellStyleFill(color='#c99d00')]), StyleInfo(locname=LocBody(columns='Deficit', rows=[4], mask=None), grpname=None, colname='Deficit', rownum=4, colnum=None, styles=[CellStyleText(color='#000000', font=None, size=None, align=None, v_align=None, style=None, weight=None, stretch=None, decorate=None, transform=None, whitespace=None), CellStyleFill(color='#ff9c00')]), StyleInfo(locname=LocBody(columns='Deficit', rows=[5], mask=None), grpname=None, colname='Deficit', rownum=5, colnum=None, styles=[CellStyleText(color='#FFFFFF', font=None, size=None, align=None, v_align=None, style=None, weight=None, stretch=None, decorate=None, transform=None, whitespace=None), CellStyleFill(color='#1d8400')]), StyleInfo(locname=LocBody(columns='Deficit', rows=[6], mask=None), grpname=None, colname='Deficit', rownum=6, colnum=None, styles=[CellStyleText(color='#FFFFFF', font=None, size=None, align=None, v_align=None, style=None, weight=None, stretch=None, decorate=None, transform=None, whitespace=None), CellStyleFill(color='#178300')]), StyleInfo(locname=LocBody(columns='Deficit', rows=[7], mask=None), grpname=None, colname='Deficit', rownum=7, colnum=None, styles=[CellStyleText(color='#FFFFFF', font=None, size=None, align=None, v_align=None, style=None, weight=None, stretch=None, decorate=None, transform=None, whitespace=None), CellStyleFill(color='#008000')]), StyleInfo(locname=LocBody(columns='Deficit', rows=[8], mask=None), grpname=None, colname='Deficit', rownum=8, colnum=None, styles=[CellStyleText(color='#FFFFFF', font=None, size=None, align=None, v_align=None, style=None, weight=None, stretch=None, decorate=None, transform=None, whitespace=None), CellStyleFill(color='#008000')]), StyleInfo(locname=LocBody(columns='Deficit', rows=[9], mask=None), grpname=None, colname='Deficit', rownum=9, colnum=None, styles=[CellStyleText(color='#FFFFFF', font=None, size=None, align=None, v_align=None, style=None, weight=None, stretch=None, decorate=None, transform=None, whitespace=None), CellStyleFill(color='#008000')]), StyleInfo(locname=LocBody(columns='Surplus', rows=[0], mask=None), grpname=None, colname='Surplus', rownum=0, colnum=None, styles=[CellStyleText(color='#FFFFFF', font=None, size=None, align=None, v_align=None, style=None, weight=None, stretch=None, decorate=None, transform=None, whitespace=None), CellStyleFill(color='#128300')]), StyleInfo(locname=LocBody(columns='Surplus', rows=[1], mask=None), grpname=None, colname='Surplus', rownum=1, colnum=None, styles=[CellStyleText(color='#FFFFFF', font=None, size=None, align=None, v_align=None, style=None, weight=None, stretch=None, decorate=None, transform=None, whitespace=None), CellStyleFill(color='#118300')]), StyleInfo(locname=LocBody(columns='Surplus', rows=[2], mask=None), grpname=None, colname='Surplus', rownum=2, colnum=None, styles=[CellStyleText(color='#FFFFFF', font=None, size=None, align=None, v_align=None, style=None, weight=None, stretch=None, decorate=None, transform=None, whitespace=None), CellStyleFill(color='#118300')]), StyleInfo(locname=LocBody(columns='Surplus', rows=[3], mask=None), grpname=None, colname='Surplus', rownum=3, colnum=None, styles=[CellStyleText(color='#000000', font=None, size=None, align=None, v_align=None, style=None, weight=None, stretch=None, decorate=None, transform=None, whitespace=None), CellStyleFill(color='#ffa400')]), StyleInfo(locname=LocBody(columns='Surplus', rows=[4], mask=None), grpname=None, colname='Surplus', rownum=4, colnum=None, styles=[CellStyleText(color='#000000', font=None, size=None, align=None, v_align=None, style=None, weight=None, stretch=None, decorate=None, transform=None, whitespace=None), CellStyleFill(color='#ffa000')]), StyleInfo(locname=LocBody(columns='Surplus', rows=[5], mask=None), grpname=None, colname='Surplus', rownum=5, colnum=None, styles=[CellStyleText(color='#FFFFFF', font=None, size=None, align=None, v_align=None, style=None, weight=None, stretch=None, decorate=None, transform=None, whitespace=None), CellStyleFill(color='#258500')]), StyleInfo(locname=LocBody(columns='Surplus', rows=[6], mask=None), grpname=None, colname='Surplus', rownum=6, colnum=None, styles=[CellStyleText(color='#FFFFFF', font=None, size=None, align=None, v_align=None, style=None, weight=None, stretch=None, decorate=None, transform=None, whitespace=None), CellStyleFill(color='#118200')]), StyleInfo(locname=LocBody(columns='Surplus', rows=[7], mask=None), grpname=None, colname='Surplus', rownum=7, colnum=None, styles=[CellStyleText(color='#FFFFFF', font=None, size=None, align=None, v_align=None, style=None, weight=None, stretch=None, decorate=None, transform=None, whitespace=None), CellStyleFill(color='#008000')]), StyleInfo(locname=LocBody(columns='Surplus', rows=[8], mask=None), grpname=None, colname='Surplus', rownum=8, colnum=None, styles=[CellStyleText(color='#FFFFFF', font=None, size=None, align=None, v_align=None, style=None, weight=None, stretch=None, decorate=None, transform=None, whitespace=None), CellStyleFill(color='#008000')]), StyleInfo(locname=LocBody(columns='Surplus', rows=[9], mask=None), grpname=None, colname='Surplus', rownum=9, colnum=None, styles=[CellStyleText(color='#FFFFFF', font=None, size=None, align=None, v_align=None, style=None, weight=None, stretch=None, decorate=None, transform=None, whitespace=None), CellStyleFill(color='#008000')])], _locale=<great_tables._gt_data.Locale object at 0x0000020C53D5E890>, _formats=[], _substitutions=[], _options=Options(table_id=OptionsInfo(scss=False, category='table', type='value', value=None), table_caption=OptionsInfo(scss=False, category='table', type='value', value=None), table_width=OptionsInfo(scss=True, category='table', type='px', value='auto'), table_layout=OptionsInfo(scss=True, category='table', type='value', value='fixed'), table_margin_left=OptionsInfo(scss=True, category='table', type='px', value='auto'), table_margin_right=OptionsInfo(scss=True, category='table', type='px', value='auto'), table_background_color=OptionsInfo(scss=True, category='table', type='value', value='#FFFFFF'), table_additional_css=OptionsInfo(scss=False, category='table', type='values', value=[]), table_font_names=OptionsInfo(scss=False, category='table', type='values', value=['-apple-system', 'BlinkMacSystemFont', 'Segoe UI', 'Roboto', 'Oxygen', 'Ubuntu', 'Cantarell', 'Helvetica Neue', 'Fira Sans', 'Droid Sans', 'Arial', 'sans-serif']), table_font_size=OptionsInfo(scss=True, category='table', type='px', value='16px'), table_font_weight=OptionsInfo(scss=True, category='table', type='value', value='normal'), table_font_style=OptionsInfo(scss=True, category='table', type='value', value='normal'), table_font_color=OptionsInfo(scss=True, category='table', type='value', value='#333333'), table_font_color_light=OptionsInfo(scss=True, category='table', type='value', value='#FFFFFF'), table_border_top_include=OptionsInfo(scss=False, category='table', type='boolean', value=True), table_border_top_style=OptionsInfo(scss=True, category='table', type='value', value='solid'), table_border_top_width=OptionsInfo(scss=True, category='table', type='px', value='2px'), table_border_top_color=OptionsInfo(scss=True, category='table', type='value', value='#A8A8A8'), table_border_right_style=OptionsInfo(scss=True, category='table', type='value', value='none'), table_border_right_width=OptionsInfo(scss=True, category='table', type='px', value='2px'), table_border_right_color=OptionsInfo(scss=True, category='table', type='value', value='#D3D3D3'), table_border_bottom_include=OptionsInfo(scss=False, category='table', type='boolean', value=True), table_border_bottom_style=OptionsInfo(scss=True, category='table', type='value', value='solid'), table_border_bottom_width=OptionsInfo(scss=True, category='table', type='px', value='2px'), table_border_bottom_color=OptionsInfo(scss=True, category='table', type='value', value='#A8A8A8'), table_border_left_style=OptionsInfo(scss=True, category='table', type='value', value='none'), table_border_left_width=OptionsInfo(scss=True, category='table', type='px', value='2px'), table_border_left_color=OptionsInfo(scss=True, category='table', type='value', value='#D3D3D3'), heading_background_color=OptionsInfo(scss=True, category='heading', type='value', value=None), heading_align=OptionsInfo(scss=True, category='heading', type='value', value='center'), heading_title_font_size=OptionsInfo(scss=True, category='heading', type='px', value='125%'), heading_title_font_weight=OptionsInfo(scss=True, category='heading', type='value', value='initial'), heading_subtitle_font_size=OptionsInfo(scss=True, category='heading', type='px', value='85%'), heading_subtitle_font_weight=OptionsInfo(scss=True, category='heading', type='value', value='initial'), heading_padding=OptionsInfo(scss=True, category='heading', type='px', value='4px'), heading_padding_horizontal=OptionsInfo(scss=True, category='heading', type='px', value='5px'), heading_border_bottom_style=OptionsInfo(scss=True, category='heading', type='value', value='solid'), heading_border_bottom_width=OptionsInfo(scss=True, category='heading', type='px', value='2px'), heading_border_bottom_color=OptionsInfo(scss=True, category='heading', type='value', value='#D3D3D3'), heading_border_lr_style=OptionsInfo(scss=True, category='heading', type='value', value='none'), heading_border_lr_width=OptionsInfo(scss=True, category='heading', type='px', value='1px'), heading_border_lr_color=OptionsInfo(scss=True, category='heading', type='value', value='#D3D3D3'), column_labels_background_color=OptionsInfo(scss=True, category='column_labels', type='value', value=None), column_labels_font_size=OptionsInfo(scss=True, category='column_labels', type='px', value='100%'), column_labels_font_weight=OptionsInfo(scss=True, category='column_labels', type='value', value='normal'), column_labels_text_transform=OptionsInfo(scss=True, category='column_labels', type='value', value='inherit'), column_labels_padding=OptionsInfo(scss=True, category='column_labels', type='px', value='5px'), column_labels_padding_horizontal=OptionsInfo(scss=True, category='column_labels', type='px', value='5px'), column_labels_vlines_style=OptionsInfo(scss=True, category='table_body', type='value', value='none'), column_labels_vlines_width=OptionsInfo(scss=True, category='table_body', type='px', value='1px'), column_labels_vlines_color=OptionsInfo(scss=True, category='table_body', type='value', value='#D3D3D3'), column_labels_border_top_style=OptionsInfo(scss=True, category='column_labels', type='value', value='solid'), column_labels_border_top_width=OptionsInfo(scss=True, category='column_labels', type='px', value='2px'), column_labels_border_top_color=OptionsInfo(scss=True, category='column_labels', type='value', value='#D3D3D3'), column_labels_border_bottom_style=OptionsInfo(scss=True, category='column_labels', type='value', value='solid'), column_labels_border_bottom_width=OptionsInfo(scss=True, category='column_labels', type='px', value='2px'), column_labels_border_bottom_color=OptionsInfo(scss=True, category='column_labels', type='value', value='#D3D3D3'), column_labels_border_lr_style=OptionsInfo(scss=True, category='column_labels', type='value', value='none'), column_labels_border_lr_width=OptionsInfo(scss=True, category='column_labels', type='px', value='1px'), column_labels_border_lr_color=OptionsInfo(scss=True, category='column_labels', type='value', value='#D3D3D3'), column_labels_hidden=OptionsInfo(scss=False, category='column_labels', type='boolean', value=False), row_group_background_color=OptionsInfo(scss=True, category='row_group', type='value', value=None), row_group_font_size=OptionsInfo(scss=True, category='row_group', type='px', value='100%'), row_group_font_weight=OptionsInfo(scss=True, category='row_group', type='value', value='initial'), row_group_text_transform=OptionsInfo(scss=True, category='row_group', type='value', value='inherit'), row_group_padding=OptionsInfo(scss=True, category='row_group', type='px', value='8px'), row_group_padding_horizontal=OptionsInfo(scss=True, category='row_group', type='px', value='5px'), row_group_border_top_style=OptionsInfo(scss=True, category='row_group', type='value', value='solid'), row_group_border_top_width=OptionsInfo(scss=True, category='row_group', type='px', value='2px'), row_group_border_top_color=OptionsInfo(scss=True, category='row_group', type='value', value='#D3D3D3'), row_group_border_right_style=OptionsInfo(scss=True, category='row_group', type='value', value='none'), row_group_border_right_width=OptionsInfo(scss=True, category='row_group', type='px', value='1px'), row_group_border_right_color=OptionsInfo(scss=True, category='row_group', type='value', value='#D3D3D3'), row_group_border_bottom_style=OptionsInfo(scss=True, category='row_group', type='value', value='solid'), row_group_border_bottom_width=OptionsInfo(scss=True, category='row_group', type='px', value='2px'), row_group_border_bottom_color=OptionsInfo(scss=True, category='row_group', type='value', value='#D3D3D3'), row_group_border_left_style=OptionsInfo(scss=True, category='row_group', type='value', value='none'), row_group_border_left_width=OptionsInfo(scss=True, category='row_group', type='px', value='1px'), row_group_border_left_color=OptionsInfo(scss=True, category='row_group', type='value', value='#D3D3D3'), row_group_as_column=OptionsInfo(scss=False, category='row_group', type='boolean', value=False), table_body_hlines_style=OptionsInfo(scss=True, category='table_body', type='value', value='solid'), table_body_hlines_width=OptionsInfo(scss=True, category='table_body', type='px', value='1px'), table_body_hlines_color=OptionsInfo(scss=True, category='table_body', type='value', value='#D3D3D3'), table_body_vlines_style=OptionsInfo(scss=True, category='table_body', type='value', value='none'), table_body_vlines_width=OptionsInfo(scss=True, category='table_body', type='px', value='1px'), table_body_vlines_color=OptionsInfo(scss=True, category='table_body', type='value', value='#D3D3D3'), table_body_border_top_style=OptionsInfo(scss=True, category='table_body', type='value', value='solid'), table_body_border_top_width=OptionsInfo(scss=True, category='table_body', type='px', value='2px'), table_body_border_top_color=OptionsInfo(scss=True, category='table_body', type='value', value='#D3D3D3'), table_body_border_bottom_style=OptionsInfo(scss=True, category='table_body', type='value', value='solid'), table_body_border_bottom_width=OptionsInfo(scss=True, category='table_body', type='px', value='2px'), table_body_border_bottom_color=OptionsInfo(scss=True, category='table_body', type='value', value='#D3D3D3'), data_row_padding=OptionsInfo(scss=True, category='data_row', type='px', value='8px'), data_row_padding_horizontal=OptionsInfo(scss=True, category='data_row', type='px', value='5px'), stub_background_color=OptionsInfo(scss=True, category='stub', type='value', value=None), stub_font_size=OptionsInfo(scss=True, category='stub', type='px', value='100%'), stub_font_weight=OptionsInfo(scss=True, category='stub', type='value', value='initial'), stub_text_transform=OptionsInfo(scss=True, category='stub', type='value', value='inherit'), stub_border_style=OptionsInfo(scss=True, category='stub', type='value', value='solid'), stub_border_width=OptionsInfo(scss=True, category='stub', type='px', value='2px'), stub_border_color=OptionsInfo(scss=True, category='stub', type='value', value='#D3D3D3'), stub_row_group_background_color=OptionsInfo(scss=True, category='stub', type='value', value=None), stub_row_group_font_size=OptionsInfo(scss=True, category='stub', type='px', value='100%'), stub_row_group_font_weight=OptionsInfo(scss=True, category='stub', type='value', value='initial'), stub_row_group_text_transform=OptionsInfo(scss=True, category='stub', type='value', value='inherit'), stub_row_group_border_style=OptionsInfo(scss=True, category='stub', type='value', value='solid'), stub_row_group_border_width=OptionsInfo(scss=True, category='stub', type='px', value='2px'), stub_row_group_border_color=OptionsInfo(scss=True, category='stub', type='value', value='#D3D3D3'), source_notes_padding=OptionsInfo(scss=True, category='source_notes', type='px', value='4px'), source_notes_padding_horizontal=OptionsInfo(scss=True, category='source_notes', type='px', value='5px'), source_notes_background_color=OptionsInfo(scss=True, category='source_notes', type='value', value=None), source_notes_font_size=OptionsInfo(scss=True, category='source_notes', type='px', value='90%'), source_notes_border_bottom_style=OptionsInfo(scss=True, category='source_notes', type='value', value='none'), source_notes_border_bottom_width=OptionsInfo(scss=True, category='source_notes', type='px', value='2px'), source_notes_border_bottom_color=OptionsInfo(scss=True, category='source_notes', type='value', value='#D3D3D3'), source_notes_border_lr_style=OptionsInfo(scss=True, category='source_notes', type='value', value='none'), source_notes_border_lr_width=OptionsInfo(scss=True, category='source_notes', type='px', value='2px'), source_notes_border_lr_color=OptionsInfo(scss=True, category='source_notes', type='value', value='#D3D3D3'), source_notes_multiline=OptionsInfo(scss=False, category='source_notes', type='boolean', value=True), source_notes_sep=OptionsInfo(scss=False, category='source_notes', type='value', value=' '), row_striping_background_color=OptionsInfo(scss=True, category='row', type='value', value='rgba(128,128,128,0.05)'), row_striping_include_stub=OptionsInfo(scss=False, category='row', type='boolean', value=False), row_striping_include_table_body=OptionsInfo(scss=False, category='row', type='boolean', value=False), container_width=OptionsInfo(scss=False, category='container', type='px', value='auto'), container_height=OptionsInfo(scss=False, category='container', type='px', value='auto'), container_padding_x=OptionsInfo(scss=False, category='container', type='px', value='0px'), container_padding_y=OptionsInfo(scss=False, category='container', type='px', value='10px'), container_overflow_x=OptionsInfo(scss=False, category='container', type='overflow', value='auto'), container_overflow_y=OptionsInfo(scss=False, category='container', type='overflow', value='auto'), quarto_disable_processing=OptionsInfo(scss=False, category='quarto', type='logical', value=False), quarto_use_bootstrap=OptionsInfo(scss=False, category='quarto', type='logical', value=False)), _has_built=False)"
      ]
     },
     "execution_count": 35,
     "metadata": {},
     "output_type": "execute_result"
    }
   ],
   "source": [
    "#Nice display\n",
    "GT(metrics_df) \\\n",
    "    .data_color(columns=[\"Agreement\"],#, \"Precision\", \"Recall\", \"F1 score\"\n",
    "                palette=[\"red\", \"orange\", \"green\"], domain=[0, 100]) \\\n",
    "    .data_color(columns=[\"Deficit\", \"Surplus\"],\n",
    "                palette=[\"green\", \"orange\", \"red\"], domain=[0, 100])"
   ]
  },
  {
   "cell_type": "code",
   "execution_count": 36,
   "metadata": {},
   "outputs": [
    {
     "name": "stdout",
     "output_type": "stream",
     "text": [
      "\\begin{tabular}{lrrrrr}\n",
      "\\toprule\n",
      "Type & Agreement & Deficit & Surplus & Actual & Predicted \\\\\n",
      "\\midrule\n",
      "rico:RecordSet & 100.000000 & 0.000000 & 0.000000 & 2 & 2 \\\\\n",
      "rico:Record & 100.000000 & 0.000000 & 0.000000 & 30 & 30 \\\\\n",
      "addr:Event & 100.000000 & 0.000000 & 0.000000 & 1 & 1 \\\\\n",
      "rico:Instantiation & 95.440000 & 4.560000 & 3.330000 & 395 & 390 \\\\\n",
      "addr:AttributeVersion & 95.200000 & 4.800000 & 3.430000 & 1084 & 1050 \\\\\n",
      "addr:Attribute & 95.200000 & 4.800000 & 3.430000 & 1084 & 1050 \\\\\n",
      "addr:Landmark & 94.280000 & 5.720000 & 7.240000 & 367 & 373 \\\\\n",
      "addr:Change & 93.910000 & 6.090000 & 3.480000 & 1446 & 1407 \\\\\n",
      "cad:Taxpayer & 60.530000 & 39.470000 & 50.270000 & 152 & 185 \\\\\n",
      "addr:LandmarkRelation & 47.390000 & 52.610000 & 51.540000 & 728 & 712 \\\\\n",
      "\\bottomrule\n",
      "\\end{tabular}\n",
      "\n"
     ]
    },
    {
     "data": {
      "text/plain": [
       "'\\\\begin{tabular}{lrrrrr}\\n\\\\toprule\\nType & Agreement & Deficit & Surplus & Actual & Predicted \\\\\\\\\\n\\\\midrule\\nrico:RecordSet & 100.000000 & 0.000000 & 0.000000 & 2 & 2 \\\\\\\\\\nrico:Record & 100.000000 & 0.000000 & 0.000000 & 30 & 30 \\\\\\\\\\naddr:Event & 100.000000 & 0.000000 & 0.000000 & 1 & 1 \\\\\\\\\\nrico:Instantiation & 95.440000 & 4.560000 & 3.330000 & 395 & 390 \\\\\\\\\\naddr:AttributeVersion & 95.200000 & 4.800000 & 3.430000 & 1084 & 1050 \\\\\\\\\\naddr:Attribute & 95.200000 & 4.800000 & 3.430000 & 1084 & 1050 \\\\\\\\\\naddr:Landmark & 94.280000 & 5.720000 & 7.240000 & 367 & 373 \\\\\\\\\\naddr:Change & 93.910000 & 6.090000 & 3.480000 & 1446 & 1407 \\\\\\\\\\ncad:Taxpayer & 60.530000 & 39.470000 & 50.270000 & 152 & 185 \\\\\\\\\\naddr:LandmarkRelation & 47.390000 & 52.610000 & 51.540000 & 728 & 712 \\\\\\\\\\n\\\\bottomrule\\n\\\\end{tabular}\\n'"
      ]
     },
     "execution_count": 36,
     "metadata": {},
     "output_type": "execute_result"
    }
   ],
   "source": [
    "df_to_latex(metrics_df)"
   ]
  },
  {
   "cell_type": "markdown",
   "metadata": {},
   "source": [
    "### 3. Subtypes"
   ]
  },
  {
   "cell_type": "markdown",
   "metadata": {},
   "source": [
    "Finally, in relevant cases (Landmark, Attributes, Record), we compute the number of entities by subtype."
   ]
  },
  {
   "cell_type": "code",
   "execution_count": 37,
   "metadata": {},
   "outputs": [],
   "source": [
    "subtypes_properties = {\n",
    "    \"addr:isLandmarkType\":[\"cad_ltype:Plot\",\"cad_ltype:Section\",\"cad_ltype:Commune\",\"ltype:District\",\"ltype:Undefined\"],\n",
    "    \"addr:isLandmarkRelationType\":[\"lrtype:Within\",\"lrtype:Undefined\"],\n",
    "    \"cad:isSourceType\":[\"srctype:PageDeRegistre\",\"srctype:LigneEtatDeSection\",\"srctype:Cadastre\",\"srctype:EtatsDeSections\",\"srctype:EtatsDeSections_Scp_Seine_1835\"],\n",
    "    \"addr:hasAttribute/addr:isAttributeType\":[\"cad_atype:PlotAddress\",\"cad_atype:PlotTaxpayer\",\"cad_atype:PlotNature\"]}"
   ]
  },
  {
   "cell_type": "code",
   "execution_count": 38,
   "metadata": {},
   "outputs": [],
   "source": [
    "query_subtype = prefixes + \"\"\"\n",
    "select ?entity ?type where {\n",
    "\tGRAPH <GRAPH_URI> {\n",
    "    ?entity SUBTYPE_PROP VALUE.\n",
    "    BIND(\"SUBTYPE_PROP;VALUE\" AS ?type)\n",
    "}}\"\"\""
   ]
  },
  {
   "cell_type": "code",
   "execution_count": 39,
   "metadata": {},
   "outputs": [
    {
     "name": "stdout",
     "output_type": "stream",
     "text": [
      "['cad_ltype:Plot', 'cad_ltype:Section', 'cad_ltype:Commune', 'ltype:District', 'ltype:Undefined']\n",
      "cad_ltype:Plot\n",
      "cad_ltype:Section\n",
      "cad_ltype:Commune\n",
      "ltype:District\n",
      "ltype:Undefined\n",
      "['lrtype:Within', 'lrtype:Undefined']\n",
      "lrtype:Within\n",
      "lrtype:Undefined\n",
      "['srctype:PageDeRegistre', 'srctype:LigneEtatDeSection', 'srctype:Cadastre', 'srctype:EtatsDeSections', 'srctype:EtatsDeSections_Scp_Seine_1835']\n",
      "srctype:PageDeRegistre\n",
      "srctype:LigneEtatDeSection\n",
      "srctype:Cadastre\n",
      "srctype:EtatsDeSections\n",
      "srctype:EtatsDeSections_Scp_Seine_1835\n",
      "['cad_atype:PlotAddress', 'cad_atype:PlotTaxpayer', 'cad_atype:PlotNature']\n",
      "cad_atype:PlotAddress\n",
      "cad_atype:PlotTaxpayer\n",
      "cad_atype:PlotNature\n"
     ]
    }
   ],
   "source": [
    "metrics_by_subproperties = []\n",
    "for p in list(subtypes_properties.keys()):\n",
    "    uquery = query_subtype.replace(\"SUBTYPE_PROP\",p)\n",
    "    print(subtypes_properties[p])\n",
    "    for val in subtypes_properties[p]:\n",
    "        print(val)\n",
    "        uquery_t = uquery.replace(\"VALUE\",val)\n",
    "        gold_subtypes, pred_subtypes = get_triples(uquery_t, \"http://rdf.geohistoricaldata.org/gold\", \"http://rdf.geohistoricaldata.org/auto\",GRAPHDB_HOST,GRAPHDB_REPO,proxies)\n",
    "        for c in [\"entity\",\"type\"]:\n",
    "            for prefix, uri in prefixes_dict.items():\n",
    "                if len(gold_subtypes) > 0:\n",
    "                    gold_subtypes[c] = gold_subtypes[c].str.replace(prefix, uri, regex=False)\n",
    "                if len(pred_subtypes) > 0:\n",
    "                    pred_subtypes[c] = pred_subtypes[c].str.replace(prefix, uri, regex=False)\n",
    "        metrics = compute_metrics(gold_subtypes, pred_subtypes)\n",
    "        metrics_by_subproperties.append({\n",
    "            \"Property\":p,\n",
    "            \"Subtype\": val,\n",
    "            \"Agreement\": metrics[\"Agreement\"],\n",
    "            \"Deficit\": metrics[\"Deficit\"],\n",
    "            \"Surplus\": metrics[\"Surplus\"],\n",
    "        })"
   ]
  },
  {
   "cell_type": "code",
   "execution_count": 40,
   "metadata": {},
   "outputs": [
    {
     "name": "stdout",
     "output_type": "stream",
     "text": [
      "\\begin{tabular}{llrrr}\n",
      "\\toprule\n",
      "Property & Subtype & Agreement & Deficit & Surplus \\\\\n",
      "\\midrule\n",
      "addr:isLandmarkType & cad_ltype:Section & 100.000000 & 0.000000 & 0.000000 \\\\\n",
      "addr:isLandmarkType & cad_ltype:Commune & 100.000000 & 0.000000 & 0.000000 \\\\\n",
      "cad:isSourceType & srctype:PageDeRegistre & 100.000000 & 0.000000 & 0.000000 \\\\\n",
      "cad:isSourceType & srctype:EtatsDeSections_Scp_Seine_1835 & 100.000000 & 0.000000 & 0.000000 \\\\\n",
      "cad:isSourceType & srctype:EtatsDeSections & 100.000000 & 0.000000 & 0.000000 \\\\\n",
      "cad:isSourceType & srctype:Cadastre & 100.000000 & 0.000000 & 0.000000 \\\\\n",
      "addr:isLandmarkType & cad_ltype:Plot & 95.030000 & 4.970000 & 3.640000 \\\\\n",
      "cad:isSourceType & srctype:LigneEtatDeSection & 95.030000 & 4.970000 & 3.640000 \\\\\n",
      "addr:hasAttribute/addr:isAttributeType & cad_atype:PlotTaxpayer & 95.030000 & 4.970000 & 3.370000 \\\\\n",
      "addr:hasAttribute/addr:isAttributeType & cad_atype:PlotNature & 95.000000 & 5.000000 & 3.390000 \\\\\n",
      "addr:hasAttribute/addr:isAttributeType & cad_atype:PlotAddress & 90.610000 & 9.390000 & 3.530000 \\\\\n",
      "addr:isLandmarkRelationType & lrtype:Within & 47.390000 & 52.610000 & 7.260000 \\\\\n",
      "addr:isLandmarkRelationType & lrtype:Undefined & 0.000000 & 0.000000 & 100.000000 \\\\\n",
      "addr:isLandmarkType & ltype:District & 0.000000 & 100.000000 & 0.000000 \\\\\n",
      "addr:isLandmarkType & ltype:Undefined & 0.000000 & 0.000000 & 100.000000 \\\\\n",
      "\\bottomrule\n",
      "\\end{tabular}\n",
      "\n"
     ]
    },
    {
     "data": {
      "text/plain": [
       "'\\\\begin{tabular}{llrrr}\\n\\\\toprule\\nProperty & Subtype & Agreement & Deficit & Surplus \\\\\\\\\\n\\\\midrule\\naddr:isLandmarkType & cad_ltype:Section & 100.000000 & 0.000000 & 0.000000 \\\\\\\\\\naddr:isLandmarkType & cad_ltype:Commune & 100.000000 & 0.000000 & 0.000000 \\\\\\\\\\ncad:isSourceType & srctype:PageDeRegistre & 100.000000 & 0.000000 & 0.000000 \\\\\\\\\\ncad:isSourceType & srctype:EtatsDeSections_Scp_Seine_1835 & 100.000000 & 0.000000 & 0.000000 \\\\\\\\\\ncad:isSourceType & srctype:EtatsDeSections & 100.000000 & 0.000000 & 0.000000 \\\\\\\\\\ncad:isSourceType & srctype:Cadastre & 100.000000 & 0.000000 & 0.000000 \\\\\\\\\\naddr:isLandmarkType & cad_ltype:Plot & 95.030000 & 4.970000 & 3.640000 \\\\\\\\\\ncad:isSourceType & srctype:LigneEtatDeSection & 95.030000 & 4.970000 & 3.640000 \\\\\\\\\\naddr:hasAttribute/addr:isAttributeType & cad_atype:PlotTaxpayer & 95.030000 & 4.970000 & 3.370000 \\\\\\\\\\naddr:hasAttribute/addr:isAttributeType & cad_atype:PlotNature & 95.000000 & 5.000000 & 3.390000 \\\\\\\\\\naddr:hasAttribute/addr:isAttributeType & cad_atype:PlotAddress & 90.610000 & 9.390000 & 3.530000 \\\\\\\\\\naddr:isLandmarkRelationType & lrtype:Within & 47.390000 & 52.610000 & 7.260000 \\\\\\\\\\naddr:isLandmarkRelationType & lrtype:Undefined & 0.000000 & 0.000000 & 100.000000 \\\\\\\\\\naddr:isLandmarkType & ltype:District & 0.000000 & 100.000000 & 0.000000 \\\\\\\\\\naddr:isLandmarkType & ltype:Undefined & 0.000000 & 0.000000 & 100.000000 \\\\\\\\\\n\\\\bottomrule\\n\\\\end{tabular}\\n'"
      ]
     },
     "execution_count": 40,
     "metadata": {},
     "output_type": "execute_result"
    }
   ],
   "source": [
    "metrics_df_sub = pd.DataFrame(metrics_by_subproperties)\n",
    "df_to_latex(metrics_df_sub)"
   ]
  }
 ],
 "metadata": {
  "kernelspec": {
   "display_name": ".venv",
   "language": "python",
   "name": "python3"
  },
  "language_info": {
   "codemirror_mode": {
    "name": "ipython",
    "version": 3
   },
   "file_extension": ".py",
   "mimetype": "text/x-python",
   "name": "python",
   "nbconvert_exporter": "python",
   "pygments_lexer": "ipython3",
   "version": "3.10.8"
  }
 },
 "nbformat": 4,
 "nbformat_minor": 2
}
