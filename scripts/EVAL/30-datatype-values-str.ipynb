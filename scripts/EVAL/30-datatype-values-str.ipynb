{
 "cells": [
  {
   "cell_type": "markdown",
   "metadata": {},
   "source": [
    "## 30. Datatype property values evaluation"
   ]
  },
  {
   "cell_type": "code",
   "execution_count": 1,
   "metadata": {},
   "outputs": [],
   "source": [
    "import pandas as pd\n",
    "from graphdbfunctions import *\n",
    "from graph_evaluation import *\n",
    "from namespaces import *"
   ]
  },
  {
   "cell_type": "code",
   "execution_count": 2,
   "metadata": {},
   "outputs": [],
   "source": [
    "GRAPHDB_HOST = \"http://localhost:7200\"\n",
    "GRAPHDB_REPO = 'lhay' # Your repository ID/Name\n",
    "proxies = {\n",
    " \"http\": None,\n",
    " \"https\": None,\n",
    "}"
   ]
  },
  {
   "cell_type": "markdown",
   "metadata": {},
   "source": [
    "### 1. Global metrics"
   ]
  },
  {
   "cell_type": "code",
   "execution_count": 3,
   "metadata": {},
   "outputs": [],
   "source": [
    "query_all = \"\"\"\n",
    "PREFIX rico: <https://www.ica.org/standards/RiC/ontology#>\n",
    "PREFIX addr: <http://rdf.geohistoricaldata.org/def/address#>\n",
    "SELECT ?s ?p \n",
    "WHERE {\n",
    "    {\n",
    "    SELECT ?s ?p\n",
    "    WHERE {GRAPH <GRAPH_URI> {\n",
    "            ?s rico:hasCreationDate/addr:timeStamp ?o.\n",
    "            BIND(\"rico:hasCreationDate/addr:timeStamp\" AS ?p)\n",
    "            FILTER (!STRSTARTS(STR(?s), \"_:\"))\n",
    " \t\t\tFILTER (isLiteral(?o))\n",
    " \t\t\tFILTER (!isLiteral(?s))\n",
    "        }}\n",
    "    } UNION {\n",
    "        SELECT ?s ?p\n",
    "    \tWHERE {GRAPH <GRAPH_URI> {\n",
    "            ?s addr:hasTime/addr:timeStamp ?o\n",
    "            BIND(\"addr:hasTime/addr:timeStamp\" AS ?p)\n",
    "            FILTER (!STRSTARTS(STR(?s), \"_:\"))\n",
    " \t\t\tFILTER (isLiteral(?o))\n",
    " \t\t\tFILTER (!isLiteral(?s))\n",
    "        }}\n",
    "    } UNION {\n",
    "        SELECT ?s ?p\n",
    "    \tWHERE {GRAPH <GRAPH_URI> {\n",
    "            ?s ?p ?o\n",
    "            FILTER (!STRSTARTS(STR(?s), \"_:\"))\n",
    " \t\t\tFILTER (isLiteral(?o))\n",
    " \t\t\tFILTER (!isLiteral(?s))\n",
    "        }}\n",
    "    }\n",
    "}\n",
    "\"\"\""
   ]
  },
  {
   "cell_type": "code",
   "execution_count": 4,
   "metadata": {},
   "outputs": [],
   "source": [
    "gold_triples, pred_triples = get_triples(query_all, \"http://rdf.geohistoricaldata.org/gold\",\"http://rdf.geohistoricaldata.org/auto\",GRAPHDB_HOST,GRAPHDB_REPO,proxies)"
   ]
  },
  {
   "cell_type": "code",
   "execution_count": 5,
   "metadata": {},
   "outputs": [
    {
     "name": "stdout",
     "output_type": "stream",
     "text": [
      "Number of triples in gold : 2877\n",
      "Number of triples in pred : 3019\n"
     ]
    }
   ],
   "source": [
    "print(f'Number of triples in gold : {len(gold_triples)}')\n",
    "print(f'Number of triples in pred : {len(pred_triples)}')"
   ]
  },
  {
   "cell_type": "code",
   "execution_count": 6,
   "metadata": {},
   "outputs": [],
   "source": [
    "gold_in_pred, gold_not_in_pred, pred_in_gold, pred_not_in_gold = compare_dfs(gold_triples, pred_triples)"
   ]
  },
  {
   "cell_type": "code",
   "execution_count": 7,
   "metadata": {},
   "outputs": [
    {
     "data": {
      "text/plain": [
       "{'Agreement': 87.35000000000001, 'Deficit': 12.65, 'Surplus': 16.66}"
      ]
     },
     "execution_count": 7,
     "metadata": {},
     "output_type": "execute_result"
    }
   ],
   "source": [
    "metrics_all = compute_metrics(gold_triples,pred_triples)\n",
    "metrics_all"
   ]
  },
  {
   "cell_type": "markdown",
   "metadata": {},
   "source": [
    "## 2. Plot identifiers values\n",
    "For the *Landmark* of type *Plot* which have homologues in the predited ad gold graphs, compute the similirity between plot identifiers (similarity = 1). "
   ]
  },
  {
   "cell_type": "code",
   "execution_count": 8,
   "metadata": {},
   "outputs": [],
   "source": [
    "query_identifiers = prefixes + \"\"\"\n",
    "select ?s ?value\n",
    "where {\n",
    "    graph <GRAPH_URI> {\n",
    "    ?s a addr:Landmark.\n",
    "    ?s addr:isLandmarkType cad_ltype:Plot.\n",
    "    ?s dcterms:identifier ?value. \n",
    "}}\n",
    "\"\"\""
   ]
  },
  {
   "cell_type": "code",
   "execution_count": 9,
   "metadata": {},
   "outputs": [],
   "source": [
    "gold, pred = get_triples(query_identifiers, \"http://rdf.geohistoricaldata.org/gold\", \"http://rdf.geohistoricaldata.org/auto\",GRAPHDB_HOST,GRAPHDB_REPO,proxies)"
   ]
  },
  {
   "cell_type": "code",
   "execution_count": 10,
   "metadata": {},
   "outputs": [],
   "source": [
    "for c in [\"s\"]:\n",
    "    for prefix, uri in prefixes_dict.items():\n",
    "        gold[c] = gold[c].str.replace(prefix, uri, regex=False)\n",
    "        pred[c] = pred[c].str.replace(prefix, uri, regex=False)"
   ]
  },
  {
   "cell_type": "code",
   "execution_count": 11,
   "metadata": {},
   "outputs": [
    {
     "name": "stdout",
     "output_type": "stream",
     "text": [
      "Number of triples in gold : 362\n",
      "Number of triples in pred : 357\n"
     ]
    }
   ],
   "source": [
    "print(f'Number of triples in gold : {len(gold)}')\n",
    "print(f'Number of triples in pred : {len(pred)}')"
   ]
  },
  {
   "cell_type": "code",
   "execution_count": 12,
   "metadata": {},
   "outputs": [],
   "source": [
    "gold_in_pred, gold_not_in_pred, pred_in_gold, pred_not_in_gold = compare_dfs(gold, pred)"
   ]
  },
  {
   "cell_type": "code",
   "execution_count": 13,
   "metadata": {},
   "outputs": [
    {
     "data": {
      "text/plain": [
       "{'Agreement': 92.54, 'Deficit': 7.46, 'Surplus': 6.16}"
      ]
     },
     "execution_count": 13,
     "metadata": {},
     "output_type": "execute_result"
    }
   ],
   "source": [
    "metrics_identifiers = compute_metrics(gold,pred)\n",
    "metrics_identifiers"
   ]
  },
  {
   "cell_type": "markdown",
   "metadata": {},
   "source": [
    "To go further in the analysis of the plot identifiers, we compute normalized levenshtein distance on erroneous identifiers."
   ]
  },
  {
   "cell_type": "code",
   "execution_count": 14,
   "metadata": {},
   "outputs": [
    {
     "data": {
      "text/html": [
       "<div>\n",
       "<style scoped>\n",
       "    .dataframe tbody tr th:only-of-type {\n",
       "        vertical-align: middle;\n",
       "    }\n",
       "\n",
       "    .dataframe tbody tr th {\n",
       "        vertical-align: top;\n",
       "    }\n",
       "\n",
       "    .dataframe thead th {\n",
       "        text-align: right;\n",
       "    }\n",
       "</style>\n",
       "<table border=\"1\" class=\"dataframe\">\n",
       "  <thead>\n",
       "    <tr style=\"text-align: right;\">\n",
       "      <th></th>\n",
       "      <th>s_gold</th>\n",
       "      <th>value_gold</th>\n",
       "      <th>s_pred</th>\n",
       "      <th>value_pred</th>\n",
       "      <th>_merge</th>\n",
       "    </tr>\n",
       "  </thead>\n",
       "  <tbody>\n",
       "    <tr>\n",
       "      <th>0</th>\n",
       "      <td>landmark:0058f229-3c7d-4157-9ea5-ae12e04c03f9_...</td>\n",
       "      <td>B-277</td>\n",
       "      <td>NaN</td>\n",
       "      <td>NaN</td>\n",
       "      <td>left_only</td>\n",
       "    </tr>\n",
       "    <tr>\n",
       "      <th>1</th>\n",
       "      <td>landmark:00876f72-28fc-4dce-a73f-0eebd7bad322_...</td>\n",
       "      <td>B-99</td>\n",
       "      <td>landmark:00876f72-28fc-4dce-a73f-0eebd7bad322_...</td>\n",
       "      <td>B-99</td>\n",
       "      <td>both</td>\n",
       "    </tr>\n",
       "    <tr>\n",
       "      <th>2</th>\n",
       "      <td>landmark:0198dde0-a49d-45f5-a7ed-426b199f7c56_...</td>\n",
       "      <td>B-236</td>\n",
       "      <td>landmark:0198dde0-a49d-45f5-a7ed-426b199f7c56_...</td>\n",
       "      <td>B-236</td>\n",
       "      <td>both</td>\n",
       "    </tr>\n",
       "    <tr>\n",
       "      <th>3</th>\n",
       "      <td>landmark:02aaa7bf-1e7b-4f77-a2e5-f6675dd030c9_...</td>\n",
       "      <td>B-185</td>\n",
       "      <td>landmark:02aaa7bf-1e7b-4f77-a2e5-f6675dd030c9_...</td>\n",
       "      <td>B-185</td>\n",
       "      <td>both</td>\n",
       "    </tr>\n",
       "    <tr>\n",
       "      <th>4</th>\n",
       "      <td>landmark:02cbcebf-e843-4f17-b58f-92903ed4e75a_...</td>\n",
       "      <td>B-289</td>\n",
       "      <td>landmark:02cbcebf-e843-4f17-b58f-92903ed4e75a_...</td>\n",
       "      <td>B-289</td>\n",
       "      <td>both</td>\n",
       "    </tr>\n",
       "    <tr>\n",
       "      <th>...</th>\n",
       "      <td>...</td>\n",
       "      <td>...</td>\n",
       "      <td>...</td>\n",
       "      <td>...</td>\n",
       "      <td>...</td>\n",
       "    </tr>\n",
       "    <tr>\n",
       "      <th>370</th>\n",
       "      <td>landmark:fd4fa06d-e9f6-4f13-b043-e1516a8239ef_...</td>\n",
       "      <td>B-276</td>\n",
       "      <td>NaN</td>\n",
       "      <td>NaN</td>\n",
       "      <td>left_only</td>\n",
       "    </tr>\n",
       "    <tr>\n",
       "      <th>371</th>\n",
       "      <td>landmark:fd65acf9-998a-4d60-b72e-aa958967f1ba_...</td>\n",
       "      <td>B-124</td>\n",
       "      <td>landmark:fd65acf9-998a-4d60-b72e-aa958967f1ba_...</td>\n",
       "      <td>B-124</td>\n",
       "      <td>both</td>\n",
       "    </tr>\n",
       "    <tr>\n",
       "      <th>372</th>\n",
       "      <td>landmark:fd7e03b0-d2f7-4188-9e33-42c1018684dc_...</td>\n",
       "      <td>B-59</td>\n",
       "      <td>landmark:fd7e03b0-d2f7-4188-9e33-42c1018684dc_...</td>\n",
       "      <td>B-59</td>\n",
       "      <td>both</td>\n",
       "    </tr>\n",
       "    <tr>\n",
       "      <th>373</th>\n",
       "      <td>landmark:ff729965-a9be-4a4c-b133-d9bc6b53eb1b_...</td>\n",
       "      <td>B-205</td>\n",
       "      <td>landmark:ff729965-a9be-4a4c-b133-d9bc6b53eb1b_...</td>\n",
       "      <td>B-205</td>\n",
       "      <td>both</td>\n",
       "    </tr>\n",
       "    <tr>\n",
       "      <th>374</th>\n",
       "      <td>landmark:ff9b509e-d741-48c3-aa5f-a8d6e2d433c6_...</td>\n",
       "      <td>B-132</td>\n",
       "      <td>landmark:ff9b509e-d741-48c3-aa5f-a8d6e2d433c6_...</td>\n",
       "      <td>B-132</td>\n",
       "      <td>both</td>\n",
       "    </tr>\n",
       "  </tbody>\n",
       "</table>\n",
       "<p>375 rows × 5 columns</p>\n",
       "</div>"
      ],
      "text/plain": [
       "                                                s_gold value_gold  \\\n",
       "0    landmark:0058f229-3c7d-4157-9ea5-ae12e04c03f9_...      B-277   \n",
       "1    landmark:00876f72-28fc-4dce-a73f-0eebd7bad322_...       B-99   \n",
       "2    landmark:0198dde0-a49d-45f5-a7ed-426b199f7c56_...      B-236   \n",
       "3    landmark:02aaa7bf-1e7b-4f77-a2e5-f6675dd030c9_...      B-185   \n",
       "4    landmark:02cbcebf-e843-4f17-b58f-92903ed4e75a_...      B-289   \n",
       "..                                                 ...        ...   \n",
       "370  landmark:fd4fa06d-e9f6-4f13-b043-e1516a8239ef_...      B-276   \n",
       "371  landmark:fd65acf9-998a-4d60-b72e-aa958967f1ba_...      B-124   \n",
       "372  landmark:fd7e03b0-d2f7-4188-9e33-42c1018684dc_...       B-59   \n",
       "373  landmark:ff729965-a9be-4a4c-b133-d9bc6b53eb1b_...      B-205   \n",
       "374  landmark:ff9b509e-d741-48c3-aa5f-a8d6e2d433c6_...      B-132   \n",
       "\n",
       "                                                s_pred value_pred     _merge  \n",
       "0                                                  NaN        NaN  left_only  \n",
       "1    landmark:00876f72-28fc-4dce-a73f-0eebd7bad322_...       B-99       both  \n",
       "2    landmark:0198dde0-a49d-45f5-a7ed-426b199f7c56_...      B-236       both  \n",
       "3    landmark:02aaa7bf-1e7b-4f77-a2e5-f6675dd030c9_...      B-185       both  \n",
       "4    landmark:02cbcebf-e843-4f17-b58f-92903ed4e75a_...      B-289       both  \n",
       "..                                                 ...        ...        ...  \n",
       "370                                                NaN        NaN  left_only  \n",
       "371  landmark:fd65acf9-998a-4d60-b72e-aa958967f1ba_...      B-124       both  \n",
       "372  landmark:fd7e03b0-d2f7-4188-9e33-42c1018684dc_...       B-59       both  \n",
       "373  landmark:ff729965-a9be-4a4c-b133-d9bc6b53eb1b_...      B-205       both  \n",
       "374  landmark:ff9b509e-d741-48c3-aa5f-a8d6e2d433c6_...      B-132       both  \n",
       "\n",
       "[375 rows x 5 columns]"
      ]
     },
     "execution_count": 14,
     "metadata": {},
     "output_type": "execute_result"
    }
   ],
   "source": [
    "#Join gold and pred df on s\n",
    "gold = gold.rename(columns={\"s\":\"s_gold\"})\n",
    "pred = pred.rename(columns={\"s\":\"s_pred\"})\n",
    "gold = gold.rename(columns={\"value\":\"value_gold\"})\n",
    "pred = pred.rename(columns={\"value\":\"value_pred\"})\n",
    "merged = pd.merge(gold, pred, left_on=\"s_gold\", right_on=\"s_pred\", how=\"outer\", indicator=True)\n",
    "merged"
   ]
  },
  {
   "cell_type": "code",
   "execution_count": 15,
   "metadata": {},
   "outputs": [],
   "source": [
    "merged_filtered_nan = merged[merged['value_gold'].notna() & merged['value_pred'].notna()]"
   ]
  },
  {
   "cell_type": "code",
   "execution_count": 16,
   "metadata": {},
   "outputs": [
    {
     "name": "stderr",
     "output_type": "stream",
     "text": [
      "C:\\Users\\stual\\AppData\\Local\\Temp\\ipykernel_6724\\913254037.py:2: SettingWithCopyWarning: \n",
      "A value is trying to be set on a copy of a slice from a DataFrame.\n",
      "Try using .loc[row_indexer,col_indexer] = value instead\n",
      "\n",
      "See the caveats in the documentation: https://pandas.pydata.org/pandas-docs/stable/user_guide/indexing.html#returning-a-view-versus-a-copy\n",
      "  merged_filtered_nan['levenshtein'] = merged_filtered_nan.apply(lambda row: normalized_levenshtein(row['value_gold'], row['value_pred']), axis=1)\n"
     ]
    }
   ],
   "source": [
    "#Compute normalized levenshtein distance beweend value_gold and value_pred\n",
    "merged_filtered_nan['levenshtein'] = merged_filtered_nan.apply(lambda row: normalized_levenshtein(row['value_gold'], row['value_pred']), axis=1)"
   ]
  },
  {
   "cell_type": "code",
   "execution_count": 17,
   "metadata": {},
   "outputs": [
    {
     "data": {
      "text/html": [
       "<div>\n",
       "<style scoped>\n",
       "    .dataframe tbody tr th:only-of-type {\n",
       "        vertical-align: middle;\n",
       "    }\n",
       "\n",
       "    .dataframe tbody tr th {\n",
       "        vertical-align: top;\n",
       "    }\n",
       "\n",
       "    .dataframe thead th {\n",
       "        text-align: right;\n",
       "    }\n",
       "</style>\n",
       "<table border=\"1\" class=\"dataframe\">\n",
       "  <thead>\n",
       "    <tr style=\"text-align: right;\">\n",
       "      <th></th>\n",
       "      <th>s_gold</th>\n",
       "      <th>value_gold</th>\n",
       "      <th>s_pred</th>\n",
       "      <th>value_pred</th>\n",
       "      <th>_merge</th>\n",
       "      <th>levenshtein</th>\n",
       "    </tr>\n",
       "  </thead>\n",
       "  <tbody>\n",
       "    <tr>\n",
       "      <th>1</th>\n",
       "      <td>landmark:00876f72-28fc-4dce-a73f-0eebd7bad322_...</td>\n",
       "      <td>B-99</td>\n",
       "      <td>landmark:00876f72-28fc-4dce-a73f-0eebd7bad322_...</td>\n",
       "      <td>B-99</td>\n",
       "      <td>both</td>\n",
       "      <td>1.0</td>\n",
       "    </tr>\n",
       "    <tr>\n",
       "      <th>2</th>\n",
       "      <td>landmark:0198dde0-a49d-45f5-a7ed-426b199f7c56_...</td>\n",
       "      <td>B-236</td>\n",
       "      <td>landmark:0198dde0-a49d-45f5-a7ed-426b199f7c56_...</td>\n",
       "      <td>B-236</td>\n",
       "      <td>both</td>\n",
       "      <td>1.0</td>\n",
       "    </tr>\n",
       "    <tr>\n",
       "      <th>3</th>\n",
       "      <td>landmark:02aaa7bf-1e7b-4f77-a2e5-f6675dd030c9_...</td>\n",
       "      <td>B-185</td>\n",
       "      <td>landmark:02aaa7bf-1e7b-4f77-a2e5-f6675dd030c9_...</td>\n",
       "      <td>B-185</td>\n",
       "      <td>both</td>\n",
       "      <td>1.0</td>\n",
       "    </tr>\n",
       "    <tr>\n",
       "      <th>4</th>\n",
       "      <td>landmark:02cbcebf-e843-4f17-b58f-92903ed4e75a_...</td>\n",
       "      <td>B-289</td>\n",
       "      <td>landmark:02cbcebf-e843-4f17-b58f-92903ed4e75a_...</td>\n",
       "      <td>B-289</td>\n",
       "      <td>both</td>\n",
       "      <td>1.0</td>\n",
       "    </tr>\n",
       "    <tr>\n",
       "      <th>5</th>\n",
       "      <td>landmark:0376160c-792b-4c7c-9f4f-b26cdb17c9cb_...</td>\n",
       "      <td>B-269</td>\n",
       "      <td>landmark:0376160c-792b-4c7c-9f4f-b26cdb17c9cb_...</td>\n",
       "      <td>B-269</td>\n",
       "      <td>both</td>\n",
       "      <td>1.0</td>\n",
       "    </tr>\n",
       "    <tr>\n",
       "      <th>...</th>\n",
       "      <td>...</td>\n",
       "      <td>...</td>\n",
       "      <td>...</td>\n",
       "      <td>...</td>\n",
       "      <td>...</td>\n",
       "      <td>...</td>\n",
       "    </tr>\n",
       "    <tr>\n",
       "      <th>369</th>\n",
       "      <td>landmark:fbe14ec1-4111-4360-9695-658b38bb2c41_...</td>\n",
       "      <td>B-22</td>\n",
       "      <td>landmark:fbe14ec1-4111-4360-9695-658b38bb2c41_...</td>\n",
       "      <td>B-22</td>\n",
       "      <td>both</td>\n",
       "      <td>1.0</td>\n",
       "    </tr>\n",
       "    <tr>\n",
       "      <th>371</th>\n",
       "      <td>landmark:fd65acf9-998a-4d60-b72e-aa958967f1ba_...</td>\n",
       "      <td>B-124</td>\n",
       "      <td>landmark:fd65acf9-998a-4d60-b72e-aa958967f1ba_...</td>\n",
       "      <td>B-124</td>\n",
       "      <td>both</td>\n",
       "      <td>1.0</td>\n",
       "    </tr>\n",
       "    <tr>\n",
       "      <th>372</th>\n",
       "      <td>landmark:fd7e03b0-d2f7-4188-9e33-42c1018684dc_...</td>\n",
       "      <td>B-59</td>\n",
       "      <td>landmark:fd7e03b0-d2f7-4188-9e33-42c1018684dc_...</td>\n",
       "      <td>B-59</td>\n",
       "      <td>both</td>\n",
       "      <td>1.0</td>\n",
       "    </tr>\n",
       "    <tr>\n",
       "      <th>373</th>\n",
       "      <td>landmark:ff729965-a9be-4a4c-b133-d9bc6b53eb1b_...</td>\n",
       "      <td>B-205</td>\n",
       "      <td>landmark:ff729965-a9be-4a4c-b133-d9bc6b53eb1b_...</td>\n",
       "      <td>B-205</td>\n",
       "      <td>both</td>\n",
       "      <td>1.0</td>\n",
       "    </tr>\n",
       "    <tr>\n",
       "      <th>374</th>\n",
       "      <td>landmark:ff9b509e-d741-48c3-aa5f-a8d6e2d433c6_...</td>\n",
       "      <td>B-132</td>\n",
       "      <td>landmark:ff9b509e-d741-48c3-aa5f-a8d6e2d433c6_...</td>\n",
       "      <td>B-132</td>\n",
       "      <td>both</td>\n",
       "      <td>1.0</td>\n",
       "    </tr>\n",
       "  </tbody>\n",
       "</table>\n",
       "<p>344 rows × 6 columns</p>\n",
       "</div>"
      ],
      "text/plain": [
       "                                                s_gold value_gold  \\\n",
       "1    landmark:00876f72-28fc-4dce-a73f-0eebd7bad322_...       B-99   \n",
       "2    landmark:0198dde0-a49d-45f5-a7ed-426b199f7c56_...      B-236   \n",
       "3    landmark:02aaa7bf-1e7b-4f77-a2e5-f6675dd030c9_...      B-185   \n",
       "4    landmark:02cbcebf-e843-4f17-b58f-92903ed4e75a_...      B-289   \n",
       "5    landmark:0376160c-792b-4c7c-9f4f-b26cdb17c9cb_...      B-269   \n",
       "..                                                 ...        ...   \n",
       "369  landmark:fbe14ec1-4111-4360-9695-658b38bb2c41_...       B-22   \n",
       "371  landmark:fd65acf9-998a-4d60-b72e-aa958967f1ba_...      B-124   \n",
       "372  landmark:fd7e03b0-d2f7-4188-9e33-42c1018684dc_...       B-59   \n",
       "373  landmark:ff729965-a9be-4a4c-b133-d9bc6b53eb1b_...      B-205   \n",
       "374  landmark:ff9b509e-d741-48c3-aa5f-a8d6e2d433c6_...      B-132   \n",
       "\n",
       "                                                s_pred value_pred _merge  \\\n",
       "1    landmark:00876f72-28fc-4dce-a73f-0eebd7bad322_...       B-99   both   \n",
       "2    landmark:0198dde0-a49d-45f5-a7ed-426b199f7c56_...      B-236   both   \n",
       "3    landmark:02aaa7bf-1e7b-4f77-a2e5-f6675dd030c9_...      B-185   both   \n",
       "4    landmark:02cbcebf-e843-4f17-b58f-92903ed4e75a_...      B-289   both   \n",
       "5    landmark:0376160c-792b-4c7c-9f4f-b26cdb17c9cb_...      B-269   both   \n",
       "..                                                 ...        ...    ...   \n",
       "369  landmark:fbe14ec1-4111-4360-9695-658b38bb2c41_...       B-22   both   \n",
       "371  landmark:fd65acf9-998a-4d60-b72e-aa958967f1ba_...      B-124   both   \n",
       "372  landmark:fd7e03b0-d2f7-4188-9e33-42c1018684dc_...       B-59   both   \n",
       "373  landmark:ff729965-a9be-4a4c-b133-d9bc6b53eb1b_...      B-205   both   \n",
       "374  landmark:ff9b509e-d741-48c3-aa5f-a8d6e2d433c6_...      B-132   both   \n",
       "\n",
       "     levenshtein  \n",
       "1            1.0  \n",
       "2            1.0  \n",
       "3            1.0  \n",
       "4            1.0  \n",
       "5            1.0  \n",
       "..           ...  \n",
       "369          1.0  \n",
       "371          1.0  \n",
       "372          1.0  \n",
       "373          1.0  \n",
       "374          1.0  \n",
       "\n",
       "[344 rows x 6 columns]"
      ]
     },
     "execution_count": 17,
     "metadata": {},
     "output_type": "execute_result"
    }
   ],
   "source": [
    "merged_filtered_nan"
   ]
  },
  {
   "cell_type": "code",
   "execution_count": 18,
   "metadata": {},
   "outputs": [
    {
     "name": "stdout",
     "output_type": "stream",
     "text": [
      "Exemples where levenshtein is lower than 1.0\n",
      "gold: B-353bis pred: B-353bT levenshtein: 0.75\n",
      "gold: B-216bis pred: B-216 levenshtein: 0.62\n",
      "gold: B-254 pred: B-2547 levenshtein: 0.83\n",
      "gold: B-255 pred: B-2548 levenshtein: 0.67\n",
      "gold: B-76bis pred: B-76 levenshtein: 0.57\n",
      "gold: B-256 pred: B-2549 levenshtein: 0.67\n",
      "gold: B-352 pred: B-UNKNOWN levenshtein: 0.22\n",
      "gold: B-52 pred: B-UNKNOWN levenshtein: 0.22\n",
      "gold: B-×206± pred: B-206 levenshtein: 0.71\n",
      "\\begin{tabular}{lllr}\n",
      "\\toprule\n",
      " & gold & pred & levenshtein similarity \\\\\n",
      "\\midrule\n",
      "0 & B-353bis & B-353bT & 0.750000 \\\\\n",
      "1 & B-216bis & B-216 & 0.625000 \\\\\n",
      "2 & B-254 & B-2547 & 0.833333 \\\\\n",
      "3 & B-255 & B-2548 & 0.666667 \\\\\n",
      "4 & B-76bis & B-76 & 0.571429 \\\\\n",
      "5 & B-256 & B-2549 & 0.666667 \\\\\n",
      "6 & B-352 & B-UNKNOWN & 0.222222 \\\\\n",
      "7 & B-52 & B-UNKNOWN & 0.222222 \\\\\n",
      "8 & B-×206± & B-206 & 0.714286 \\\\\n",
      "\\bottomrule\n",
      "\\end{tabular}\n",
      "\n"
     ]
    }
   ],
   "source": [
    "#Print exemple where levenshtein is lower than 1.0\n",
    "levenshtein_errors = []\n",
    "print(\"Exemples where levenshtein is lower than 1.0\")\n",
    "for index, row in merged_filtered_nan.iterrows():\n",
    "    if row['levenshtein'] < 1.0:\n",
    "        print(f\"gold: {row['value_gold']} pred: {row['value_pred']} levenshtein: {round(row['levenshtein'],2)}\")\n",
    "        levenshtein_errors.append((row['value_gold'], row['value_pred'], row['levenshtein']))\n",
    "\n",
    "levenshtein_errors_df = pd.DataFrame(levenshtein_errors, columns=['gold', 'pred', 'levenshtein similarity'])\n",
    "print(levenshtein_errors_df.to_latex())"
   ]
  },
  {
   "cell_type": "markdown",
   "metadata": {},
   "source": [
    "Different type of not similar values : \n",
    "* noisy number recognition\n",
    "* \"bis\" or \"ter\" not transcribed or noisy\n",
    "* missed number"
   ]
  }
 ],
 "metadata": {
  "kernelspec": {
   "display_name": ".venv",
   "language": "python",
   "name": "python3"
  },
  "language_info": {
   "codemirror_mode": {
    "name": "ipython",
    "version": 3
   },
   "file_extension": ".py",
   "mimetype": "text/x-python",
   "name": "python",
   "nbconvert_exporter": "python",
   "pygments_lexer": "ipython3",
   "version": "3.10.8"
  }
 },
 "nbformat": 4,
 "nbformat_minor": 2
}
